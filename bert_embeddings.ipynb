{
 "cells": [
  {
   "cell_type": "code",
   "execution_count": 6,
   "id": "9b242cf442b127be",
   "metadata": {
    "collapsed": false,
    "ExecuteTime": {
     "end_time": "2024-10-25T13:23:59.205340Z",
     "start_time": "2024-10-25T13:23:57.088700Z"
    }
   },
   "outputs": [
    {
     "name": "stdout",
     "output_type": "stream",
     "text": [
      "Requirement already satisfied: transformers in /Users/aceto/anaconda3/lib/python3.11/site-packages (4.44.1)\r\n",
      "Requirement already satisfied: torch in /Users/aceto/anaconda3/lib/python3.11/site-packages (2.4.1)\r\n",
      "Requirement already satisfied: pandas in /Users/aceto/anaconda3/lib/python3.11/site-packages (2.2.2)\r\n",
      "Requirement already satisfied: matplotlib in /Users/aceto/anaconda3/lib/python3.11/site-packages (3.9.2)\r\n",
      "Requirement already satisfied: sentence-transformers in /Users/aceto/anaconda3/lib/python3.11/site-packages (3.2.0)\r\n",
      "Requirement already satisfied: filelock in /Users/aceto/anaconda3/lib/python3.11/site-packages (from transformers) (3.13.1)\r\n",
      "Requirement already satisfied: huggingface-hub<1.0,>=0.23.2 in /Users/aceto/anaconda3/lib/python3.11/site-packages (from transformers) (0.24.6)\r\n",
      "Requirement already satisfied: numpy>=1.17 in /Users/aceto/anaconda3/lib/python3.11/site-packages (from transformers) (1.26.4)\r\n",
      "Requirement already satisfied: packaging>=20.0 in /Users/aceto/anaconda3/lib/python3.11/site-packages (from transformers) (24.1)\r\n",
      "Requirement already satisfied: pyyaml>=5.1 in /Users/aceto/anaconda3/lib/python3.11/site-packages (from transformers) (6.0.1)\r\n",
      "Requirement already satisfied: regex!=2019.12.17 in /Users/aceto/anaconda3/lib/python3.11/site-packages (from transformers) (2024.7.24)\r\n",
      "Requirement already satisfied: requests in /Users/aceto/anaconda3/lib/python3.11/site-packages (from transformers) (2.32.3)\r\n",
      "Requirement already satisfied: tokenizers<0.20,>=0.19 in /Users/aceto/anaconda3/lib/python3.11/site-packages (from transformers) (0.19.1)\r\n",
      "Requirement already satisfied: safetensors>=0.4.1 in /Users/aceto/anaconda3/lib/python3.11/site-packages (from transformers) (0.4.4)\r\n",
      "Requirement already satisfied: tqdm>=4.27 in /Users/aceto/anaconda3/lib/python3.11/site-packages (from transformers) (4.66.5)\r\n",
      "Requirement already satisfied: typing-extensions>=4.8.0 in /Users/aceto/anaconda3/lib/python3.11/site-packages (from torch) (4.11.0)\r\n",
      "Requirement already satisfied: sympy in /Users/aceto/anaconda3/lib/python3.11/site-packages (from torch) (1.13.2)\r\n",
      "Requirement already satisfied: networkx in /Users/aceto/anaconda3/lib/python3.11/site-packages (from torch) (3.3)\r\n",
      "Requirement already satisfied: jinja2 in /Users/aceto/anaconda3/lib/python3.11/site-packages (from torch) (3.1.4)\r\n",
      "Requirement already satisfied: fsspec in /Users/aceto/anaconda3/lib/python3.11/site-packages (from torch) (2024.3.1)\r\n",
      "Requirement already satisfied: python-dateutil>=2.8.2 in /Users/aceto/anaconda3/lib/python3.11/site-packages (from pandas) (2.9.0.post0)\r\n",
      "Requirement already satisfied: pytz>=2020.1 in /Users/aceto/anaconda3/lib/python3.11/site-packages (from pandas) (2024.1)\r\n",
      "Requirement already satisfied: tzdata>=2022.7 in /Users/aceto/anaconda3/lib/python3.11/site-packages (from pandas) (2023.3)\r\n",
      "Requirement already satisfied: contourpy>=1.0.1 in /Users/aceto/anaconda3/lib/python3.11/site-packages (from matplotlib) (1.2.0)\r\n",
      "Requirement already satisfied: cycler>=0.10 in /Users/aceto/anaconda3/lib/python3.11/site-packages (from matplotlib) (0.11.0)\r\n",
      "Requirement already satisfied: fonttools>=4.22.0 in /Users/aceto/anaconda3/lib/python3.11/site-packages (from matplotlib) (4.51.0)\r\n",
      "Requirement already satisfied: kiwisolver>=1.3.1 in /Users/aceto/anaconda3/lib/python3.11/site-packages (from matplotlib) (1.4.4)\r\n",
      "Requirement already satisfied: pillow>=8 in /Users/aceto/anaconda3/lib/python3.11/site-packages (from matplotlib) (10.4.0)\r\n",
      "Requirement already satisfied: pyparsing>=2.3.1 in /Users/aceto/anaconda3/lib/python3.11/site-packages (from matplotlib) (3.1.2)\r\n",
      "Requirement already satisfied: scikit-learn in /Users/aceto/anaconda3/lib/python3.11/site-packages (from sentence-transformers) (1.5.1)\r\n",
      "Requirement already satisfied: scipy in /Users/aceto/anaconda3/lib/python3.11/site-packages (from sentence-transformers) (1.13.1)\r\n",
      "Requirement already satisfied: six>=1.5 in /Users/aceto/anaconda3/lib/python3.11/site-packages (from python-dateutil>=2.8.2->pandas) (1.16.0)\r\n",
      "Requirement already satisfied: MarkupSafe>=2.0 in /Users/aceto/anaconda3/lib/python3.11/site-packages (from jinja2->torch) (2.1.3)\r\n",
      "Requirement already satisfied: charset-normalizer<4,>=2 in /Users/aceto/anaconda3/lib/python3.11/site-packages (from requests->transformers) (3.3.2)\r\n",
      "Requirement already satisfied: idna<4,>=2.5 in /Users/aceto/anaconda3/lib/python3.11/site-packages (from requests->transformers) (3.7)\r\n",
      "Requirement already satisfied: urllib3<3,>=1.21.1 in /Users/aceto/anaconda3/lib/python3.11/site-packages (from requests->transformers) (2.2.2)\r\n",
      "Requirement already satisfied: certifi>=2017.4.17 in /Users/aceto/anaconda3/lib/python3.11/site-packages (from requests->transformers) (2024.8.30)\r\n",
      "Requirement already satisfied: joblib>=1.2.0 in /Users/aceto/anaconda3/lib/python3.11/site-packages (from scikit-learn->sentence-transformers) (1.4.2)\r\n",
      "Requirement already satisfied: threadpoolctl>=3.1.0 in /Users/aceto/anaconda3/lib/python3.11/site-packages (from scikit-learn->sentence-transformers) (3.5.0)\r\n",
      "Requirement already satisfied: mpmath<1.4,>=1.1.0 in /Users/aceto/anaconda3/lib/python3.11/site-packages (from sympy->torch) (1.3.0)\r\n",
      "Note: you may need to restart the kernel to use updated packages.\n"
     ]
    }
   ],
   "source": [
    "%pip install transformers torch pandas matplotlib sentence-transformers"
   ]
  },
  {
   "cell_type": "code",
   "execution_count": 7,
   "id": "210494319d858d82",
   "metadata": {
    "collapsed": false,
    "ExecuteTime": {
     "end_time": "2024-10-25T13:23:59.205636Z",
     "start_time": "2024-10-25T13:23:59.200084Z"
    }
   },
   "outputs": [],
   "source": [
    "SOURCE = \"data/games.csv\"\n",
    "#SOURCE = r\"C:\\Users\\LUKY\\Downloads\\Steam Games Contexto\\archive\\games.csv\""
   ]
  },
  {
   "cell_type": "code",
   "execution_count": 8,
   "id": "initial_id",
   "metadata": {
    "collapsed": true,
    "ExecuteTime": {
     "end_time": "2024-10-25T13:23:59.205774Z",
     "start_time": "2024-10-25T13:23:59.202840Z"
    }
   },
   "outputs": [],
   "source": [
    "import pandas as pd\n",
    "from matplotlib import pyplot as plt"
   ]
  },
  {
   "cell_type": "code",
   "execution_count": 9,
   "id": "e4bc6d3bd146f58d",
   "metadata": {
    "collapsed": false,
    "ExecuteTime": {
     "end_time": "2024-10-25T13:24:01.637861Z",
     "start_time": "2024-10-25T13:23:59.207738Z"
    }
   },
   "outputs": [
    {
     "name": "stdout",
     "output_type": "stream",
     "text": [
      "id             97410\n",
      "name           97404\n",
      "description    92540\n",
      "languages      97410\n",
      "dtype: int64\n"
     ]
    },
    {
     "data": {
      "text/plain": "            id                    name  \\\n0        20200        Galactic Bowling   \n1       655370            Train Bandit   \n2      1732930            Jolt Project   \n3      1355720                Henosis™   \n4      1139950   Two Weeks in Painland   \n...        ...                     ...   \n97405  3080940  Femdom Game World: Mom   \n97406  2593970             Blocky Farm   \n97407  3137150    Infiltrate & Extract   \n97408  3124670       Escape The Garage   \n97409  3054200              Lober Lobe   \n\n                                             description  \\\n0      Galactic Bowling is an exaggerated and stylize...   \n1      THE LAW!! Looks to be a showdown atop a train....   \n2      Jolt Project: The army now has a new robotics ...   \n3      HENOSIS™ is a mysterious 2D Platform Puzzler w...   \n4      ABOUT THE GAME Play as a hacker who has arrang...   \n...                                                  ...   \n97405  . Femdom Game World - is a fascinating series ...   \n97406  Enter the charming world of Blocky Farm where ...   \n97407  Mission brief: You are deployed to a heavily g...   \n97408  Welcome to Escape The Garage, the thrilling es...   \n97409  Scan Brain Lobes Organize &amp; clear dangerou...   \n\n                                               languages  \n0                                            ['English']  \n1      ['English', 'French', 'Italian', 'German', 'Sp...  \n2                     ['English', 'Portuguese - Brazil']  \n3      ['English', 'French', 'Italian', 'German', 'Sp...  \n4                         ['English', 'Spanish - Spain']  \n...                                                  ...  \n97405                             ['English', 'Russian']  \n97406  ['English', 'French', 'Italian', 'German', 'Sp...  \n97407                                        ['English']  \n97408                                        ['English']  \n97409                                        ['English']  \n\n[97410 rows x 4 columns]",
      "text/html": "<div>\n<style scoped>\n    .dataframe tbody tr th:only-of-type {\n        vertical-align: middle;\n    }\n\n    .dataframe tbody tr th {\n        vertical-align: top;\n    }\n\n    .dataframe thead th {\n        text-align: right;\n    }\n</style>\n<table border=\"1\" class=\"dataframe\">\n  <thead>\n    <tr style=\"text-align: right;\">\n      <th></th>\n      <th>id</th>\n      <th>name</th>\n      <th>description</th>\n      <th>languages</th>\n    </tr>\n  </thead>\n  <tbody>\n    <tr>\n      <th>0</th>\n      <td>20200</td>\n      <td>Galactic Bowling</td>\n      <td>Galactic Bowling is an exaggerated and stylize...</td>\n      <td>['English']</td>\n    </tr>\n    <tr>\n      <th>1</th>\n      <td>655370</td>\n      <td>Train Bandit</td>\n      <td>THE LAW!! Looks to be a showdown atop a train....</td>\n      <td>['English', 'French', 'Italian', 'German', 'Sp...</td>\n    </tr>\n    <tr>\n      <th>2</th>\n      <td>1732930</td>\n      <td>Jolt Project</td>\n      <td>Jolt Project: The army now has a new robotics ...</td>\n      <td>['English', 'Portuguese - Brazil']</td>\n    </tr>\n    <tr>\n      <th>3</th>\n      <td>1355720</td>\n      <td>Henosis™</td>\n      <td>HENOSIS™ is a mysterious 2D Platform Puzzler w...</td>\n      <td>['English', 'French', 'Italian', 'German', 'Sp...</td>\n    </tr>\n    <tr>\n      <th>4</th>\n      <td>1139950</td>\n      <td>Two Weeks in Painland</td>\n      <td>ABOUT THE GAME Play as a hacker who has arrang...</td>\n      <td>['English', 'Spanish - Spain']</td>\n    </tr>\n    <tr>\n      <th>...</th>\n      <td>...</td>\n      <td>...</td>\n      <td>...</td>\n      <td>...</td>\n    </tr>\n    <tr>\n      <th>97405</th>\n      <td>3080940</td>\n      <td>Femdom Game World: Mom</td>\n      <td>. Femdom Game World - is a fascinating series ...</td>\n      <td>['English', 'Russian']</td>\n    </tr>\n    <tr>\n      <th>97406</th>\n      <td>2593970</td>\n      <td>Blocky Farm</td>\n      <td>Enter the charming world of Blocky Farm where ...</td>\n      <td>['English', 'French', 'Italian', 'German', 'Sp...</td>\n    </tr>\n    <tr>\n      <th>97407</th>\n      <td>3137150</td>\n      <td>Infiltrate &amp; Extract</td>\n      <td>Mission brief: You are deployed to a heavily g...</td>\n      <td>['English']</td>\n    </tr>\n    <tr>\n      <th>97408</th>\n      <td>3124670</td>\n      <td>Escape The Garage</td>\n      <td>Welcome to Escape The Garage, the thrilling es...</td>\n      <td>['English']</td>\n    </tr>\n    <tr>\n      <th>97409</th>\n      <td>3054200</td>\n      <td>Lober Lobe</td>\n      <td>Scan Brain Lobes Organize &amp;amp; clear dangerou...</td>\n      <td>['English']</td>\n    </tr>\n  </tbody>\n</table>\n<p>97410 rows × 4 columns</p>\n</div>"
     },
     "execution_count": 9,
     "metadata": {},
     "output_type": "execute_result"
    }
   ],
   "source": [
    "games = pd.read_csv(SOURCE)\n",
    "games =  games[['AppID', 'Name', 'About the game', 'Supported languages']]\n",
    "games.columns = ['id', 'name', 'description', 'languages']\n",
    "print(games.count())\n",
    "games"
   ]
  },
  {
   "cell_type": "markdown",
   "id": "fab01cb6c927a70d",
   "metadata": {
    "collapsed": false
   },
   "source": [
    "### Analyse missing values"
   ]
  },
  {
   "cell_type": "code",
   "execution_count": 10,
   "id": "53b9557cc36a8807",
   "metadata": {
    "collapsed": false,
    "ExecuteTime": {
     "end_time": "2024-10-25T13:24:01.688019Z",
     "start_time": "2024-10-25T13:24:01.644955Z"
    }
   },
   "outputs": [
    {
     "data": {
      "text/plain": "            id                                   name description languages\n105    1943590                         溪风谷之战 Playtest         NaN        []\n180    1966960                  Burial Stone Playtest         NaN        []\n214    1688630              Emperial Knights Playtest         NaN        []\n220    1478660                 Slotracers VR Playtest         NaN        []\n291    1613340  Pirates of the Asteroid Belt Playtest         NaN        []\n...        ...                                    ...         ...       ...\n97363  3043240                 Feed The Gods Playtest         NaN        []\n97385  3182940             The Invading Dark Playtest         NaN        []\n97387  3167240                     丧尸卡牌：生存对决 Playtest         NaN        []\n97392  3027950               Karate Survivor Playtest         NaN        []\n97404  3199580                        Carbon Playtest         NaN        []\n\n[4870 rows x 4 columns]",
      "text/html": "<div>\n<style scoped>\n    .dataframe tbody tr th:only-of-type {\n        vertical-align: middle;\n    }\n\n    .dataframe tbody tr th {\n        vertical-align: top;\n    }\n\n    .dataframe thead th {\n        text-align: right;\n    }\n</style>\n<table border=\"1\" class=\"dataframe\">\n  <thead>\n    <tr style=\"text-align: right;\">\n      <th></th>\n      <th>id</th>\n      <th>name</th>\n      <th>description</th>\n      <th>languages</th>\n    </tr>\n  </thead>\n  <tbody>\n    <tr>\n      <th>105</th>\n      <td>1943590</td>\n      <td>溪风谷之战 Playtest</td>\n      <td>NaN</td>\n      <td>[]</td>\n    </tr>\n    <tr>\n      <th>180</th>\n      <td>1966960</td>\n      <td>Burial Stone Playtest</td>\n      <td>NaN</td>\n      <td>[]</td>\n    </tr>\n    <tr>\n      <th>214</th>\n      <td>1688630</td>\n      <td>Emperial Knights Playtest</td>\n      <td>NaN</td>\n      <td>[]</td>\n    </tr>\n    <tr>\n      <th>220</th>\n      <td>1478660</td>\n      <td>Slotracers VR Playtest</td>\n      <td>NaN</td>\n      <td>[]</td>\n    </tr>\n    <tr>\n      <th>291</th>\n      <td>1613340</td>\n      <td>Pirates of the Asteroid Belt Playtest</td>\n      <td>NaN</td>\n      <td>[]</td>\n    </tr>\n    <tr>\n      <th>...</th>\n      <td>...</td>\n      <td>...</td>\n      <td>...</td>\n      <td>...</td>\n    </tr>\n    <tr>\n      <th>97363</th>\n      <td>3043240</td>\n      <td>Feed The Gods Playtest</td>\n      <td>NaN</td>\n      <td>[]</td>\n    </tr>\n    <tr>\n      <th>97385</th>\n      <td>3182940</td>\n      <td>The Invading Dark Playtest</td>\n      <td>NaN</td>\n      <td>[]</td>\n    </tr>\n    <tr>\n      <th>97387</th>\n      <td>3167240</td>\n      <td>丧尸卡牌：生存对决 Playtest</td>\n      <td>NaN</td>\n      <td>[]</td>\n    </tr>\n    <tr>\n      <th>97392</th>\n      <td>3027950</td>\n      <td>Karate Survivor Playtest</td>\n      <td>NaN</td>\n      <td>[]</td>\n    </tr>\n    <tr>\n      <th>97404</th>\n      <td>3199580</td>\n      <td>Carbon Playtest</td>\n      <td>NaN</td>\n      <td>[]</td>\n    </tr>\n  </tbody>\n</table>\n<p>4870 rows × 4 columns</p>\n</div>"
     },
     "execution_count": 10,
     "metadata": {},
     "output_type": "execute_result"
    }
   ],
   "source": [
    "na_descriptions = games[games['description'].isna()]\n",
    "games = games.dropna(subset=['description'])\n",
    "na_descriptions"
   ]
  },
  {
   "cell_type": "code",
   "execution_count": 11,
   "id": "dcd85edfe152259a",
   "metadata": {
    "collapsed": false,
    "ExecuteTime": {
     "end_time": "2024-10-25T13:24:01.689208Z",
     "start_time": "2024-10-25T13:24:01.661952Z"
    }
   },
   "outputs": [
    {
     "data": {
      "text/plain": "Empty DataFrame\nColumns: [id, name, description, languages]\nIndex: []",
      "text/html": "<div>\n<style scoped>\n    .dataframe tbody tr th:only-of-type {\n        vertical-align: middle;\n    }\n\n    .dataframe tbody tr th {\n        vertical-align: top;\n    }\n\n    .dataframe thead th {\n        text-align: right;\n    }\n</style>\n<table border=\"1\" class=\"dataframe\">\n  <thead>\n    <tr style=\"text-align: right;\">\n      <th></th>\n      <th>id</th>\n      <th>name</th>\n      <th>description</th>\n      <th>languages</th>\n    </tr>\n  </thead>\n  <tbody>\n  </tbody>\n</table>\n</div>"
     },
     "execution_count": 11,
     "metadata": {},
     "output_type": "execute_result"
    }
   ],
   "source": [
    "na_languages = games[games['languages'].isna()]\n",
    "na_languages"
   ]
  },
  {
   "cell_type": "markdown",
   "id": "17495cd9ffd61a7a",
   "metadata": {
    "collapsed": false
   },
   "source": [
    "### Analyse description length and language\n",
    "- Analyse if everything is available in english or not and if how much is in a different language\n",
    "- Analyse the length of the description"
   ]
  },
  {
   "cell_type": "code",
   "execution_count": 12,
   "id": "1a26053c82b8de13",
   "metadata": {
    "collapsed": false,
    "ExecuteTime": {
     "end_time": "2024-10-25T13:24:02.064830Z",
     "start_time": "2024-10-25T13:24:01.682375Z"
    }
   },
   "outputs": [
    {
     "name": "stderr",
     "output_type": "stream",
     "text": [
      "/var/folders/3r/gx5x0f7n6lvd5yzgw2zddpv80000gn/T/ipykernel_25453/1962219597.py:2: SettingWithCopyWarning: \n",
      "A value is trying to be set on a copy of a slice from a DataFrame.\n",
      "Try using .loc[row_indexer,col_indexer] = value instead\n",
      "\n",
      "See the caveats in the documentation: https://pandas.pydata.org/pandas-docs/stable/user_guide/indexing.html#returning-a-view-versus-a-copy\n",
      "  games['description_length'] = games['description'].apply(lambda x: len(str(x)))\n"
     ]
    },
    {
     "data": {
      "text/plain": "<Axes: >"
     },
     "execution_count": 12,
     "metadata": {},
     "output_type": "execute_result"
    },
    {
     "data": {
      "text/plain": "<Figure size 640x480 with 1 Axes>",
      "image/png": "[encoded data removed]"
     },
     "metadata": {},
     "output_type": "display_data"
    }
   ],
   "source": [
    "#Plot length of description in 10 buckets in a histogram\n",
    "games['description_length'] = games['description'].apply(lambda x: len(str(x)))\n",
    "games['description_length'].hist(bins=200, log=True)"
   ]
  },
  {
   "cell_type": "code",
   "execution_count": 13,
   "id": "22a97cfe3f55e856",
   "metadata": {
    "collapsed": false,
    "ExecuteTime": {
     "end_time": "2024-10-25T13:24:02.205542Z",
     "start_time": "2024-10-25T13:24:02.062519Z"
    }
   },
   "outputs": [
    {
     "data": {
      "text/plain": "<Axes: >"
     },
     "execution_count": 13,
     "metadata": {},
     "output_type": "execute_result"
    },
    {
     "data": {
      "text/plain": "<Figure size 640x480 with 1 Axes>",
      "image/png": "[encoded data removed]"
     },
     "metadata": {},
     "output_type": "display_data"
    }
   ],
   "source": [
    "games[games['description_length'] < 20000]['description_length'].hist(bins=50, log=True)"
   ]
  },
  {
   "cell_type": "code",
   "execution_count": 14,
   "id": "298d05821f5e6c12",
   "metadata": {
    "collapsed": false,
    "ExecuteTime": {
     "end_time": "2024-10-25T13:24:02.213312Z",
     "start_time": "2024-10-25T13:24:02.201672Z"
    }
   },
   "outputs": [
    {
     "data": {
      "text/plain": "            id                                      name description  \\\n8484    930840                          东方百问~TouHouAsked        Null   \n27215  1049220                                     Naxia    ABOUT US   \n32235   342570                   HIS (Heroes In the Sky)           -   \n41794   797660                                  God Test    God Test   \n56458  1493800       Aircraft Carrier Survival: Tutorial           /   \n59079   109600                               Neverwinter           '   \n70543  1885570                       Happy Live,Show Up!   游戏介绍 角色介绍   \n77044  1441010  The Pacifist's Great and Final Nightmare           -   \n77863  1269720                                       已下架         已下架   \n80857  2371310                                   Morphus     Socials   \n90296  2633210                        Catch Them Sweetie           /   \n92140  1658920              Crown Wars: The Black Prince           /   \n\n                                               languages  description_length  \n8484                              ['Simplified Chinese']                   4  \n27215                                        ['English']                   8  \n32235                                     ['Vietnamese']                   1  \n41794  ['Traditional Chinese', 'English', 'Simplified...                   8  \n56458  ['English', 'French', 'German', 'Polish', 'Por...                   1  \n59079  ['English', 'French', 'Italian', 'German', 'Ru...                   1  \n70543                             ['Simplified Chinese']                   9  \n77044                                        ['English']                   1  \n77863                             ['Simplified Chinese']                   3  \n80857                                        ['English']                   7  \n90296  ['English', 'German', 'Spanish - Spain', 'Port...                   1  \n92140  ['English', 'French', 'Italian', 'German', 'Sp...                   1  ",
      "text/html": "<div>\n<style scoped>\n    .dataframe tbody tr th:only-of-type {\n        vertical-align: middle;\n    }\n\n    .dataframe tbody tr th {\n        vertical-align: top;\n    }\n\n    .dataframe thead th {\n        text-align: right;\n    }\n</style>\n<table border=\"1\" class=\"dataframe\">\n  <thead>\n    <tr style=\"text-align: right;\">\n      <th></th>\n      <th>id</th>\n      <th>name</th>\n      <th>description</th>\n      <th>languages</th>\n      <th>description_length</th>\n    </tr>\n  </thead>\n  <tbody>\n    <tr>\n      <th>8484</th>\n      <td>930840</td>\n      <td>东方百问~TouHouAsked</td>\n      <td>Null</td>\n      <td>['Simplified Chinese']</td>\n      <td>4</td>\n    </tr>\n    <tr>\n      <th>27215</th>\n      <td>1049220</td>\n      <td>Naxia</td>\n      <td>ABOUT US</td>\n      <td>['English']</td>\n      <td>8</td>\n    </tr>\n    <tr>\n      <th>32235</th>\n      <td>342570</td>\n      <td>HIS (Heroes In the Sky)</td>\n      <td>-</td>\n      <td>['Vietnamese']</td>\n      <td>1</td>\n    </tr>\n    <tr>\n      <th>41794</th>\n      <td>797660</td>\n      <td>God Test</td>\n      <td>God Test</td>\n      <td>['Traditional Chinese', 'English', 'Simplified...</td>\n      <td>8</td>\n    </tr>\n    <tr>\n      <th>56458</th>\n      <td>1493800</td>\n      <td>Aircraft Carrier Survival: Tutorial</td>\n      <td>/</td>\n      <td>['English', 'French', 'German', 'Polish', 'Por...</td>\n      <td>1</td>\n    </tr>\n    <tr>\n      <th>59079</th>\n      <td>109600</td>\n      <td>Neverwinter</td>\n      <td>'</td>\n      <td>['English', 'French', 'Italian', 'German', 'Ru...</td>\n      <td>1</td>\n    </tr>\n    <tr>\n      <th>70543</th>\n      <td>1885570</td>\n      <td>Happy Live,Show Up!</td>\n      <td>游戏介绍 角色介绍</td>\n      <td>['Simplified Chinese']</td>\n      <td>9</td>\n    </tr>\n    <tr>\n      <th>77044</th>\n      <td>1441010</td>\n      <td>The Pacifist's Great and Final Nightmare</td>\n      <td>-</td>\n      <td>['English']</td>\n      <td>1</td>\n    </tr>\n    <tr>\n      <th>77863</th>\n      <td>1269720</td>\n      <td>已下架</td>\n      <td>已下架</td>\n      <td>['Simplified Chinese']</td>\n      <td>3</td>\n    </tr>\n    <tr>\n      <th>80857</th>\n      <td>2371310</td>\n      <td>Morphus</td>\n      <td>Socials</td>\n      <td>['English']</td>\n      <td>7</td>\n    </tr>\n    <tr>\n      <th>90296</th>\n      <td>2633210</td>\n      <td>Catch Them Sweetie</td>\n      <td>/</td>\n      <td>['English', 'German', 'Spanish - Spain', 'Port...</td>\n      <td>1</td>\n    </tr>\n    <tr>\n      <th>92140</th>\n      <td>1658920</td>\n      <td>Crown Wars: The Black Prince</td>\n      <td>/</td>\n      <td>['English', 'French', 'Italian', 'German', 'Sp...</td>\n      <td>1</td>\n    </tr>\n  </tbody>\n</table>\n</div>"
     },
     "execution_count": 14,
     "metadata": {},
     "output_type": "execute_result"
    }
   ],
   "source": [
    "games[games['description_length'] < 10]"
   ]
  },
  {
   "cell_type": "code",
   "execution_count": 15,
   "id": "7b9def563af08b44",
   "metadata": {
    "collapsed": false,
    "ExecuteTime": {
     "end_time": "2024-10-25T13:24:02.255160Z",
     "start_time": "2024-10-25T13:24:02.208826Z"
    }
   },
   "outputs": [
    {
     "name": "stderr",
     "output_type": "stream",
     "text": [
      "/var/folders/3r/gx5x0f7n6lvd5yzgw2zddpv80000gn/T/ipykernel_25453/567090912.py:2: SettingWithCopyWarning: \n",
      "A value is trying to be set on a copy of a slice from a DataFrame.\n",
      "Try using .loc[row_indexer,col_indexer] = value instead\n",
      "\n",
      "See the caveats in the documentation: https://pandas.pydata.org/pandas-docs/stable/user_guide/indexing.html#returning-a-view-versus-a-copy\n",
      "  games['english_available'] = games['languages'].apply(lambda x: 'english' in x.lower())\n"
     ]
    },
    {
     "data": {
      "text/plain": "english_available\nTrue     88131\nFalse     4409\nName: count, dtype: int64"
     },
     "execution_count": 15,
     "metadata": {},
     "output_type": "execute_result"
    }
   ],
   "source": [
    "#Analyse the languages\n",
    "games['english_available'] = games['languages'].apply(lambda x: 'english' in x.lower())\n",
    "games['english_available'].value_counts()"
   ]
  },
  {
   "cell_type": "code",
   "execution_count": 16,
   "id": "624542ad4f0663de",
   "metadata": {
    "collapsed": false,
    "ExecuteTime": {
     "end_time": "2024-10-25T13:24:02.255719Z",
     "start_time": "2024-10-25T13:24:02.232212Z"
    }
   },
   "outputs": [
    {
     "data": {
      "text/plain": "            id                    name  \\\n0        20200        Galactic Bowling   \n1       655370            Train Bandit   \n2      1732930            Jolt Project   \n3      1355720                Henosis™   \n4      1139950   Two Weeks in Painland   \n...        ...                     ...   \n97405  3080940  Femdom Game World: Mom   \n97406  2593970             Blocky Farm   \n97407  3137150    Infiltrate & Extract   \n97408  3124670       Escape The Garage   \n97409  3054200              Lober Lobe   \n\n                                             description  \\\n0      Galactic Bowling is an exaggerated and stylize...   \n1      THE LAW!! Looks to be a showdown atop a train....   \n2      Jolt Project: The army now has a new robotics ...   \n3      HENOSIS™ is a mysterious 2D Platform Puzzler w...   \n4      ABOUT THE GAME Play as a hacker who has arrang...   \n...                                                  ...   \n97405  . Femdom Game World - is a fascinating series ...   \n97406  Enter the charming world of Blocky Farm where ...   \n97407  Mission brief: You are deployed to a heavily g...   \n97408  Welcome to Escape The Garage, the thrilling es...   \n97409  Scan Brain Lobes Organize &amp; clear dangerou...   \n\n                                               languages  description_length  \\\n0                                            ['English']                1043   \n1      ['English', 'French', 'Italian', 'German', 'Sp...                 491   \n2                     ['English', 'Portuguese - Brazil']                 628   \n3      ['English', 'French', 'Italian', 'German', 'Sp...                 615   \n4                         ['English', 'Spanish - Spain']                 672   \n...                                                  ...                 ...   \n97405                             ['English', 'Russian']                1714   \n97406  ['English', 'French', 'Italian', 'German', 'Sp...                 763   \n97407                                        ['English']                1068   \n97408                                        ['English']                1328   \n97409                                        ['English']                1266   \n\n       english_available  \n0                   True  \n1                   True  \n2                   True  \n3                   True  \n4                   True  \n...                  ...  \n97405               True  \n97406               True  \n97407               True  \n97408               True  \n97409               True  \n\n[88131 rows x 6 columns]",
      "text/html": "<div>\n<style scoped>\n    .dataframe tbody tr th:only-of-type {\n        vertical-align: middle;\n    }\n\n    .dataframe tbody tr th {\n        vertical-align: top;\n    }\n\n    .dataframe thead th {\n        text-align: right;\n    }\n</style>\n<table border=\"1\" class=\"dataframe\">\n  <thead>\n    <tr style=\"text-align: right;\">\n      <th></th>\n      <th>id</th>\n      <th>name</th>\n      <th>description</th>\n      <th>languages</th>\n      <th>description_length</th>\n      <th>english_available</th>\n    </tr>\n  </thead>\n  <tbody>\n    <tr>\n      <th>0</th>\n      <td>20200</td>\n      <td>Galactic Bowling</td>\n      <td>Galactic Bowling is an exaggerated and stylize...</td>\n      <td>['English']</td>\n      <td>1043</td>\n      <td>True</td>\n    </tr>\n    <tr>\n      <th>1</th>\n      <td>655370</td>\n      <td>Train Bandit</td>\n      <td>THE LAW!! Looks to be a showdown atop a train....</td>\n      <td>['English', 'French', 'Italian', 'German', 'Sp...</td>\n      <td>491</td>\n      <td>True</td>\n    </tr>\n    <tr>\n      <th>2</th>\n      <td>1732930</td>\n      <td>Jolt Project</td>\n      <td>Jolt Project: The army now has a new robotics ...</td>\n      <td>['English', 'Portuguese - Brazil']</td>\n      <td>628</td>\n      <td>True</td>\n    </tr>\n    <tr>\n      <th>3</th>\n      <td>1355720</td>\n      <td>Henosis™</td>\n      <td>HENOSIS™ is a mysterious 2D Platform Puzzler w...</td>\n      <td>['English', 'French', 'Italian', 'German', 'Sp...</td>\n      <td>615</td>\n      <td>True</td>\n    </tr>\n    <tr>\n      <th>4</th>\n      <td>1139950</td>\n      <td>Two Weeks in Painland</td>\n      <td>ABOUT THE GAME Play as a hacker who has arrang...</td>\n      <td>['English', 'Spanish - Spain']</td>\n      <td>672</td>\n      <td>True</td>\n    </tr>\n    <tr>\n      <th>...</th>\n      <td>...</td>\n      <td>...</td>\n      <td>...</td>\n      <td>...</td>\n      <td>...</td>\n      <td>...</td>\n    </tr>\n    <tr>\n      <th>97405</th>\n      <td>3080940</td>\n      <td>Femdom Game World: Mom</td>\n      <td>. Femdom Game World - is a fascinating series ...</td>\n      <td>['English', 'Russian']</td>\n      <td>1714</td>\n      <td>True</td>\n    </tr>\n    <tr>\n      <th>97406</th>\n      <td>2593970</td>\n      <td>Blocky Farm</td>\n      <td>Enter the charming world of Blocky Farm where ...</td>\n      <td>['English', 'French', 'Italian', 'German', 'Sp...</td>\n      <td>763</td>\n      <td>True</td>\n    </tr>\n    <tr>\n      <th>97407</th>\n      <td>3137150</td>\n      <td>Infiltrate &amp; Extract</td>\n      <td>Mission brief: You are deployed to a heavily g...</td>\n      <td>['English']</td>\n      <td>1068</td>\n      <td>True</td>\n    </tr>\n    <tr>\n      <th>97408</th>\n      <td>3124670</td>\n      <td>Escape The Garage</td>\n      <td>Welcome to Escape The Garage, the thrilling es...</td>\n      <td>['English']</td>\n      <td>1328</td>\n      <td>True</td>\n    </tr>\n    <tr>\n      <th>97409</th>\n      <td>3054200</td>\n      <td>Lober Lobe</td>\n      <td>Scan Brain Lobes Organize &amp;amp; clear dangerou...</td>\n      <td>['English']</td>\n      <td>1266</td>\n      <td>True</td>\n    </tr>\n  </tbody>\n</table>\n<p>88131 rows × 6 columns</p>\n</div>"
     },
     "execution_count": 16,
     "metadata": {},
     "output_type": "execute_result"
    }
   ],
   "source": [
    "#Drop not english games\n",
    "games = games[games['english_available']]\n",
    "games"
   ]
  },
  {
   "cell_type": "code",
   "execution_count": 17,
   "id": "257a7c72128b4c66",
   "metadata": {
    "collapsed": false,
    "ExecuteTime": {
     "end_time": "2024-10-25T13:24:02.402852Z",
     "start_time": "2024-10-25T13:24:02.243545Z"
    }
   },
   "outputs": [
    {
     "data": {
      "text/plain": "<Axes: >"
     },
     "execution_count": 17,
     "metadata": {},
     "output_type": "execute_result"
    },
    {
     "data": {
      "text/plain": "<Figure size 640x480 with 1 Axes>",
      "image/png": "[encoded data removed]"
     },
     "metadata": {},
     "output_type": "display_data"
    }
   ],
   "source": [
    "games[games['description_length'] < 20000]['description_length'].hist(bins=50, log=True)"
   ]
  },
  {
   "cell_type": "markdown",
   "id": "64daf0da2a67067a",
   "metadata": {
    "collapsed": false
   },
   "source": [
    "### Threshold for description length"
   ]
  },
  {
   "cell_type": "code",
   "execution_count": 18,
   "id": "85bb0a3f9c85a1e7",
   "metadata": {
    "collapsed": false,
    "ExecuteTime": {
     "end_time": "2024-10-25T13:24:02.407129Z",
     "start_time": "2024-10-25T13:24:02.398072Z"
    }
   },
   "outputs": [
    {
     "data": {
      "text/plain": "            id                        name  \\\n723     788040         Edvog Explorer Game   \n1330    353540      Stephen's Sausage Roll   \n1563    497590          Sapper's bad dream   \n1588   1487440              Live Labyrinth   \n2115    663920                        DoFi   \n...        ...                         ...   \n94881  3036810  Shiftall Controller Driver   \n95071  3073680                        Fish   \n95894  2545530                  Go Outside   \n96270  2807430                     Gravity   \n96511  3122980  MULTIVERSAL TIME SURVIVORS   \n\n                                             description  \\\n723    Important ! The game will soon be retired from...   \n1330                            A simple 3d puzzle game.   \n1563   The bomberman's nightmare. Or is it not a drea...   \n1588   A living maze is drawn during its passage, and...   \n2115                               Under construction...   \n...                                                  ...   \n94881  Installing this driver allows the supported co...   \n95071  you click fish and get random fish. 100 differ...   \n95894  sometimes you should just turn off your PC and...   \n96270  Welcome to Gravity! 100 puzzles await you Plac...   \n96511  Classic Spin on Survivors Genre. Choose one am...   \n\n                                               languages  description_length  \\\n723                                          ['English']                  62   \n1330                                         ['English']                  24   \n1563                                         ['English']                  99   \n1588   ['English', 'Russian', 'French', 'Italian', 'G...                 118   \n2115                                         ['English']                  21   \n...                                                  ...                 ...   \n94881                            ['English', 'Japanese']                 106   \n95071  ['English', 'French', 'Italian', 'German', 'Sp...                 101   \n95894                                        ['English']                  57   \n96270  ['English', 'Russian', 'French', 'Italian', 'G...                 105   \n96511                                        ['English']                 119   \n\n       english_available  \n723                 True  \n1330                True  \n1563                True  \n1588                True  \n2115                True  \n...                  ...  \n94881               True  \n95071               True  \n95894               True  \n96270               True  \n96511               True  \n\n[183 rows x 6 columns]",
      "text/html": "<div>\n<style scoped>\n    .dataframe tbody tr th:only-of-type {\n        vertical-align: middle;\n    }\n\n    .dataframe tbody tr th {\n        vertical-align: top;\n    }\n\n    .dataframe thead th {\n        text-align: right;\n    }\n</style>\n<table border=\"1\" class=\"dataframe\">\n  <thead>\n    <tr style=\"text-align: right;\">\n      <th></th>\n      <th>id</th>\n      <th>name</th>\n      <th>description</th>\n      <th>languages</th>\n      <th>description_length</th>\n      <th>english_available</th>\n    </tr>\n  </thead>\n  <tbody>\n    <tr>\n      <th>723</th>\n      <td>788040</td>\n      <td>Edvog Explorer Game</td>\n      <td>Important ! The game will soon be retired from...</td>\n      <td>['English']</td>\n      <td>62</td>\n      <td>True</td>\n    </tr>\n    <tr>\n      <th>1330</th>\n      <td>353540</td>\n      <td>Stephen's Sausage Roll</td>\n      <td>A simple 3d puzzle game.</td>\n      <td>['English']</td>\n      <td>24</td>\n      <td>True</td>\n    </tr>\n    <tr>\n      <th>1563</th>\n      <td>497590</td>\n      <td>Sapper's bad dream</td>\n      <td>The bomberman's nightmare. Or is it not a drea...</td>\n      <td>['English']</td>\n      <td>99</td>\n      <td>True</td>\n    </tr>\n    <tr>\n      <th>1588</th>\n      <td>1487440</td>\n      <td>Live Labyrinth</td>\n      <td>A living maze is drawn during its passage, and...</td>\n      <td>['English', 'Russian', 'French', 'Italian', 'G...</td>\n      <td>118</td>\n      <td>True</td>\n    </tr>\n    <tr>\n      <th>2115</th>\n      <td>663920</td>\n      <td>DoFi</td>\n      <td>Under construction...</td>\n      <td>['English']</td>\n      <td>21</td>\n      <td>True</td>\n    </tr>\n    <tr>\n      <th>...</th>\n      <td>...</td>\n      <td>...</td>\n      <td>...</td>\n      <td>...</td>\n      <td>...</td>\n      <td>...</td>\n    </tr>\n    <tr>\n      <th>94881</th>\n      <td>3036810</td>\n      <td>Shiftall Controller Driver</td>\n      <td>Installing this driver allows the supported co...</td>\n      <td>['English', 'Japanese']</td>\n      <td>106</td>\n      <td>True</td>\n    </tr>\n    <tr>\n      <th>95071</th>\n      <td>3073680</td>\n      <td>Fish</td>\n      <td>you click fish and get random fish. 100 differ...</td>\n      <td>['English', 'French', 'Italian', 'German', 'Sp...</td>\n      <td>101</td>\n      <td>True</td>\n    </tr>\n    <tr>\n      <th>95894</th>\n      <td>2545530</td>\n      <td>Go Outside</td>\n      <td>sometimes you should just turn off your PC and...</td>\n      <td>['English']</td>\n      <td>57</td>\n      <td>True</td>\n    </tr>\n    <tr>\n      <th>96270</th>\n      <td>2807430</td>\n      <td>Gravity</td>\n      <td>Welcome to Gravity! 100 puzzles await you Plac...</td>\n      <td>['English', 'Russian', 'French', 'Italian', 'G...</td>\n      <td>105</td>\n      <td>True</td>\n    </tr>\n    <tr>\n      <th>96511</th>\n      <td>3122980</td>\n      <td>MULTIVERSAL TIME SURVIVORS</td>\n      <td>Classic Spin on Survivors Genre. Choose one am...</td>\n      <td>['English']</td>\n      <td>119</td>\n      <td>True</td>\n    </tr>\n  </tbody>\n</table>\n<p>183 rows × 6 columns</p>\n</div>"
     },
     "execution_count": 18,
     "metadata": {},
     "output_type": "execute_result"
    }
   ],
   "source": [
    "games[games['description_length'] < 120]"
   ]
  },
  {
   "cell_type": "code",
   "execution_count": 19,
   "id": "6a92acc9b5488cf1",
   "metadata": {
    "collapsed": false,
    "ExecuteTime": {
     "end_time": "2024-10-25T13:24:02.426085Z",
     "start_time": "2024-10-25T13:24:02.410007Z"
    }
   },
   "outputs": [],
   "source": [
    "#Drop games with description length less than 120\n",
    "games = games[games['description_length'] > 120]"
   ]
  },
  {
   "cell_type": "code",
   "execution_count": 20,
   "id": "fadde6753d6db63b",
   "metadata": {
    "collapsed": false,
    "ExecuteTime": {
     "end_time": "2024-10-25T13:24:02.459899Z",
     "start_time": "2024-10-25T13:24:02.418451Z"
    }
   },
   "outputs": [
    {
     "data": {
      "text/plain": "id                    3984\nname                  3984\ndescription           3984\nlanguages             3984\ndescription_length    3984\nenglish_available     3984\ndtype: int64"
     },
     "execution_count": 20,
     "metadata": {},
     "output_type": "execute_result"
    }
   ],
   "source": [
    "games[games['description_length'] > 3000].count()"
   ]
  },
  {
   "cell_type": "code",
   "execution_count": 21,
   "id": "59aa51e74d3ebc4e",
   "metadata": {
    "collapsed": false,
    "ExecuteTime": {
     "end_time": "2024-10-25T13:24:02.460567Z",
     "start_time": "2024-10-25T13:24:02.427055Z"
    }
   },
   "outputs": [
    {
     "name": "stderr",
     "output_type": "stream",
     "text": [
      "/var/folders/3r/gx5x0f7n6lvd5yzgw2zddpv80000gn/T/ipykernel_25453/435338219.py:2: SettingWithCopyWarning: \n",
      "A value is trying to be set on a copy of a slice from a DataFrame.\n",
      "Try using .loc[row_indexer,col_indexer] = value instead\n",
      "\n",
      "See the caveats in the documentation: https://pandas.pydata.org/pandas-docs/stable/user_guide/indexing.html#returning-a-view-versus-a-copy\n",
      "  games['description'] = games['description'].apply(lambda x: x[:3000])\n"
     ]
    }
   ],
   "source": [
    "#Cut off strings longer than 3000\n",
    "games['description'] = games['description'].apply(lambda x: x[:3000])"
   ]
  },
  {
   "cell_type": "markdown",
   "id": "86a5a114bd527da0",
   "metadata": {
    "collapsed": false
   },
   "source": [
    "### Check distribution now"
   ]
  },
  {
   "cell_type": "code",
   "execution_count": 22,
   "id": "5ea8c26535f99ca9",
   "metadata": {
    "collapsed": false,
    "ExecuteTime": {
     "end_time": "2024-10-25T13:24:02.551781Z",
     "start_time": "2024-10-25T13:24:02.476796Z"
    }
   },
   "outputs": [
    {
     "name": "stderr",
     "output_type": "stream",
     "text": [
      "/var/folders/3r/gx5x0f7n6lvd5yzgw2zddpv80000gn/T/ipykernel_25453/3455729789.py:1: SettingWithCopyWarning: \n",
      "A value is trying to be set on a copy of a slice from a DataFrame.\n",
      "Try using .loc[row_indexer,col_indexer] = value instead\n",
      "\n",
      "See the caveats in the documentation: https://pandas.pydata.org/pandas-docs/stable/user_guide/indexing.html#returning-a-view-versus-a-copy\n",
      "  games['description_length'] = games['description'].apply(lambda x: len(str(x)))\n"
     ]
    },
    {
     "data": {
      "text/plain": "<Axes: >"
     },
     "execution_count": 22,
     "metadata": {},
     "output_type": "execute_result"
    },
    {
     "data": {
      "text/plain": "<Figure size 640x480 with 1 Axes>",
      "image/png": "[encoded data removed]"
     },
     "metadata": {},
     "output_type": "display_data"
    }
   ],
   "source": [
    "games['description_length'] = games['description'].apply(lambda x: len(str(x)))\n",
    "games['description_length'].hist(bins=50)"
   ]
  },
  {
   "cell_type": "markdown",
   "id": "cdb622461bae32c3",
   "metadata": {
    "collapsed": false
   },
   "source": [
    "## Embedding\n",
    "This notebook will take the approach of sentence based embeddings with [sBERT](https://www.sbert.net/). Word embeddings can't be used as semantic meanings have to be captured. We will used the pre-trained model 'all-MiniLM-L6-v2' which is quite the standard.\n",
    "\n",
    "**Things to check**\n",
    "- Maybe fine-tuning of the embedding will be necessary\n",
    "- sBERT has a token limit of 512 tokens. We have to ensure that our 3'000 length strings fit in that. Most probably a lot of text till be truncated as we can read in the [documentation](https://www.sbert.net/examples/applications/computing-embeddings/README.html)\n",
    "- Currently no further text preprocessing is done. In the [documentation](https://www.sbert.net/docs/sentence_transformer/usage/semantic_textual_similarity.html) there's no hint on needed preprocessing as they also just pass in plain language where so we assume it's not necessary."
   ]
  },
  {
   "cell_type": "code",
   "execution_count": 23,
   "id": "249325b2e5a811ef",
   "metadata": {
    "collapsed": false,
    "ExecuteTime": {
     "end_time": "2024-10-25T13:24:11.777053Z",
     "start_time": "2024-10-25T13:24:02.552201Z"
    }
   },
   "outputs": [
    {
     "name": "stderr",
     "output_type": "stream",
     "text": [
      "/Users/aceto/anaconda3/lib/python3.11/site-packages/sentence_transformers/cross_encoder/CrossEncoder.py:13: TqdmExperimentalWarning: Using `tqdm.autonotebook.tqdm` in notebook mode. Use `tqdm.tqdm` instead to force console mode (e.g. in jupyter console)\n",
      "  from tqdm.autonotebook import tqdm, trange\n",
      "/Users/aceto/anaconda3/lib/python3.11/site-packages/transformers/tokenization_utils_base.py:1601: FutureWarning: `clean_up_tokenization_spaces` was not set. It will be set to `True` by default. This behavior will be depracted in transformers v4.45, and will be then set to `False` by default. For more details check this issue: https://github.com/huggingface/transformers/issues/31884\n",
      "  warnings.warn(\n"
     ]
    }
   ],
   "source": [
    "from sentence_transformers import SentenceTransformer\n",
    "model = SentenceTransformer('all-MiniLM-L6-v2')"
   ]
  },
  {
   "cell_type": "code",
   "execution_count": 24,
   "id": "d2298d20",
   "metadata": {
    "ExecuteTime": {
     "end_time": "2024-10-25T13:24:11.802649Z",
     "start_time": "2024-10-25T13:24:11.784683Z"
    }
   },
   "outputs": [
    {
     "data": {
      "text/plain": "            id                                           name  \\\n2334    849200  Shadow of the Tomb Raider: Definitive Edition   \n2874    890030  Shadow of the Tomb Raider: Definitive Edition   \n3029    849178  Shadow of the Tomb Raider: Definitive Edition   \n3084   1253270              Scoot Kaboom and the Tomb of Doom   \n3901    652830               Lost Legends: The Pharaoh's Tomb   \n...        ...                                            ...   \n92852  2999240                                Tomb nightmares   \n93451  2530310                              Gifted: The Tombs   \n94645  2839940                         The Tomb of Corruption   \n95764  2851150                         Tomba! Special Edition   \n95900  1969920                               Tomb Explorer VR   \n\n                                             description  \\\n2334   In Shadow of the Tomb Raider Definitive Editio...   \n2874   In Shadow of the Tomb Raider Definitive Editio...   \n3029   In Shadow of the Tomb Raider Definitive Editio...   \n3084   Can you survive the Tomb of Doom? Scoot Kaboom...   \n3901   Your eyes take a moment to adjust, you’re diso...   \n...                                                  ...   \n92852  A cozy and atmospheric game for the evening. T...   \n93451  Gifted: The Tombs is a rogue-like dungeon craw...   \n94645  An alien disease is spreading and needs to be ...   \n95764  Tomba! returns in Tomba! Special Edition , the...   \n95900  Tomb Explorer VR is an adventure game where yo...   \n\n                                               languages  description_length  \\\n2334   ['English', 'French', 'Italian', 'German', 'Sp...                1067   \n2874   ['English', 'French', 'Italian', 'German', 'Sp...                1067   \n3029   ['English', 'French', 'Italian', 'German', 'Sp...                1067   \n3084                                         ['English']                 948   \n3901                                         ['English']                1878   \n...                                                  ...                 ...   \n92852                   ['English', 'German', 'Russian']                 800   \n93451                                        ['English']                1174   \n94645                                        ['English']                2011   \n95764  ['English', 'French', 'Italian', 'German', 'Sp...                 993   \n95900  ['English', 'French', 'Italian', 'German', 'Sp...                1634   \n\n       english_available  \n2334                True  \n2874                True  \n3029                True  \n3084                True  \n3901                True  \n...                  ...  \n92852               True  \n93451               True  \n94645               True  \n95764               True  \n95900               True  \n\n[84 rows x 6 columns]",
      "text/html": "<div>\n<style scoped>\n    .dataframe tbody tr th:only-of-type {\n        vertical-align: middle;\n    }\n\n    .dataframe tbody tr th {\n        vertical-align: top;\n    }\n\n    .dataframe thead th {\n        text-align: right;\n    }\n</style>\n<table border=\"1\" class=\"dataframe\">\n  <thead>\n    <tr style=\"text-align: right;\">\n      <th></th>\n      <th>id</th>\n      <th>name</th>\n      <th>description</th>\n      <th>languages</th>\n      <th>description_length</th>\n      <th>english_available</th>\n    </tr>\n  </thead>\n  <tbody>\n    <tr>\n      <th>2334</th>\n      <td>849200</td>\n      <td>Shadow of the Tomb Raider: Definitive Edition</td>\n      <td>In Shadow of the Tomb Raider Definitive Editio...</td>\n      <td>['English', 'French', 'Italian', 'German', 'Sp...</td>\n      <td>1067</td>\n      <td>True</td>\n    </tr>\n    <tr>\n      <th>2874</th>\n      <td>890030</td>\n      <td>Shadow of the Tomb Raider: Definitive Edition</td>\n      <td>In Shadow of the Tomb Raider Definitive Editio...</td>\n      <td>['English', 'French', 'Italian', 'German', 'Sp...</td>\n      <td>1067</td>\n      <td>True</td>\n    </tr>\n    <tr>\n      <th>3029</th>\n      <td>849178</td>\n      <td>Shadow of the Tomb Raider: Definitive Edition</td>\n      <td>In Shadow of the Tomb Raider Definitive Editio...</td>\n      <td>['English', 'French', 'Italian', 'German', 'Sp...</td>\n      <td>1067</td>\n      <td>True</td>\n    </tr>\n    <tr>\n      <th>3084</th>\n      <td>1253270</td>\n      <td>Scoot Kaboom and the Tomb of Doom</td>\n      <td>Can you survive the Tomb of Doom? Scoot Kaboom...</td>\n      <td>['English']</td>\n      <td>948</td>\n      <td>True</td>\n    </tr>\n    <tr>\n      <th>3901</th>\n      <td>652830</td>\n      <td>Lost Legends: The Pharaoh's Tomb</td>\n      <td>Your eyes take a moment to adjust, you’re diso...</td>\n      <td>['English']</td>\n      <td>1878</td>\n      <td>True</td>\n    </tr>\n    <tr>\n      <th>...</th>\n      <td>...</td>\n      <td>...</td>\n      <td>...</td>\n      <td>...</td>\n      <td>...</td>\n      <td>...</td>\n    </tr>\n    <tr>\n      <th>92852</th>\n      <td>2999240</td>\n      <td>Tomb nightmares</td>\n      <td>A cozy and atmospheric game for the evening. T...</td>\n      <td>['English', 'German', 'Russian']</td>\n      <td>800</td>\n      <td>True</td>\n    </tr>\n    <tr>\n      <th>93451</th>\n      <td>2530310</td>\n      <td>Gifted: The Tombs</td>\n      <td>Gifted: The Tombs is a rogue-like dungeon craw...</td>\n      <td>['English']</td>\n      <td>1174</td>\n      <td>True</td>\n    </tr>\n    <tr>\n      <th>94645</th>\n      <td>2839940</td>\n      <td>The Tomb of Corruption</td>\n      <td>An alien disease is spreading and needs to be ...</td>\n      <td>['English']</td>\n      <td>2011</td>\n      <td>True</td>\n    </tr>\n    <tr>\n      <th>95764</th>\n      <td>2851150</td>\n      <td>Tomba! Special Edition</td>\n      <td>Tomba! returns in Tomba! Special Edition , the...</td>\n      <td>['English', 'French', 'Italian', 'German', 'Sp...</td>\n      <td>993</td>\n      <td>True</td>\n    </tr>\n    <tr>\n      <th>95900</th>\n      <td>1969920</td>\n      <td>Tomb Explorer VR</td>\n      <td>Tomb Explorer VR is an adventure game where yo...</td>\n      <td>['English', 'French', 'Italian', 'German', 'Sp...</td>\n      <td>1634</td>\n      <td>True</td>\n    </tr>\n  </tbody>\n</table>\n<p>84 rows × 6 columns</p>\n</div>"
     },
     "execution_count": 24,
     "metadata": {},
     "output_type": "execute_result"
    }
   ],
   "source": [
    "try_out = games[games[\"name\"].str.contains(\"Tomb\")]\n",
    "try_out"
   ]
  },
  {
   "cell_type": "code",
   "execution_count": 25,
   "id": "c798841ace2e7ae6",
   "metadata": {
    "collapsed": false,
    "ExecuteTime": {
     "end_time": "2024-10-25T13:24:12.759454Z",
     "start_time": "2024-10-25T13:24:11.807325Z"
    }
   },
   "outputs": [
    {
     "name": "stderr",
     "output_type": "stream",
     "text": [
      "/var/folders/3r/gx5x0f7n6lvd5yzgw2zddpv80000gn/T/ipykernel_25453/1124924527.py:3: SettingWithCopyWarning: \n",
      "A value is trying to be set on a copy of a slice from a DataFrame.\n",
      "Try using .loc[row_indexer,col_indexer] = value instead\n",
      "\n",
      "See the caveats in the documentation: https://pandas.pydata.org/pandas-docs/stable/user_guide/indexing.html#returning-a-view-versus-a-copy\n",
      "  try_out['embeddings'] = embeddings.tolist()\n"
     ]
    },
    {
     "data": {
      "text/plain": "            id                                           name  \\\n2334    849200  Shadow of the Tomb Raider: Definitive Edition   \n2874    890030  Shadow of the Tomb Raider: Definitive Edition   \n3029    849178  Shadow of the Tomb Raider: Definitive Edition   \n3084   1253270              Scoot Kaboom and the Tomb of Doom   \n3901    652830               Lost Legends: The Pharaoh's Tomb   \n...        ...                                            ...   \n92852  2999240                                Tomb nightmares   \n93451  2530310                              Gifted: The Tombs   \n94645  2839940                         The Tomb of Corruption   \n95764  2851150                         Tomba! Special Edition   \n95900  1969920                               Tomb Explorer VR   \n\n                                             description  \\\n2334   In Shadow of the Tomb Raider Definitive Editio...   \n2874   In Shadow of the Tomb Raider Definitive Editio...   \n3029   In Shadow of the Tomb Raider Definitive Editio...   \n3084   Can you survive the Tomb of Doom? Scoot Kaboom...   \n3901   Your eyes take a moment to adjust, you’re diso...   \n...                                                  ...   \n92852  A cozy and atmospheric game for the evening. T...   \n93451  Gifted: The Tombs is a rogue-like dungeon craw...   \n94645  An alien disease is spreading and needs to be ...   \n95764  Tomba! returns in Tomba! Special Edition , the...   \n95900  Tomb Explorer VR is an adventure game where yo...   \n\n                                               languages  description_length  \\\n2334   ['English', 'French', 'Italian', 'German', 'Sp...                1067   \n2874   ['English', 'French', 'Italian', 'German', 'Sp...                1067   \n3029   ['English', 'French', 'Italian', 'German', 'Sp...                1067   \n3084                                         ['English']                 948   \n3901                                         ['English']                1878   \n...                                                  ...                 ...   \n92852                   ['English', 'German', 'Russian']                 800   \n93451                                        ['English']                1174   \n94645                                        ['English']                2011   \n95764  ['English', 'French', 'Italian', 'German', 'Sp...                 993   \n95900  ['English', 'French', 'Italian', 'German', 'Sp...                1634   \n\n       english_available                                         embeddings  \n2334                True  [0.06343326717615128, 0.03546140715479851, -0....  \n2874                True  [0.06343326717615128, 0.03546140715479851, -0....  \n3029                True  [0.06343326717615128, 0.03546140715479851, -0....  \n3084                True  [-0.019371286034584045, 0.018362553790211678, ...  \n3901                True  [-0.016410481184720993, 0.030747830867767334, ...  \n...                  ...                                                ...  \n92852               True  [0.03149495646357536, 0.07274331152439117, -0....  \n93451               True  [-0.033930979669094086, 0.05048377811908722, -...  \n94645               True  [0.02549082785844803, 0.011602609418332577, 0....  \n95764               True  [-0.025958752259612083, 0.001619122689589858, ...  \n95900               True  [0.012568368576467037, 0.02807377278804779, 0....  \n\n[84 rows x 7 columns]",
      "text/html": "<div>\n<style scoped>\n    .dataframe tbody tr th:only-of-type {\n        vertical-align: middle;\n    }\n\n    .dataframe tbody tr th {\n        vertical-align: top;\n    }\n\n    .dataframe thead th {\n        text-align: right;\n    }\n</style>\n<table border=\"1\" class=\"dataframe\">\n  <thead>\n    <tr style=\"text-align: right;\">\n      <th></th>\n      <th>id</th>\n      <th>name</th>\n      <th>description</th>\n      <th>languages</th>\n      <th>description_length</th>\n      <th>english_available</th>\n      <th>embeddings</th>\n    </tr>\n  </thead>\n  <tbody>\n    <tr>\n      <th>2334</th>\n      <td>849200</td>\n      <td>Shadow of the Tomb Raider: Definitive Edition</td>\n      <td>In Shadow of the Tomb Raider Definitive Editio...</td>\n      <td>['English', 'French', 'Italian', 'German', 'Sp...</td>\n      <td>1067</td>\n      <td>True</td>\n      <td>[0.06343326717615128, 0.03546140715479851, -0....</td>\n    </tr>\n    <tr>\n      <th>2874</th>\n      <td>890030</td>\n      <td>Shadow of the Tomb Raider: Definitive Edition</td>\n      <td>In Shadow of the Tomb Raider Definitive Editio...</td>\n      <td>['English', 'French', 'Italian', 'German', 'Sp...</td>\n      <td>1067</td>\n      <td>True</td>\n      <td>[0.06343326717615128, 0.03546140715479851, -0....</td>\n    </tr>\n    <tr>\n      <th>3029</th>\n      <td>849178</td>\n      <td>Shadow of the Tomb Raider: Definitive Edition</td>\n      <td>In Shadow of the Tomb Raider Definitive Editio...</td>\n      <td>['English', 'French', 'Italian', 'German', 'Sp...</td>\n      <td>1067</td>\n      <td>True</td>\n      <td>[0.06343326717615128, 0.03546140715479851, -0....</td>\n    </tr>\n    <tr>\n      <th>3084</th>\n      <td>1253270</td>\n      <td>Scoot Kaboom and the Tomb of Doom</td>\n      <td>Can you survive the Tomb of Doom? Scoot Kaboom...</td>\n      <td>['English']</td>\n      <td>948</td>\n      <td>True</td>\n      <td>[-0.019371286034584045, 0.018362553790211678, ...</td>\n    </tr>\n    <tr>\n      <th>3901</th>\n      <td>652830</td>\n      <td>Lost Legends: The Pharaoh's Tomb</td>\n      <td>Your eyes take a moment to adjust, you’re diso...</td>\n      <td>['English']</td>\n      <td>1878</td>\n      <td>True</td>\n      <td>[-0.016410481184720993, 0.030747830867767334, ...</td>\n    </tr>\n    <tr>\n      <th>...</th>\n      <td>...</td>\n      <td>...</td>\n      <td>...</td>\n      <td>...</td>\n      <td>...</td>\n      <td>...</td>\n      <td>...</td>\n    </tr>\n    <tr>\n      <th>92852</th>\n      <td>2999240</td>\n      <td>Tomb nightmares</td>\n      <td>A cozy and atmospheric game for the evening. T...</td>\n      <td>['English', 'German', 'Russian']</td>\n      <td>800</td>\n      <td>True</td>\n      <td>[0.03149495646357536, 0.07274331152439117, -0....</td>\n    </tr>\n    <tr>\n      <th>93451</th>\n      <td>2530310</td>\n      <td>Gifted: The Tombs</td>\n      <td>Gifted: The Tombs is a rogue-like dungeon craw...</td>\n      <td>['English']</td>\n      <td>1174</td>\n      <td>True</td>\n      <td>[-0.033930979669094086, 0.05048377811908722, -...</td>\n    </tr>\n    <tr>\n      <th>94645</th>\n      <td>2839940</td>\n      <td>The Tomb of Corruption</td>\n      <td>An alien disease is spreading and needs to be ...</td>\n      <td>['English']</td>\n      <td>2011</td>\n      <td>True</td>\n      <td>[0.02549082785844803, 0.011602609418332577, 0....</td>\n    </tr>\n    <tr>\n      <th>95764</th>\n      <td>2851150</td>\n      <td>Tomba! Special Edition</td>\n      <td>Tomba! returns in Tomba! Special Edition , the...</td>\n      <td>['English', 'French', 'Italian', 'German', 'Sp...</td>\n      <td>993</td>\n      <td>True</td>\n      <td>[-0.025958752259612083, 0.001619122689589858, ...</td>\n    </tr>\n    <tr>\n      <th>95900</th>\n      <td>1969920</td>\n      <td>Tomb Explorer VR</td>\n      <td>Tomb Explorer VR is an adventure game where yo...</td>\n      <td>['English', 'French', 'Italian', 'German', 'Sp...</td>\n      <td>1634</td>\n      <td>True</td>\n      <td>[0.012568368576467037, 0.02807377278804779, 0....</td>\n    </tr>\n  </tbody>\n</table>\n<p>84 rows × 7 columns</p>\n</div>"
     },
     "execution_count": 25,
     "metadata": {},
     "output_type": "execute_result"
    }
   ],
   "source": [
    "try_out = games[games[\"name\"].str.contains(\"Tomb\")]\n",
    "embeddings = model.encode(try_out['description'].tolist())\n",
    "try_out['embeddings'] = embeddings.tolist()\n",
    "try_out"
   ]
  },
  {
   "cell_type": "code",
   "execution_count": 26,
   "id": "4851e20d",
   "metadata": {
    "ExecuteTime": {
     "end_time": "2024-10-25T13:24:12.777763Z",
     "start_time": "2024-10-25T13:24:12.771939Z"
    }
   },
   "outputs": [
    {
     "data": {
      "text/plain": "            id                                              name  \\\n2334    849200     Shadow of the Tomb Raider: Definitive Edition   \n2874    890030     Shadow of the Tomb Raider: Definitive Edition   \n3029    849178     Shadow of the Tomb Raider: Definitive Edition   \n5046    849163     Shadow of the Tomb Raider: Definitive Edition   \n6264    849166     Shadow of the Tomb Raider: Definitive Edition   \n7776    849177     Shadow of the Tomb Raider: Definitive Edition   \n9362      8000                          Tomb Raider: Anniversary   \n10216   225020             Tomb Raider VI: The Angel of Darkness   \n10473   233410        Tomb Raider - The Final Hours Digital Book   \n12169   225000                         Tomb Raider V: Chronicles   \n13400   391220                          Rise of the Tomb Raider™   \n13792   849186     Shadow of the Tomb Raider: Definitive Edition   \n14991   224960                                     Tomb Raider I   \n15117   750920     Shadow of the Tomb Raider: Definitive Edition   \n15483   849161     Shadow of the Tomb Raider: Definitive Edition   \n20328   225320                                   Tomb Raider III   \n24097   203160                                       Tomb Raider   \n25417   849165     Shadow of the Tomb Raider: Definitive Edition   \n28888     7000                               Tomb Raider: Legend   \n31865   890031     Shadow of the Tomb Raider: Definitive Edition   \n38341     8140                           Tomb Raider: Underworld   \n39967   225300                                    Tomb Raider II   \n45988   224980               Tomb Raider IV: The Last Revelation   \n47119   849168     Shadow of the Tomb Raider: Definitive Edition   \n50095   849162     Shadow of the Tomb Raider: Definitive Edition   \n50680   890032     Shadow of the Tomb Raider: Definitive Edition   \n51313   849164     Shadow of the Tomb Raider: Definitive Edition   \n51390   849167     Shadow of the Tomb Raider: Definitive Edition   \n53817   849179     Shadow of the Tomb Raider: Definitive Edition   \n57100   849160     Shadow of the Tomb Raider: Definitive Edition   \n58130   905320     Shadow of the Tomb Raider: Definitive Edition   \n60398   849176     Shadow of the Tomb Raider: Definitive Edition   \n87032  2478970  Tomb Raider I-III Remastered Starring Lara Croft   \n\n                                             description  \\\n2334   In Shadow of the Tomb Raider Definitive Editio...   \n2874   In Shadow of the Tomb Raider Definitive Editio...   \n3029   In Shadow of the Tomb Raider Definitive Editio...   \n5046   In Shadow of the Tomb Raider Definitive Editio...   \n6264   In Shadow of the Tomb Raider Definitive Editio...   \n7776   In Shadow of the Tomb Raider Definitive Editio...   \n9362   Tomb Raider: Anniversary retraces Lara Croft's...   \n10216  A series of grisly murders brings Lara into co...   \n10473  How did Crystal Dynamics reinvent Tomb Raider?...   \n12169  Lara Croft is missing in Egypt - presumed dead...   \n13400  Rise of the Tomb Raider: 20 Year Celebration i...   \n13792  In Shadow of the Tomb Raider Definitive Editio...   \n14991  Adventurer Lara Croft has been hired to recove...   \n15117  In Shadow of the Tomb Raider Definitive Editio...   \n15483  In Shadow of the Tomb Raider Definitive Editio...   \n20328  Thousands of years ago a meteor crashed into A...   \n24097  Tomb Raider explores the intense and gritty or...   \n25417  In Shadow of the Tomb Raider Definitive Editio...   \n28888  Follow Lara Croft down a path of discovery as ...   \n31865  In Shadow of the Tomb Raider Definitive Editio...   \n38341  Tomb Raider: Underworld represents a new advan...   \n39967  The second instalment in the Tomb Raider serie...   \n45988  According to Egyptian legend, Horus, son of th...   \n47119  In Shadow of the Tomb Raider Definitive Editio...   \n50095  In Shadow of the Tomb Raider Definitive Editio...   \n50680  In Shadow of the Tomb Raider Definitive Editio...   \n51313  In Shadow of the Tomb Raider Definitive Editio...   \n51390  In Shadow of the Tomb Raider Definitive Editio...   \n53817  In Shadow of the Tomb Raider Definitive Editio...   \n57100  In Shadow of the Tomb Raider Definitive Editio...   \n58130  In Shadow of the Tomb Raider Definitive Editio...   \n60398  In Shadow of the Tomb Raider Definitive Editio...   \n87032  Discover Lara Croft’s Original Adventures, Lov...   \n\n                                               languages  description_length  \\\n2334   ['English', 'French', 'Italian', 'German', 'Sp...                1067   \n2874   ['English', 'French', 'Italian', 'German', 'Sp...                1067   \n3029   ['English', 'French', 'Italian', 'German', 'Sp...                1067   \n5046   ['English', 'French', 'Italian', 'German', 'Sp...                1067   \n6264   ['English', 'French', 'Italian', 'German', 'Sp...                1067   \n7776   ['English', 'French', 'Italian', 'German', 'Sp...                1067   \n9362   ['English', 'French', 'German', 'Italian', 'Sp...                2036   \n10216                                        ['English']                 481   \n10473                                        ['English']                 751   \n12169                                        ['English']                 333   \n13400  ['English', 'French', 'Italian', 'German', 'Sp...                2064   \n13792  ['English', 'French', 'Italian', 'German', 'Sp...                1067   \n14991                                        ['English']                 425   \n15117  ['English', 'French', 'Italian', 'German', 'Sp...                1067   \n15483  ['English', 'French', 'Italian', 'German', 'Sp...                1067   \n20328                                        ['English']                 415   \n24097  ['English', 'German', 'French', 'Italian', 'Ko...                 885   \n25417  ['English', 'French', 'Italian', 'German', 'Sp...                1067   \n28888  ['English', 'French', 'Italian', 'German', 'Sp...                1124   \n31865  ['English', 'French', 'Italian', 'German', 'Sp...                1067   \n38341  ['English', 'French', 'Italian', 'German', 'Sp...                1659   \n39967                                        ['English']                 286   \n45988                                        ['English']                 846   \n47119  ['English', 'French', 'Italian', 'German', 'Sp...                1067   \n50095  ['English', 'French', 'Italian', 'German', 'Sp...                1067   \n50680  ['English', 'French', 'Italian', 'German', 'Sp...                1067   \n51313  ['English', 'French', 'Italian', 'German', 'Sp...                1067   \n51390  ['English', 'French', 'Italian', 'German', 'Sp...                1067   \n53817  ['English', 'French', 'Italian', 'German', 'Sp...                1067   \n57100  ['English', 'French', 'Italian', 'German', 'Sp...                1067   \n58130  ['English', 'French', 'Italian', 'German', 'Sp...                1067   \n60398  ['English', 'French', 'Italian', 'German', 'Sp...                1067   \n87032  ['English', 'French', 'German', 'Russian', 'Cz...                 780   \n\n       english_available                                         embeddings  \n2334                True  [0.06343326717615128, 0.03546140715479851, -0....  \n2874                True  [0.06343326717615128, 0.03546140715479851, -0....  \n3029                True  [0.06343326717615128, 0.03546140715479851, -0....  \n5046                True  [0.06343326717615128, 0.03546140715479851, -0....  \n6264                True  [0.06343326717615128, 0.03546140715479851, -0....  \n7776                True  [0.06343326717615128, 0.03546140715479851, -0....  \n9362                True  [0.05213550105690956, 0.014603646472096443, -0...  \n10216               True  [-0.02054806798696518, -0.000278221326880157, ...  \n10473               True  [0.029012786224484444, -0.004308711271733046, ...  \n12169               True  [0.11889545619487762, 0.0008081530104391277, -...  \n13400               True  [0.02038213238120079, -0.02812141366302967, -0...  \n13792               True  [0.06343326717615128, 0.03546140715479851, -0....  \n14991               True  [0.005104025825858116, -0.0003402192087378353,...  \n15117               True  [0.06343326717615128, 0.03546140715479851, -0....  \n15483               True  [0.06343326717615128, 0.03546140715479851, -0....  \n20328               True  [0.08035670965909958, 0.013515079393982887, -0...  \n24097               True  [0.08885188400745392, -0.006687828805297613, -...  \n25417               True  [0.06343326717615128, 0.03546140715479851, -0....  \n28888               True  [0.10117554664611816, -0.007327675819396973, -...  \n31865               True  [0.06343326717615128, 0.03546140715479851, -0....  \n38341               True  [0.10518690198659897, -0.009576797485351562, -...  \n39967               True  [-0.03173817694187164, 0.06557439267635345, -0...  \n45988               True  [0.03370092809200287, 0.08965566754341125, -0....  \n47119               True  [0.06343324482440948, 0.03546139597892761, -0....  \n50095               True  [0.06343326717615128, 0.03546140715479851, -0....  \n50680               True  [0.06343324482440948, 0.03546139597892761, -0....  \n51313               True  [0.06343324482440948, 0.03546139597892761, -0....  \n51390               True  [0.06343326717615128, 0.03546140715479851, -0....  \n53817               True  [0.06343326717615128, 0.03546140715479851, -0....  \n57100               True  [0.06343324482440948, 0.03546139597892761, -0....  \n58130               True  [0.06343326717615128, 0.03546140715479851, -0....  \n60398               True  [0.06343326717615128, 0.03546140715479851, -0....  \n87032               True  [0.08004443347454071, -0.026192452758550644, 0...  ",
      "text/html": "<div>\n<style scoped>\n    .dataframe tbody tr th:only-of-type {\n        vertical-align: middle;\n    }\n\n    .dataframe tbody tr th {\n        vertical-align: top;\n    }\n\n    .dataframe thead th {\n        text-align: right;\n    }\n</style>\n<table border=\"1\" class=\"dataframe\">\n  <thead>\n    <tr style=\"text-align: right;\">\n      <th></th>\n      <th>id</th>\n      <th>name</th>\n      <th>description</th>\n      <th>languages</th>\n      <th>description_length</th>\n      <th>english_available</th>\n      <th>embeddings</th>\n    </tr>\n  </thead>\n  <tbody>\n    <tr>\n      <th>2334</th>\n      <td>849200</td>\n      <td>Shadow of the Tomb Raider: Definitive Edition</td>\n      <td>In Shadow of the Tomb Raider Definitive Editio...</td>\n      <td>['English', 'French', 'Italian', 'German', 'Sp...</td>\n      <td>1067</td>\n      <td>True</td>\n      <td>[0.06343326717615128, 0.03546140715479851, -0....</td>\n    </tr>\n    <tr>\n      <th>2874</th>\n      <td>890030</td>\n      <td>Shadow of the Tomb Raider: Definitive Edition</td>\n      <td>In Shadow of the Tomb Raider Definitive Editio...</td>\n      <td>['English', 'French', 'Italian', 'German', 'Sp...</td>\n      <td>1067</td>\n      <td>True</td>\n      <td>[0.06343326717615128, 0.03546140715479851, -0....</td>\n    </tr>\n    <tr>\n      <th>3029</th>\n      <td>849178</td>\n      <td>Shadow of the Tomb Raider: Definitive Edition</td>\n      <td>In Shadow of the Tomb Raider Definitive Editio...</td>\n      <td>['English', 'French', 'Italian', 'German', 'Sp...</td>\n      <td>1067</td>\n      <td>True</td>\n      <td>[0.06343326717615128, 0.03546140715479851, -0....</td>\n    </tr>\n    <tr>\n      <th>5046</th>\n      <td>849163</td>\n      <td>Shadow of the Tomb Raider: Definitive Edition</td>\n      <td>In Shadow of the Tomb Raider Definitive Editio...</td>\n      <td>['English', 'French', 'Italian', 'German', 'Sp...</td>\n      <td>1067</td>\n      <td>True</td>\n      <td>[0.06343326717615128, 0.03546140715479851, -0....</td>\n    </tr>\n    <tr>\n      <th>6264</th>\n      <td>849166</td>\n      <td>Shadow of the Tomb Raider: Definitive Edition</td>\n      <td>In Shadow of the Tomb Raider Definitive Editio...</td>\n      <td>['English', 'French', 'Italian', 'German', 'Sp...</td>\n      <td>1067</td>\n      <td>True</td>\n      <td>[0.06343326717615128, 0.03546140715479851, -0....</td>\n    </tr>\n    <tr>\n      <th>7776</th>\n      <td>849177</td>\n      <td>Shadow of the Tomb Raider: Definitive Edition</td>\n      <td>In Shadow of the Tomb Raider Definitive Editio...</td>\n      <td>['English', 'French', 'Italian', 'German', 'Sp...</td>\n      <td>1067</td>\n      <td>True</td>\n      <td>[0.06343326717615128, 0.03546140715479851, -0....</td>\n    </tr>\n    <tr>\n      <th>9362</th>\n      <td>8000</td>\n      <td>Tomb Raider: Anniversary</td>\n      <td>Tomb Raider: Anniversary retraces Lara Croft's...</td>\n      <td>['English', 'French', 'German', 'Italian', 'Sp...</td>\n      <td>2036</td>\n      <td>True</td>\n      <td>[0.05213550105690956, 0.014603646472096443, -0...</td>\n    </tr>\n    <tr>\n      <th>10216</th>\n      <td>225020</td>\n      <td>Tomb Raider VI: The Angel of Darkness</td>\n      <td>A series of grisly murders brings Lara into co...</td>\n      <td>['English']</td>\n      <td>481</td>\n      <td>True</td>\n      <td>[-0.02054806798696518, -0.000278221326880157, ...</td>\n    </tr>\n    <tr>\n      <th>10473</th>\n      <td>233410</td>\n      <td>Tomb Raider - The Final Hours Digital Book</td>\n      <td>How did Crystal Dynamics reinvent Tomb Raider?...</td>\n      <td>['English']</td>\n      <td>751</td>\n      <td>True</td>\n      <td>[0.029012786224484444, -0.004308711271733046, ...</td>\n    </tr>\n    <tr>\n      <th>12169</th>\n      <td>225000</td>\n      <td>Tomb Raider V: Chronicles</td>\n      <td>Lara Croft is missing in Egypt - presumed dead...</td>\n      <td>['English']</td>\n      <td>333</td>\n      <td>True</td>\n      <td>[0.11889545619487762, 0.0008081530104391277, -...</td>\n    </tr>\n    <tr>\n      <th>13400</th>\n      <td>391220</td>\n      <td>Rise of the Tomb Raider™</td>\n      <td>Rise of the Tomb Raider: 20 Year Celebration i...</td>\n      <td>['English', 'French', 'Italian', 'German', 'Sp...</td>\n      <td>2064</td>\n      <td>True</td>\n      <td>[0.02038213238120079, -0.02812141366302967, -0...</td>\n    </tr>\n    <tr>\n      <th>13792</th>\n      <td>849186</td>\n      <td>Shadow of the Tomb Raider: Definitive Edition</td>\n      <td>In Shadow of the Tomb Raider Definitive Editio...</td>\n      <td>['English', 'French', 'Italian', 'German', 'Sp...</td>\n      <td>1067</td>\n      <td>True</td>\n      <td>[0.06343326717615128, 0.03546140715479851, -0....</td>\n    </tr>\n    <tr>\n      <th>14991</th>\n      <td>224960</td>\n      <td>Tomb Raider I</td>\n      <td>Adventurer Lara Croft has been hired to recove...</td>\n      <td>['English']</td>\n      <td>425</td>\n      <td>True</td>\n      <td>[0.005104025825858116, -0.0003402192087378353,...</td>\n    </tr>\n    <tr>\n      <th>15117</th>\n      <td>750920</td>\n      <td>Shadow of the Tomb Raider: Definitive Edition</td>\n      <td>In Shadow of the Tomb Raider Definitive Editio...</td>\n      <td>['English', 'French', 'Italian', 'German', 'Sp...</td>\n      <td>1067</td>\n      <td>True</td>\n      <td>[0.06343326717615128, 0.03546140715479851, -0....</td>\n    </tr>\n    <tr>\n      <th>15483</th>\n      <td>849161</td>\n      <td>Shadow of the Tomb Raider: Definitive Edition</td>\n      <td>In Shadow of the Tomb Raider Definitive Editio...</td>\n      <td>['English', 'French', 'Italian', 'German', 'Sp...</td>\n      <td>1067</td>\n      <td>True</td>\n      <td>[0.06343326717615128, 0.03546140715479851, -0....</td>\n    </tr>\n    <tr>\n      <th>20328</th>\n      <td>225320</td>\n      <td>Tomb Raider III</td>\n      <td>Thousands of years ago a meteor crashed into A...</td>\n      <td>['English']</td>\n      <td>415</td>\n      <td>True</td>\n      <td>[0.08035670965909958, 0.013515079393982887, -0...</td>\n    </tr>\n    <tr>\n      <th>24097</th>\n      <td>203160</td>\n      <td>Tomb Raider</td>\n      <td>Tomb Raider explores the intense and gritty or...</td>\n      <td>['English', 'German', 'French', 'Italian', 'Ko...</td>\n      <td>885</td>\n      <td>True</td>\n      <td>[0.08885188400745392, -0.006687828805297613, -...</td>\n    </tr>\n    <tr>\n      <th>25417</th>\n      <td>849165</td>\n      <td>Shadow of the Tomb Raider: Definitive Edition</td>\n      <td>In Shadow of the Tomb Raider Definitive Editio...</td>\n      <td>['English', 'French', 'Italian', 'German', 'Sp...</td>\n      <td>1067</td>\n      <td>True</td>\n      <td>[0.06343326717615128, 0.03546140715479851, -0....</td>\n    </tr>\n    <tr>\n      <th>28888</th>\n      <td>7000</td>\n      <td>Tomb Raider: Legend</td>\n      <td>Follow Lara Croft down a path of discovery as ...</td>\n      <td>['English', 'French', 'Italian', 'German', 'Sp...</td>\n      <td>1124</td>\n      <td>True</td>\n      <td>[0.10117554664611816, -0.007327675819396973, -...</td>\n    </tr>\n    <tr>\n      <th>31865</th>\n      <td>890031</td>\n      <td>Shadow of the Tomb Raider: Definitive Edition</td>\n      <td>In Shadow of the Tomb Raider Definitive Editio...</td>\n      <td>['English', 'French', 'Italian', 'German', 'Sp...</td>\n      <td>1067</td>\n      <td>True</td>\n      <td>[0.06343326717615128, 0.03546140715479851, -0....</td>\n    </tr>\n    <tr>\n      <th>38341</th>\n      <td>8140</td>\n      <td>Tomb Raider: Underworld</td>\n      <td>Tomb Raider: Underworld represents a new advan...</td>\n      <td>['English', 'French', 'Italian', 'German', 'Sp...</td>\n      <td>1659</td>\n      <td>True</td>\n      <td>[0.10518690198659897, -0.009576797485351562, -...</td>\n    </tr>\n    <tr>\n      <th>39967</th>\n      <td>225300</td>\n      <td>Tomb Raider II</td>\n      <td>The second instalment in the Tomb Raider serie...</td>\n      <td>['English']</td>\n      <td>286</td>\n      <td>True</td>\n      <td>[-0.03173817694187164, 0.06557439267635345, -0...</td>\n    </tr>\n    <tr>\n      <th>45988</th>\n      <td>224980</td>\n      <td>Tomb Raider IV: The Last Revelation</td>\n      <td>According to Egyptian legend, Horus, son of th...</td>\n      <td>['English']</td>\n      <td>846</td>\n      <td>True</td>\n      <td>[0.03370092809200287, 0.08965566754341125, -0....</td>\n    </tr>\n    <tr>\n      <th>47119</th>\n      <td>849168</td>\n      <td>Shadow of the Tomb Raider: Definitive Edition</td>\n      <td>In Shadow of the Tomb Raider Definitive Editio...</td>\n      <td>['English', 'French', 'Italian', 'German', 'Sp...</td>\n      <td>1067</td>\n      <td>True</td>\n      <td>[0.06343324482440948, 0.03546139597892761, -0....</td>\n    </tr>\n    <tr>\n      <th>50095</th>\n      <td>849162</td>\n      <td>Shadow of the Tomb Raider: Definitive Edition</td>\n      <td>In Shadow of the Tomb Raider Definitive Editio...</td>\n      <td>['English', 'French', 'Italian', 'German', 'Sp...</td>\n      <td>1067</td>\n      <td>True</td>\n      <td>[0.06343326717615128, 0.03546140715479851, -0....</td>\n    </tr>\n    <tr>\n      <th>50680</th>\n      <td>890032</td>\n      <td>Shadow of the Tomb Raider: Definitive Edition</td>\n      <td>In Shadow of the Tomb Raider Definitive Editio...</td>\n      <td>['English', 'French', 'Italian', 'German', 'Sp...</td>\n      <td>1067</td>\n      <td>True</td>\n      <td>[0.06343324482440948, 0.03546139597892761, -0....</td>\n    </tr>\n    <tr>\n      <th>51313</th>\n      <td>849164</td>\n      <td>Shadow of the Tomb Raider: Definitive Edition</td>\n      <td>In Shadow of the Tomb Raider Definitive Editio...</td>\n      <td>['English', 'French', 'Italian', 'German', 'Sp...</td>\n      <td>1067</td>\n      <td>True</td>\n      <td>[0.06343324482440948, 0.03546139597892761, -0....</td>\n    </tr>\n    <tr>\n      <th>51390</th>\n      <td>849167</td>\n      <td>Shadow of the Tomb Raider: Definitive Edition</td>\n      <td>In Shadow of the Tomb Raider Definitive Editio...</td>\n      <td>['English', 'French', 'Italian', 'German', 'Sp...</td>\n      <td>1067</td>\n      <td>True</td>\n      <td>[0.06343326717615128, 0.03546140715479851, -0....</td>\n    </tr>\n    <tr>\n      <th>53817</th>\n      <td>849179</td>\n      <td>Shadow of the Tomb Raider: Definitive Edition</td>\n      <td>In Shadow of the Tomb Raider Definitive Editio...</td>\n      <td>['English', 'French', 'Italian', 'German', 'Sp...</td>\n      <td>1067</td>\n      <td>True</td>\n      <td>[0.06343326717615128, 0.03546140715479851, -0....</td>\n    </tr>\n    <tr>\n      <th>57100</th>\n      <td>849160</td>\n      <td>Shadow of the Tomb Raider: Definitive Edition</td>\n      <td>In Shadow of the Tomb Raider Definitive Editio...</td>\n      <td>['English', 'French', 'Italian', 'German', 'Sp...</td>\n      <td>1067</td>\n      <td>True</td>\n      <td>[0.06343324482440948, 0.03546139597892761, -0....</td>\n    </tr>\n    <tr>\n      <th>58130</th>\n      <td>905320</td>\n      <td>Shadow of the Tomb Raider: Definitive Edition</td>\n      <td>In Shadow of the Tomb Raider Definitive Editio...</td>\n      <td>['English', 'French', 'Italian', 'German', 'Sp...</td>\n      <td>1067</td>\n      <td>True</td>\n      <td>[0.06343326717615128, 0.03546140715479851, -0....</td>\n    </tr>\n    <tr>\n      <th>60398</th>\n      <td>849176</td>\n      <td>Shadow of the Tomb Raider: Definitive Edition</td>\n      <td>In Shadow of the Tomb Raider Definitive Editio...</td>\n      <td>['English', 'French', 'Italian', 'German', 'Sp...</td>\n      <td>1067</td>\n      <td>True</td>\n      <td>[0.06343326717615128, 0.03546140715479851, -0....</td>\n    </tr>\n    <tr>\n      <th>87032</th>\n      <td>2478970</td>\n      <td>Tomb Raider I-III Remastered Starring Lara Croft</td>\n      <td>Discover Lara Croft’s Original Adventures, Lov...</td>\n      <td>['English', 'French', 'German', 'Russian', 'Cz...</td>\n      <td>780</td>\n      <td>True</td>\n      <td>[0.08004443347454071, -0.026192452758550644, 0...</td>\n    </tr>\n  </tbody>\n</table>\n</div>"
     },
     "execution_count": 26,
     "metadata": {},
     "output_type": "execute_result"
    }
   ],
   "source": [
    "try_out[try_out[\"name\"].str.lower().str.contains(\"raider\")]"
   ]
  },
  {
   "cell_type": "code",
   "execution_count": 27,
   "id": "68497f31",
   "metadata": {
    "ExecuteTime": {
     "end_time": "2024-10-25T13:24:12.777957Z",
     "start_time": "2024-10-25T13:24:12.775044Z"
    }
   },
   "outputs": [],
   "source": [
    "g_1 = try_out[try_out[\"id\"] == 849177]\n",
    "g_2 = try_out[try_out[\"id\"] == 391220]"
   ]
  },
  {
   "cell_type": "code",
   "execution_count": 28,
   "id": "529c71e3",
   "metadata": {
    "ExecuteTime": {
     "end_time": "2024-10-25T13:24:12.807864Z",
     "start_time": "2024-10-25T13:24:12.779834Z"
    }
   },
   "outputs": [
    {
     "data": {
      "text/plain": "          id                                           name  \\\n7776  849177  Shadow of the Tomb Raider: Definitive Edition   \n\n                                            description  \\\n7776  In Shadow of the Tomb Raider Definitive Editio...   \n\n                                              languages  description_length  \\\n7776  ['English', 'French', 'Italian', 'German', 'Sp...                1067   \n\n      english_available                                         embeddings  \n7776               True  [0.06343326717615128, 0.03546140715479851, -0....  ",
      "text/html": "<div>\n<style scoped>\n    .dataframe tbody tr th:only-of-type {\n        vertical-align: middle;\n    }\n\n    .dataframe tbody tr th {\n        vertical-align: top;\n    }\n\n    .dataframe thead th {\n        text-align: right;\n    }\n</style>\n<table border=\"1\" class=\"dataframe\">\n  <thead>\n    <tr style=\"text-align: right;\">\n      <th></th>\n      <th>id</th>\n      <th>name</th>\n      <th>description</th>\n      <th>languages</th>\n      <th>description_length</th>\n      <th>english_available</th>\n      <th>embeddings</th>\n    </tr>\n  </thead>\n  <tbody>\n    <tr>\n      <th>7776</th>\n      <td>849177</td>\n      <td>Shadow of the Tomb Raider: Definitive Edition</td>\n      <td>In Shadow of the Tomb Raider Definitive Editio...</td>\n      <td>['English', 'French', 'Italian', 'German', 'Sp...</td>\n      <td>1067</td>\n      <td>True</td>\n      <td>[0.06343326717615128, 0.03546140715479851, -0....</td>\n    </tr>\n  </tbody>\n</table>\n</div>"
     },
     "execution_count": 28,
     "metadata": {},
     "output_type": "execute_result"
    }
   ],
   "source": [
    "g_1"
   ]
  },
  {
   "cell_type": "code",
   "execution_count": 29,
   "id": "384bb5e5",
   "metadata": {
    "ExecuteTime": {
     "end_time": "2024-10-25T13:24:12.808592Z",
     "start_time": "2024-10-25T13:24:12.785180Z"
    }
   },
   "outputs": [
    {
     "data": {
      "text/plain": "           id                      name  \\\n13400  391220  Rise of the Tomb Raider™   \n\n                                             description  \\\n13400  Rise of the Tomb Raider: 20 Year Celebration i...   \n\n                                               languages  description_length  \\\n13400  ['English', 'French', 'Italian', 'German', 'Sp...                2064   \n\n       english_available                                         embeddings  \n13400               True  [0.02038213238120079, -0.02812141366302967, -0...  ",
      "text/html": "<div>\n<style scoped>\n    .dataframe tbody tr th:only-of-type {\n        vertical-align: middle;\n    }\n\n    .dataframe tbody tr th {\n        vertical-align: top;\n    }\n\n    .dataframe thead th {\n        text-align: right;\n    }\n</style>\n<table border=\"1\" class=\"dataframe\">\n  <thead>\n    <tr style=\"text-align: right;\">\n      <th></th>\n      <th>id</th>\n      <th>name</th>\n      <th>description</th>\n      <th>languages</th>\n      <th>description_length</th>\n      <th>english_available</th>\n      <th>embeddings</th>\n    </tr>\n  </thead>\n  <tbody>\n    <tr>\n      <th>13400</th>\n      <td>391220</td>\n      <td>Rise of the Tomb Raider™</td>\n      <td>Rise of the Tomb Raider: 20 Year Celebration i...</td>\n      <td>['English', 'French', 'Italian', 'German', 'Sp...</td>\n      <td>2064</td>\n      <td>True</td>\n      <td>[0.02038213238120079, -0.02812141366302967, -0...</td>\n    </tr>\n  </tbody>\n</table>\n</div>"
     },
     "execution_count": 29,
     "metadata": {},
     "output_type": "execute_result"
    }
   ],
   "source": [
    "g_2"
   ]
  },
  {
   "cell_type": "code",
   "execution_count": 31,
   "id": "313e7efa8d8b9e28",
   "metadata": {
    "collapsed": false,
    "ExecuteTime": {
     "end_time": "2024-10-25T13:25:00.604760Z",
     "start_time": "2024-10-25T13:25:00.572204Z"
    }
   },
   "outputs": [
    {
     "name": "stdout",
     "output_type": "stream",
     "text": [
      "Similarity Shadow of the Tomb Raider: Definitive Edition and Rise of the Tomb Raider™: 0.7960406541824341\n"
     ]
    }
   ],
   "source": [
    "#Get similarity of the first two games\n",
    "similarity = model.similarity(g_1[\"embeddings\"].iloc[0], g_2[\"embeddings\"].iloc[0])\n",
    "print(f\"Similarity {g_1['name'].iloc[0]} and {g_2['name'].iloc[0]}: {similarity[0][0]}\")"
   ]
  },
  {
   "cell_type": "code",
   "execution_count": 32,
   "outputs": [
    {
     "data": {
      "text/plain": "384"
     },
     "execution_count": 32,
     "metadata": {},
     "output_type": "execute_result"
    }
   ],
   "source": [
    "len(g_1[\"embeddings\"].iloc[0])"
   ],
   "metadata": {
    "collapsed": false,
    "ExecuteTime": {
     "end_time": "2024-10-25T13:25:53.098739Z",
     "start_time": "2024-10-25T13:25:52.954882Z"
    }
   },
   "id": "84bea2d74a866e08"
  },
  {
   "cell_type": "code",
   "execution_count": 37,
   "outputs": [
    {
     "data": {
      "text/plain": "'In Shadow of the Tomb Raider Definitive Edition experience the final chapter of Lara’s origin as she is forged into the Tomb Raider she is destined to be. Combining the base game, all seven DLC challenge tombs, as well as all downloadable weapons, outfits, and skills, Shadow of the Tomb Raider Definitive Edition is the ultimate way to experience Lara’s defining moment. Survive and Thrive In the Deadliest Place on Earth: Master an unforgiving jungle setting in order to survive. Explore underwater environments filled with crevasses and deep tunnel systems. Become One With the Jungle: Outgunned and outnumbered, Lara must use the jungle to her advantage. Strike suddenly and disappear like a jaguar, use mud as camouflage, and instill fear in enemies to sow chaos. Discover Dark and Brutal Tombs: Tombs are more terrifying than ever before, requiring advanced traversal techniques to reach them, and once inside they are filled with deadly puzzles. Uncover Living History: Discover a hidden city and explore the biggest hub space ever found in a Tomb Raider game.'"
     },
     "execution_count": 37,
     "metadata": {},
     "output_type": "execute_result"
    }
   ],
   "source": [
    "try_out = games[games[\"name\"].str.contains(\"Tomb\")]['description'].tolist()\n",
    "try_out[1]"
   ],
   "metadata": {
    "collapsed": false,
    "ExecuteTime": {
     "end_time": "2024-10-25T13:27:14.836344Z",
     "start_time": "2024-10-25T13:27:14.828845Z"
    }
   },
   "id": "b4cbd4f1011aff62"
  },
  {
   "cell_type": "code",
   "execution_count": 39,
   "outputs": [
    {
     "data": {
      "text/plain": "array([[ 0.06343327,  0.03546141, -0.02602137, ..., -0.00740381,\n        -0.02220744,  0.02165746],\n       [ 0.06343327,  0.03546141, -0.02602137, ..., -0.00740381,\n        -0.02220744,  0.02165746],\n       [ 0.06343327,  0.03546141, -0.02602137, ..., -0.00740381,\n        -0.02220744,  0.02165746],\n       ...,\n       [ 0.02549083,  0.01160261,  0.01183154, ...,  0.00622795,\n         0.01721971,  0.00143279],\n       [-0.02595875,  0.00161912, -0.01403517, ..., -0.07431141,\n        -0.00046543,  0.03900463],\n       [ 0.01256837,  0.02807377,  0.00240498, ..., -0.00124454,\n        -0.07366564,  0.00493834]], dtype=float32)"
     },
     "execution_count": 39,
     "metadata": {},
     "output_type": "execute_result"
    }
   ],
   "source": [
    "embeddings = model.encode(try_out)\n",
    "embeddings"
   ],
   "metadata": {
    "collapsed": false,
    "ExecuteTime": {
     "end_time": "2024-10-25T13:28:15.310055Z",
     "start_time": "2024-10-25T13:28:14.627309Z"
    }
   },
   "id": "e36b2cc14d93e127"
  },
  {
   "cell_type": "code",
   "execution_count": 40,
   "outputs": [
    {
     "data": {
      "text/plain": "84"
     },
     "execution_count": 40,
     "metadata": {},
     "output_type": "execute_result"
    }
   ],
   "source": [
    "len(try_out)"
   ],
   "metadata": {
    "collapsed": false,
    "ExecuteTime": {
     "end_time": "2024-10-25T13:28:26.273845Z",
     "start_time": "2024-10-25T13:28:26.255632Z"
    }
   },
   "id": "ecec1f6375690d28"
  },
  {
   "cell_type": "code",
   "execution_count": 41,
   "outputs": [
    {
     "data": {
      "text/plain": "modules.json:   0%|          | 0.00/349 [00:00<?, ?B/s]",
      "application/vnd.jupyter.widget-view+json": {
       "version_major": 2,
       "version_minor": 0,
       "model_id": "c73525db1fc24fdf9e973fe354a8c4c4"
      }
     },
     "metadata": {},
     "output_type": "display_data"
    },
    {
     "data": {
      "text/plain": "config_sentence_transformers.json:   0%|          | 0.00/116 [00:00<?, ?B/s]",
      "application/vnd.jupyter.widget-view+json": {
       "version_major": 2,
       "version_minor": 0,
       "model_id": "432d26c2caa843ce8d5f8ef79a2e7e69"
      }
     },
     "metadata": {},
     "output_type": "display_data"
    },
    {
     "data": {
      "text/plain": "README.md:   0%|          | 0.00/10.6k [00:00<?, ?B/s]",
      "application/vnd.jupyter.widget-view+json": {
       "version_major": 2,
       "version_minor": 0,
       "model_id": "35d464af29fd409f804c6d40112c835e"
      }
     },
     "metadata": {},
     "output_type": "display_data"
    },
    {
     "data": {
      "text/plain": "sentence_bert_config.json:   0%|          | 0.00/53.0 [00:00<?, ?B/s]",
      "application/vnd.jupyter.widget-view+json": {
       "version_major": 2,
       "version_minor": 0,
       "model_id": "75a61d9f26f34cb49a29fecc9ec410f0"
      }
     },
     "metadata": {},
     "output_type": "display_data"
    },
    {
     "data": {
      "text/plain": "config.json:   0%|          | 0.00/571 [00:00<?, ?B/s]",
      "application/vnd.jupyter.widget-view+json": {
       "version_major": 2,
       "version_minor": 0,
       "model_id": "142baee345a34a7aa775ed86f2ea0f6f"
      }
     },
     "metadata": {},
     "output_type": "display_data"
    },
    {
     "data": {
      "text/plain": "model.safetensors:   0%|          | 0.00/438M [00:00<?, ?B/s]",
      "application/vnd.jupyter.widget-view+json": {
       "version_major": 2,
       "version_minor": 0,
       "model_id": "f3eb1afb763a4e8ab973f07fb178fe19"
      }
     },
     "metadata": {},
     "output_type": "display_data"
    },
    {
     "data": {
      "text/plain": "tokenizer_config.json:   0%|          | 0.00/363 [00:00<?, ?B/s]",
      "application/vnd.jupyter.widget-view+json": {
       "version_major": 2,
       "version_minor": 0,
       "model_id": "600533f4568441b8be9d4fba9a08ba70"
      }
     },
     "metadata": {},
     "output_type": "display_data"
    },
    {
     "data": {
      "text/plain": "vocab.txt:   0%|          | 0.00/232k [00:00<?, ?B/s]",
      "application/vnd.jupyter.widget-view+json": {
       "version_major": 2,
       "version_minor": 0,
       "model_id": "f320b5c9b3204e35a8e4091c339584b5"
      }
     },
     "metadata": {},
     "output_type": "display_data"
    },
    {
     "data": {
      "text/plain": "tokenizer.json:   0%|          | 0.00/466k [00:00<?, ?B/s]",
      "application/vnd.jupyter.widget-view+json": {
       "version_major": 2,
       "version_minor": 0,
       "model_id": "7cb4e1cf21dd4e87bbf0bbfb637ef076"
      }
     },
     "metadata": {},
     "output_type": "display_data"
    },
    {
     "data": {
      "text/plain": "special_tokens_map.json:   0%|          | 0.00/239 [00:00<?, ?B/s]",
      "application/vnd.jupyter.widget-view+json": {
       "version_major": 2,
       "version_minor": 0,
       "model_id": "03001b3dac92474493f4e7b11ccacb76"
      }
     },
     "metadata": {},
     "output_type": "display_data"
    },
    {
     "name": "stderr",
     "output_type": "stream",
     "text": [
      "/Users/aceto/anaconda3/lib/python3.11/site-packages/transformers/tokenization_utils_base.py:1601: FutureWarning: `clean_up_tokenization_spaces` was not set. It will be set to `True` by default. This behavior will be depracted in transformers v4.45, and will be then set to `False` by default. For more details check this issue: https://github.com/huggingface/transformers/issues/31884\n",
      "  warnings.warn(\n"
     ]
    },
    {
     "data": {
      "text/plain": "1_Pooling/config.json:   0%|          | 0.00/190 [00:00<?, ?B/s]",
      "application/vnd.jupyter.widget-view+json": {
       "version_major": 2,
       "version_minor": 0,
       "model_id": "f37d9ef8e35e48808bc849ad17808fe9"
      }
     },
     "metadata": {},
     "output_type": "display_data"
    }
   ],
   "source": [
    "model_bigger = SentenceTransformer('all-mpnet-base-v2')"
   ],
   "metadata": {
    "collapsed": false,
    "ExecuteTime": {
     "end_time": "2024-10-25T13:35:20.080794Z",
     "start_time": "2024-10-25T13:34:41.080338Z"
    }
   },
   "id": "483cf50bb6f6a750"
  },
  {
   "cell_type": "code",
   "execution_count": 51,
   "outputs": [
    {
     "name": "stderr",
     "output_type": "stream",
     "text": [
      "/var/folders/3r/gx5x0f7n6lvd5yzgw2zddpv80000gn/T/ipykernel_25453/502143887.py:3: SettingWithCopyWarning: \n",
      "A value is trying to be set on a copy of a slice from a DataFrame.\n",
      "Try using .loc[row_indexer,col_indexer] = value instead\n",
      "\n",
      "See the caveats in the documentation: https://pandas.pydata.org/pandas-docs/stable/user_guide/indexing.html#returning-a-view-versus-a-copy\n",
      "  try_out['embeddings'] = embeddings.tolist()\n"
     ]
    },
    {
     "data": {
      "text/plain": "            id                                           name  \\\n2334    849200  Shadow of the Tomb Raider: Definitive Edition   \n2874    890030  Shadow of the Tomb Raider: Definitive Edition   \n3029    849178  Shadow of the Tomb Raider: Definitive Edition   \n3084   1253270              Scoot Kaboom and the Tomb of Doom   \n3901    652830               Lost Legends: The Pharaoh's Tomb   \n...        ...                                            ...   \n92852  2999240                                Tomb nightmares   \n93451  2530310                              Gifted: The Tombs   \n94645  2839940                         The Tomb of Corruption   \n95764  2851150                         Tomba! Special Edition   \n95900  1969920                               Tomb Explorer VR   \n\n                                             description  \\\n2334   In Shadow of the Tomb Raider Definitive Editio...   \n2874   In Shadow of the Tomb Raider Definitive Editio...   \n3029   In Shadow of the Tomb Raider Definitive Editio...   \n3084   Can you survive the Tomb of Doom? Scoot Kaboom...   \n3901   Your eyes take a moment to adjust, you’re diso...   \n...                                                  ...   \n92852  A cozy and atmospheric game for the evening. T...   \n93451  Gifted: The Tombs is a rogue-like dungeon craw...   \n94645  An alien disease is spreading and needs to be ...   \n95764  Tomba! returns in Tomba! Special Edition , the...   \n95900  Tomb Explorer VR is an adventure game where yo...   \n\n                                               languages  description_length  \\\n2334   ['English', 'French', 'Italian', 'German', 'Sp...                1067   \n2874   ['English', 'French', 'Italian', 'German', 'Sp...                1067   \n3029   ['English', 'French', 'Italian', 'German', 'Sp...                1067   \n3084                                         ['English']                 948   \n3901                                         ['English']                1878   \n...                                                  ...                 ...   \n92852                   ['English', 'German', 'Russian']                 800   \n93451                                        ['English']                1174   \n94645                                        ['English']                2011   \n95764  ['English', 'French', 'Italian', 'German', 'Sp...                 993   \n95900  ['English', 'French', 'Italian', 'German', 'Sp...                1634   \n\n       english_available                                         embeddings  \n2334                True  [0.01750553771853447, 0.05562837794423103, -0....  \n2874                True  [0.01750553771853447, 0.05562837794423103, -0....  \n3029                True  [0.01750553771853447, 0.05562837794423103, -0....  \n3084                True  [-0.011162365786731243, -0.019587544724345207,...  \n3901                True  [-0.002070012968033552, 0.009686192497611046, ...  \n...                  ...                                                ...  \n92852               True  [0.00031786016188561916, 0.06589531898498535, ...  \n93451               True  [0.006209747865796089, 0.07671275734901428, 0....  \n94645               True  [0.03214336931705475, 0.08364725112915039, 0.0...  \n95764               True  [0.003883416997268796, 0.05490153655409813, -0...  \n95900               True  [0.012749385088682175, -3.519457459333353e-05,...  \n\n[84 rows x 7 columns]",
      "text/html": "<div>\n<style scoped>\n    .dataframe tbody tr th:only-of-type {\n        vertical-align: middle;\n    }\n\n    .dataframe tbody tr th {\n        vertical-align: top;\n    }\n\n    .dataframe thead th {\n        text-align: right;\n    }\n</style>\n<table border=\"1\" class=\"dataframe\">\n  <thead>\n    <tr style=\"text-align: right;\">\n      <th></th>\n      <th>id</th>\n      <th>name</th>\n      <th>description</th>\n      <th>languages</th>\n      <th>description_length</th>\n      <th>english_available</th>\n      <th>embeddings</th>\n    </tr>\n  </thead>\n  <tbody>\n    <tr>\n      <th>2334</th>\n      <td>849200</td>\n      <td>Shadow of the Tomb Raider: Definitive Edition</td>\n      <td>In Shadow of the Tomb Raider Definitive Editio...</td>\n      <td>['English', 'French', 'Italian', 'German', 'Sp...</td>\n      <td>1067</td>\n      <td>True</td>\n      <td>[0.01750553771853447, 0.05562837794423103, -0....</td>\n    </tr>\n    <tr>\n      <th>2874</th>\n      <td>890030</td>\n      <td>Shadow of the Tomb Raider: Definitive Edition</td>\n      <td>In Shadow of the Tomb Raider Definitive Editio...</td>\n      <td>['English', 'French', 'Italian', 'German', 'Sp...</td>\n      <td>1067</td>\n      <td>True</td>\n      <td>[0.01750553771853447, 0.05562837794423103, -0....</td>\n    </tr>\n    <tr>\n      <th>3029</th>\n      <td>849178</td>\n      <td>Shadow of the Tomb Raider: Definitive Edition</td>\n      <td>In Shadow of the Tomb Raider Definitive Editio...</td>\n      <td>['English', 'French', 'Italian', 'German', 'Sp...</td>\n      <td>1067</td>\n      <td>True</td>\n      <td>[0.01750553771853447, 0.05562837794423103, -0....</td>\n    </tr>\n    <tr>\n      <th>3084</th>\n      <td>1253270</td>\n      <td>Scoot Kaboom and the Tomb of Doom</td>\n      <td>Can you survive the Tomb of Doom? Scoot Kaboom...</td>\n      <td>['English']</td>\n      <td>948</td>\n      <td>True</td>\n      <td>[-0.011162365786731243, -0.019587544724345207,...</td>\n    </tr>\n    <tr>\n      <th>3901</th>\n      <td>652830</td>\n      <td>Lost Legends: The Pharaoh's Tomb</td>\n      <td>Your eyes take a moment to adjust, you’re diso...</td>\n      <td>['English']</td>\n      <td>1878</td>\n      <td>True</td>\n      <td>[-0.002070012968033552, 0.009686192497611046, ...</td>\n    </tr>\n    <tr>\n      <th>...</th>\n      <td>...</td>\n      <td>...</td>\n      <td>...</td>\n      <td>...</td>\n      <td>...</td>\n      <td>...</td>\n      <td>...</td>\n    </tr>\n    <tr>\n      <th>92852</th>\n      <td>2999240</td>\n      <td>Tomb nightmares</td>\n      <td>A cozy and atmospheric game for the evening. T...</td>\n      <td>['English', 'German', 'Russian']</td>\n      <td>800</td>\n      <td>True</td>\n      <td>[0.00031786016188561916, 0.06589531898498535, ...</td>\n    </tr>\n    <tr>\n      <th>93451</th>\n      <td>2530310</td>\n      <td>Gifted: The Tombs</td>\n      <td>Gifted: The Tombs is a rogue-like dungeon craw...</td>\n      <td>['English']</td>\n      <td>1174</td>\n      <td>True</td>\n      <td>[0.006209747865796089, 0.07671275734901428, 0....</td>\n    </tr>\n    <tr>\n      <th>94645</th>\n      <td>2839940</td>\n      <td>The Tomb of Corruption</td>\n      <td>An alien disease is spreading and needs to be ...</td>\n      <td>['English']</td>\n      <td>2011</td>\n      <td>True</td>\n      <td>[0.03214336931705475, 0.08364725112915039, 0.0...</td>\n    </tr>\n    <tr>\n      <th>95764</th>\n      <td>2851150</td>\n      <td>Tomba! Special Edition</td>\n      <td>Tomba! returns in Tomba! Special Edition , the...</td>\n      <td>['English', 'French', 'Italian', 'German', 'Sp...</td>\n      <td>993</td>\n      <td>True</td>\n      <td>[0.003883416997268796, 0.05490153655409813, -0...</td>\n    </tr>\n    <tr>\n      <th>95900</th>\n      <td>1969920</td>\n      <td>Tomb Explorer VR</td>\n      <td>Tomb Explorer VR is an adventure game where yo...</td>\n      <td>['English', 'French', 'Italian', 'German', 'Sp...</td>\n      <td>1634</td>\n      <td>True</td>\n      <td>[0.012749385088682175, -3.519457459333353e-05,...</td>\n    </tr>\n  </tbody>\n</table>\n<p>84 rows × 7 columns</p>\n</div>"
     },
     "execution_count": 51,
     "metadata": {},
     "output_type": "execute_result"
    }
   ],
   "source": [
    "try_out = games[games[\"name\"].str.contains(\"Tomb\")]\n",
    "embeddings = model_bigger.encode(try_out['description'].tolist())\n",
    "try_out['embeddings'] = embeddings.tolist()\n",
    "try_out"
   ],
   "metadata": {
    "collapsed": false,
    "ExecuteTime": {
     "end_time": "2024-10-25T14:06:44.402148Z",
     "start_time": "2024-10-25T14:06:41.429608Z"
    }
   },
   "id": "225e072deae7b2c3"
  },
  {
   "cell_type": "code",
   "execution_count": 52,
   "outputs": [],
   "source": [
    "g_1 = try_out[try_out[\"id\"] == 849177]\n",
    "g_2 = try_out[try_out[\"id\"] == 391220]"
   ],
   "metadata": {
    "collapsed": false,
    "ExecuteTime": {
     "end_time": "2024-10-25T14:06:46.602286Z",
     "start_time": "2024-10-25T14:06:46.598576Z"
    }
   },
   "id": "134e4aa79298761b"
  },
  {
   "cell_type": "code",
   "execution_count": 53,
   "outputs": [
    {
     "data": {
      "text/plain": "768"
     },
     "execution_count": 53,
     "metadata": {},
     "output_type": "execute_result"
    }
   ],
   "source": [
    "len(g_1['embeddings'].iloc[0])"
   ],
   "metadata": {
    "collapsed": false,
    "ExecuteTime": {
     "end_time": "2024-10-25T14:06:46.943991Z",
     "start_time": "2024-10-25T14:06:46.939763Z"
    }
   },
   "id": "c4746d5ab85d0841"
  },
  {
   "cell_type": "code",
   "execution_count": 54,
   "outputs": [
    {
     "name": "stdout",
     "output_type": "stream",
     "text": [
      "Similarity Shadow of the Tomb Raider: Definitive Edition and Rise of the Tomb Raider™: 0.8550346493721008\n"
     ]
    }
   ],
   "source": [
    "similarity = model_bigger.similarity(g_1[\"embeddings\"].iloc[0], g_2[\"embeddings\"].iloc[0])\n",
    "print(f\"Similarity {g_1['name'].iloc[0]} and {g_2['name'].iloc[0]}: {similarity[0][0]}\")"
   ],
   "metadata": {
    "collapsed": false,
    "ExecuteTime": {
     "end_time": "2024-10-25T14:06:48.087713Z",
     "start_time": "2024-10-25T14:06:48.083321Z"
    }
   },
   "id": "3fd82d220c3d0bdd"
  },
  {
   "cell_type": "code",
   "execution_count": null,
   "outputs": [],
   "source": [],
   "metadata": {
    "collapsed": false
   },
   "id": "95057f8ac211112"
  }
 ],
 "metadata": {
  "kernelspec": {
   "display_name": "Python 3",
   "language": "python",
   "name": "python3"
  },
  "language_info": {
   "codemirror_mode": {
    "name": "ipython",
    "version": 3
   },
   "file_extension": ".py",
   "mimetype": "text/x-python",
   "name": "python",
   "nbconvert_exporter": "python",
   "pygments_lexer": "ipython3",
   "version": "3.12.3"
  }
 },
 "nbformat": 4,
 "nbformat_minor": 5
}
