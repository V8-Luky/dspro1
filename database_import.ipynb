{
 "cells": [
  {
   "cell_type": "code",
   "execution_count": 1,
   "metadata": {},
   "outputs": [
    {
     "name": "stderr",
     "output_type": "stream",
     "text": [
      "c:\\Users\\LUKY\\Repos\\HSLU\\dspro1\\.venv\\Lib\\site-packages\\sentence_transformers\\cross_encoder\\CrossEncoder.py:13: TqdmWarning: IProgress not found. Please update jupyter and ipywidgets. See https://ipywidgets.readthedocs.io/en/stable/user_install.html\n",
      "  from tqdm.autonotebook import tqdm, trange\n"
     ]
    }
   ],
   "source": [
    "import pandas as pd\n",
    "\n",
    "from data.game_data import GameData\n",
    "from database.game_database import GameDatabase\n",
    "from embedding.description_embedder import DescriptionEmbedder\n",
    "\n",
    "\n",
    "API_KEY = \"3ba8f200-99a7-4b16-8d49-ba671878b6d9\"  # Yeah, security\n",
    "GAMES_FILE = \"games_cleaned.csv\""
   ]
  },
  {
   "cell_type": "markdown",
   "metadata": {},
   "source": [
    "## Data\n",
    "\n",
    "First we need to load the already cleaned and preprocessed data."
   ]
  },
  {
   "cell_type": "code",
   "execution_count": 2,
   "metadata": {},
   "outputs": [],
   "source": [
    "games = pd.read_csv(GAMES_FILE)"
   ]
  },
  {
   "cell_type": "markdown",
   "metadata": {},
   "source": [
    "Any records that we don't want to store in the database should be filtered out now."
   ]
  },
  {
   "cell_type": "code",
   "execution_count": 3,
   "metadata": {},
   "outputs": [],
   "source": [
    "games = games[games[\"name\"].str.contains(\"Tomb\")] # Select the games to store in the database"
   ]
  },
  {
   "cell_type": "markdown",
   "metadata": {},
   "source": [
    "## Embedding\n",
    "After preparing the data we can set up the transformer for the embedding. We are preparing several embedders that are domain specific to our data. For now we are using the `DescriptionEmbedder` which is a transformer that uses a `sentence-transformer` library to embed the description of our games."
   ]
  },
  {
   "cell_type": "code",
   "execution_count": 4,
   "metadata": {},
   "outputs": [],
   "source": [
    "embedder = DescriptionEmbedder(transformer_name=\"all-MiniLM-L6-v2\")"
   ]
  },
  {
   "cell_type": "markdown",
   "metadata": {},
   "source": [
    "Store the games and embedding in a data wrapper class for easier access later on. Doing so will use the embedder/transformer to create the embeddings from the data and determine the dimensionality of the embeddings."
   ]
  },
  {
   "cell_type": "code",
   "execution_count": 2,
   "metadata": {},
   "outputs": [
    {
     "ename": "NameError",
     "evalue": "name 'games' is not defined",
     "output_type": "error",
     "traceback": [
      "\u001b[1;31m---------------------------------------------------------------------------\u001b[0m",
      "\u001b[1;31mNameError\u001b[0m                                 Traceback (most recent call last)",
      "Cell \u001b[1;32mIn[2], line 1\u001b[0m\n\u001b[1;32m----> 1\u001b[0m game_data \u001b[38;5;241m=\u001b[39m GameData(games\u001b[38;5;241m=\u001b[39m\u001b[43mgames\u001b[49m, embedder\u001b[38;5;241m=\u001b[39membedder)\n",
      "\u001b[1;31mNameError\u001b[0m: name 'games' is not defined"
     ]
    }
   ],
   "source": [
    "game_data = GameData(games=games, embedder=embedder)"
   ]
  },
  {
   "cell_type": "code",
   "execution_count": 6,
   "metadata": {},
   "outputs": [
    {
     "name": "stdout",
     "output_type": "stream",
     "text": [
      "Embeddings shape: (84, 384)\n"
     ]
    }
   ],
   "source": [
    "embeddings = game_data.embeddings\n",
    "dimension = game_data.embedding_dimension\n",
    "print(f\"Embeddings shape: {embeddings.shape}\")"
   ]
  },
  {
   "cell_type": "markdown",
   "metadata": {},
   "source": [
    "## Database\n",
    "Now, with the data prepare and the embeddings generated, we can store them in the database (currently using Pinecone)."
   ]
  },
  {
   "cell_type": "code",
   "execution_count": 3,
   "metadata": {},
   "outputs": [],
   "source": [
    "db = GameDatabase(api_key=API_KEY, dimension=384)"
   ]
  },
  {
   "cell_type": "code",
   "execution_count": 8,
   "metadata": {},
   "outputs": [],
   "source": [
    "db.load_data(game_data.ids, game_data.metadata, game_data.embeddings)"
   ]
  },
  {
   "cell_type": "markdown",
   "metadata": {},
   "source": [
    "It takes some time until the data is created in the Pinecone service"
   ]
  },
  {
   "cell_type": "code",
   "execution_count": 19,
   "metadata": {},
   "outputs": [
    {
     "data": {
      "text/plain": [
       "{'dimension': 384,\n",
       " 'index_fullness': 0.0,\n",
       " 'namespaces': {'steam-games': {'vector_count': 65}},\n",
       " 'total_vector_count': 65}"
      ]
     },
     "execution_count": 19,
     "metadata": {},
     "output_type": "execute_result"
    }
   ],
   "source": [
    "db.describe_index()"
   ]
  },
  {
   "cell_type": "markdown",
   "metadata": {},
   "source": [
    "Once created, we can query the database to check if the data is stored correctly."
   ]
  },
  {
   "cell_type": "markdown",
   "metadata": {},
   "source": [
    "### Get By ID\n",
    "A record can either be retrieved directly by ID..."
   ]
  },
  {
   "cell_type": "code",
   "execution_count": 20,
   "metadata": {},
   "outputs": [
    {
     "name": "stdout",
     "output_type": "stream",
     "text": [
      "ID: Tomb Raider II , Name: Tomb Raider II\n"
     ]
    }
   ],
   "source": [
    "game = db.get_by_id(\"Tomb Raider II\")\n",
    "print(\"ID:\", game.id, \", Name:\", game.metadata[\"name\"])"
   ]
  },
  {
   "cell_type": "markdown",
   "metadata": {},
   "source": [
    "### Get By Embedding\n",
    "...or we can get all the records that are similar to a given embedding."
   ]
  },
  {
   "cell_type": "code",
   "execution_count": 21,
   "metadata": {},
   "outputs": [
    {
     "data": {
      "text/plain": [
       "10"
      ]
     },
     "execution_count": 21,
     "metadata": {},
     "output_type": "execute_result"
    }
   ],
   "source": [
    "matches = db.get_similar(game.values, k=10)\n",
    "len(matches)"
   ]
  },
  {
   "cell_type": "code",
   "execution_count": 22,
   "metadata": {},
   "outputs": [
    {
     "name": "stdout",
     "output_type": "stream",
     "text": [
      "ID: Tomb Raider II - Name: Tomb Raider II , Similarity: 1.0000001\n",
      "ID: Tomb Raider: Legend - Name: Tomb Raider: Legend , Similarity: 0.6332107\n",
      "ID: Shadow of the Tomb Raider: Definitive Edition - Name: Shadow of the Tomb Raider: Definitive Edition , Similarity: 0.6131774\n",
      "ID: Rise of the Tomb Raider - Name: Rise of the Tomb Raider™ , Similarity: 0.60820234\n",
      "ID: Tomb Raider: Underworld - Name: Tomb Raider: Underworld , Similarity: 0.5933311\n",
      "ID: Tomb Raider III - Name: Tomb Raider III , Similarity: 0.5847119\n",
      "ID: Tomb Raider - Name: Tomb Raider , Similarity: 0.57854533\n",
      "ID: Tomb Raider IV: The Last Revelation - Name: Tomb Raider IV: The Last Revelation , Similarity: 0.5702852\n",
      "ID: Tomb Raider I-III Remastered Starring Lara Croft - Name: Tomb Raider I-III Remastered Starring Lara Croft , Similarity: 0.5581841\n",
      "ID: Tomb Raider: Anniversary - Name: Tomb Raider: Anniversary , Similarity: 0.5469401\n"
     ]
    }
   ],
   "source": [
    "for match in matches:\n",
    "    print(\"ID:\", match.id, \"- Name:\", match.metadata[\"name\"], \", Similarity:\", match.score)"
   ]
  },
  {
   "cell_type": "code",
   "execution_count": null,
   "metadata": {},
   "outputs": [],
   "source": [
    "ids = db.get_ids()\n",
    "len(ids)"
   ]
  }
 ],
 "metadata": {
  "kernelspec": {
   "display_name": ".venv",
   "language": "python",
   "name": "python3"
  },
  "language_info": {
   "codemirror_mode": {
    "name": "ipython",
    "version": 3
   },
   "file_extension": ".py",
   "mimetype": "text/x-python",
   "name": "python",
   "nbconvert_exporter": "python",
   "pygments_lexer": "ipython3",
   "version": "3.12.4"
  }
 },
 "nbformat": 4,
 "nbformat_minor": 2
}
