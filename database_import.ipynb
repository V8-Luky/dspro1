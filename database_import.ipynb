{
 "cells": [
  {
   "cell_type": "code",
   "execution_count": 1,
   "metadata": {},
   "outputs": [
    {
     "name": "stderr",
     "output_type": "stream",
     "text": [
      "c:\\Users\\LUKY\\Repos\\HSLU\\dspro1\\.venv\\Lib\\site-packages\\sentence_transformers\\cross_encoder\\CrossEncoder.py:13: TqdmWarning: IProgress not found. Please update jupyter and ipywidgets. See https://ipywidgets.readthedocs.io/en/stable/user_install.html\n",
      "  from tqdm.autonotebook import tqdm, trange\n"
     ]
    }
   ],
   "source": [
    "import pandas as pd\n",
    "\n",
    "from data.game_data import GameData\n",
    "from database.game_database import GameDatabase\n",
    "from embedding.description_embedder import DescriptionEmbedder\n",
    "\n",
    "\n",
    "API_KEY = \"3ba8f200-99a7-4b16-8d49-ba671878b6d9\"  # Yeah, security\n",
    "GAMES_FILE = r\"C:\\Users\\LUKY\\OneDrive - Hochschule Luzern\\Projects\\DSPRO1\\Data\\clean_data.csv\""
   ]
  },
  {
   "cell_type": "markdown",
   "metadata": {},
   "source": [
    "## Data\n",
    "\n",
    "First we need to load the already cleaned and preprocessed data."
   ]
  },
  {
   "cell_type": "code",
   "execution_count": 2,
   "metadata": {},
   "outputs": [],
   "source": [
    "games = pd.read_csv(GAMES_FILE, delimiter=\";\")"
   ]
  },
  {
   "cell_type": "markdown",
   "metadata": {},
   "source": [
    "Any records that we don't want to store in the database should be filtered out now."
   ]
  },
  {
   "cell_type": "code",
   "execution_count": 3,
   "metadata": {},
   "outputs": [
    {
     "data": {
      "text/html": [
       "<div>\n",
       "<style scoped>\n",
       "    .dataframe tbody tr th:only-of-type {\n",
       "        vertical-align: middle;\n",
       "    }\n",
       "\n",
       "    .dataframe tbody tr th {\n",
       "        vertical-align: top;\n",
       "    }\n",
       "\n",
       "    .dataframe thead th {\n",
       "        text-align: right;\n",
       "    }\n",
       "</style>\n",
       "<table border=\"1\" class=\"dataframe\">\n",
       "  <thead>\n",
       "    <tr style=\"text-align: right;\">\n",
       "      <th></th>\n",
       "      <th>Name</th>\n",
       "      <th>Release date</th>\n",
       "      <th>Estimated owners</th>\n",
       "      <th>About the game</th>\n",
       "      <th>Positive</th>\n",
       "      <th>Negative</th>\n",
       "      <th>Developers</th>\n",
       "      <th>Publishers</th>\n",
       "      <th>Categories</th>\n",
       "      <th>Genres</th>\n",
       "      <th>Tags</th>\n",
       "      <th>Popularity</th>\n",
       "    </tr>\n",
       "  </thead>\n",
       "  <tbody>\n",
       "    <tr>\n",
       "      <th>0</th>\n",
       "      <td>Counter-Strike: Global Offensive</td>\n",
       "      <td>21.08.2012</td>\n",
       "      <td>100000000</td>\n",
       "      <td>Counter-Strike: Global Offensive (CS: GO) expa...</td>\n",
       "      <td>5764420</td>\n",
       "      <td>766677</td>\n",
       "      <td>Valve,Hidden Path Entertainment</td>\n",
       "      <td>Valve</td>\n",
       "      <td>Multi-player,Steam Achievements,Full controlle...</td>\n",
       "      <td>Action,Free to Play</td>\n",
       "      <td>FPS,Shooter,Multiplayer,Competitive,Action,Tea...</td>\n",
       "      <td>0.785569</td>\n",
       "    </tr>\n",
       "    <tr>\n",
       "      <th>1</th>\n",
       "      <td>Dota 2</td>\n",
       "      <td>09.07.2013</td>\n",
       "      <td>200000000</td>\n",
       "      <td>The most-played game on Steam. Every day, mill...</td>\n",
       "      <td>1477153</td>\n",
       "      <td>300437</td>\n",
       "      <td>Valve</td>\n",
       "      <td>Valve</td>\n",
       "      <td>Multi-player,Co-op,Steam Trading Cards,Steam W...</td>\n",
       "      <td>Action,Free to Play,Strategy</td>\n",
       "      <td>Free to Play,MOBA,Multiplayer,Strategy,e-sport...</td>\n",
       "      <td>0.566434</td>\n",
       "    </tr>\n",
       "    <tr>\n",
       "      <th>2</th>\n",
       "      <td>PUBG: BATTLEGROUNDS</td>\n",
       "      <td>21.12.2017</td>\n",
       "      <td>100000000</td>\n",
       "      <td>LAND, LOOT, SURVIVE! Play PUBG: BATTLEGROUNDS ...</td>\n",
       "      <td>1154655</td>\n",
       "      <td>895978</td>\n",
       "      <td>KRAFTON, Inc.</td>\n",
       "      <td>KRAFTON, Inc.</td>\n",
       "      <td>Multi-player,PvP,Online PvP,Stats,Remote Play ...</td>\n",
       "      <td>Action,Adventure,Free to Play,Massively Multip...</td>\n",
       "      <td>Survival,Shooter,Multiplayer,Battle Royale,FPS...</td>\n",
       "      <td>0.434255</td>\n",
       "    </tr>\n",
       "    <tr>\n",
       "      <th>3</th>\n",
       "      <td>Team Fortress 2</td>\n",
       "      <td>10.10.2007</td>\n",
       "      <td>100000000</td>\n",
       "      <td>The most fun you can have online - PC Gamer Is...</td>\n",
       "      <td>823693</td>\n",
       "      <td>56683</td>\n",
       "      <td>Valve</td>\n",
       "      <td>Valve</td>\n",
       "      <td>Multi-player,Cross-Platform Multiplayer,Steam ...</td>\n",
       "      <td>Action,Free to Play</td>\n",
       "      <td>Free to Play,Hero Shooter,Multiplayer,FPS,Shoo...</td>\n",
       "      <td>0.275344</td>\n",
       "    </tr>\n",
       "    <tr>\n",
       "      <th>4</th>\n",
       "      <td>Black Myth: Wukong</td>\n",
       "      <td>19.08.2024</td>\n",
       "      <td>100000000</td>\n",
       "      <td>Black Myth: Wukong is an action RPG rooted in ...</td>\n",
       "      <td>663109</td>\n",
       "      <td>28700</td>\n",
       "      <td>Game Science</td>\n",
       "      <td>Game Science</td>\n",
       "      <td>Single-player,Steam Achievements,Full controll...</td>\n",
       "      <td>Action,Adventure,RPG</td>\n",
       "      <td>Mythology,Action RPG,Action,RPG,Souls-like,Com...</td>\n",
       "      <td>0.257988</td>\n",
       "    </tr>\n",
       "    <tr>\n",
       "      <th>...</th>\n",
       "      <td>...</td>\n",
       "      <td>...</td>\n",
       "      <td>...</td>\n",
       "      <td>...</td>\n",
       "      <td>...</td>\n",
       "      <td>...</td>\n",
       "      <td>...</td>\n",
       "      <td>...</td>\n",
       "      <td>...</td>\n",
       "      <td>...</td>\n",
       "      <td>...</td>\n",
       "      <td>...</td>\n",
       "    </tr>\n",
       "    <tr>\n",
       "      <th>9574</th>\n",
       "      <td>Deserving Life</td>\n",
       "      <td>13.10.2017</td>\n",
       "      <td>100000</td>\n",
       "      <td>Deserving Life is a room-scale virtual reality...</td>\n",
       "      <td>96</td>\n",
       "      <td>20</td>\n",
       "      <td>Lukas Paul, Gabriel Mittermair</td>\n",
       "      <td>Deserving Life</td>\n",
       "      <td>Single-player,Steam Achievements</td>\n",
       "      <td>Free to Play</td>\n",
       "      <td>Free to Play,Horror,VR</td>\n",
       "      <td>0.000211</td>\n",
       "    </tr>\n",
       "    <tr>\n",
       "      <th>9575</th>\n",
       "      <td>Timen runner</td>\n",
       "      <td>26.05.2017</td>\n",
       "      <td>100000</td>\n",
       "      <td>Hardcore pixel 2D platformer with steampunk el...</td>\n",
       "      <td>49</td>\n",
       "      <td>44</td>\n",
       "      <td>REX PEX GAMES</td>\n",
       "      <td>REX PEX GAMES</td>\n",
       "      <td>Single-player,Steam Achievements,Steam Trading...</td>\n",
       "      <td>Casual,Indie</td>\n",
       "      <td>Indie,Casual,Platformer,2D,Pixel Graphics,Grea...</td>\n",
       "      <td>0.000211</td>\n",
       "    </tr>\n",
       "    <tr>\n",
       "      <th>9576</th>\n",
       "      <td>Mahjong Deluxe 2: Astral Planes</td>\n",
       "      <td>20.07.2016</td>\n",
       "      <td>100000</td>\n",
       "      <td>Mahjong Deluxe 2: Astral Planes is an out-of-t...</td>\n",
       "      <td>47</td>\n",
       "      <td>45</td>\n",
       "      <td>EnsenaSoft</td>\n",
       "      <td>EnsenaSoft</td>\n",
       "      <td>Unknown</td>\n",
       "      <td>Casual</td>\n",
       "      <td>Casual,Puzzle</td>\n",
       "      <td>0.000211</td>\n",
       "    </tr>\n",
       "    <tr>\n",
       "      <th>9577</th>\n",
       "      <td>Pizza Frenzy Deluxe</td>\n",
       "      <td>30.08.2006</td>\n",
       "      <td>100000</td>\n",
       "      <td>Pizza Frenzy is a wacky action puzzler that pu...</td>\n",
       "      <td>125</td>\n",
       "      <td>5</td>\n",
       "      <td>PopCap Games, Inc.</td>\n",
       "      <td>PopCap Games, Inc.</td>\n",
       "      <td>Single-player</td>\n",
       "      <td>Casual</td>\n",
       "      <td>Casual</td>\n",
       "      <td>0.000211</td>\n",
       "    </tr>\n",
       "    <tr>\n",
       "      <th>9578</th>\n",
       "      <td>Operation Breakout</td>\n",
       "      <td>28.10.2016</td>\n",
       "      <td>100000</td>\n",
       "      <td>Description Operation Breakout is a renewed mu...</td>\n",
       "      <td>35</td>\n",
       "      <td>51</td>\n",
       "      <td>SGTTB_Studios,Phanom Games</td>\n",
       "      <td>SGTTB_Studios,Phanom Games</td>\n",
       "      <td>Multi-player,PvP,Online PvP,Shared/Split Scree...</td>\n",
       "      <td>Action,Adventure,Massively Multiplayer</td>\n",
       "      <td>Action,Massively Multiplayer,Adventure,FPS</td>\n",
       "      <td>0.000211</td>\n",
       "    </tr>\n",
       "  </tbody>\n",
       "</table>\n",
       "<p>9579 rows × 12 columns</p>\n",
       "</div>"
      ],
      "text/plain": [
       "                                  Name Release date  Estimated owners  \\\n",
       "0     Counter-Strike: Global Offensive   21.08.2012         100000000   \n",
       "1                               Dota 2   09.07.2013         200000000   \n",
       "2                  PUBG: BATTLEGROUNDS   21.12.2017         100000000   \n",
       "3                      Team Fortress 2   10.10.2007         100000000   \n",
       "4                   Black Myth: Wukong   19.08.2024         100000000   \n",
       "...                                ...          ...               ...   \n",
       "9574                    Deserving Life   13.10.2017            100000   \n",
       "9575                      Timen runner   26.05.2017            100000   \n",
       "9576   Mahjong Deluxe 2: Astral Planes   20.07.2016            100000   \n",
       "9577               Pizza Frenzy Deluxe   30.08.2006            100000   \n",
       "9578                Operation Breakout   28.10.2016            100000   \n",
       "\n",
       "                                         About the game  Positive  Negative  \\\n",
       "0     Counter-Strike: Global Offensive (CS: GO) expa...   5764420    766677   \n",
       "1     The most-played game on Steam. Every day, mill...   1477153    300437   \n",
       "2     LAND, LOOT, SURVIVE! Play PUBG: BATTLEGROUNDS ...   1154655    895978   \n",
       "3     The most fun you can have online - PC Gamer Is...    823693     56683   \n",
       "4     Black Myth: Wukong is an action RPG rooted in ...    663109     28700   \n",
       "...                                                 ...       ...       ...   \n",
       "9574  Deserving Life is a room-scale virtual reality...        96        20   \n",
       "9575  Hardcore pixel 2D platformer with steampunk el...        49        44   \n",
       "9576  Mahjong Deluxe 2: Astral Planes is an out-of-t...        47        45   \n",
       "9577  Pizza Frenzy is a wacky action puzzler that pu...       125         5   \n",
       "9578  Description Operation Breakout is a renewed mu...        35        51   \n",
       "\n",
       "                           Developers                  Publishers  \\\n",
       "0     Valve,Hidden Path Entertainment                       Valve   \n",
       "1                               Valve                       Valve   \n",
       "2                       KRAFTON, Inc.               KRAFTON, Inc.   \n",
       "3                               Valve                       Valve   \n",
       "4                        Game Science                Game Science   \n",
       "...                               ...                         ...   \n",
       "9574   Lukas Paul, Gabriel Mittermair              Deserving Life   \n",
       "9575                    REX PEX GAMES               REX PEX GAMES   \n",
       "9576                       EnsenaSoft                  EnsenaSoft   \n",
       "9577               PopCap Games, Inc.          PopCap Games, Inc.   \n",
       "9578       SGTTB_Studios,Phanom Games  SGTTB_Studios,Phanom Games   \n",
       "\n",
       "                                             Categories  \\\n",
       "0     Multi-player,Steam Achievements,Full controlle...   \n",
       "1     Multi-player,Co-op,Steam Trading Cards,Steam W...   \n",
       "2     Multi-player,PvP,Online PvP,Stats,Remote Play ...   \n",
       "3     Multi-player,Cross-Platform Multiplayer,Steam ...   \n",
       "4     Single-player,Steam Achievements,Full controll...   \n",
       "...                                                 ...   \n",
       "9574                   Single-player,Steam Achievements   \n",
       "9575  Single-player,Steam Achievements,Steam Trading...   \n",
       "9576                                            Unknown   \n",
       "9577                                      Single-player   \n",
       "9578  Multi-player,PvP,Online PvP,Shared/Split Scree...   \n",
       "\n",
       "                                                 Genres  \\\n",
       "0                                   Action,Free to Play   \n",
       "1                          Action,Free to Play,Strategy   \n",
       "2     Action,Adventure,Free to Play,Massively Multip...   \n",
       "3                                   Action,Free to Play   \n",
       "4                                  Action,Adventure,RPG   \n",
       "...                                                 ...   \n",
       "9574                                       Free to Play   \n",
       "9575                                       Casual,Indie   \n",
       "9576                                             Casual   \n",
       "9577                                             Casual   \n",
       "9578             Action,Adventure,Massively Multiplayer   \n",
       "\n",
       "                                                   Tags  Popularity  \n",
       "0     FPS,Shooter,Multiplayer,Competitive,Action,Tea...    0.785569  \n",
       "1     Free to Play,MOBA,Multiplayer,Strategy,e-sport...    0.566434  \n",
       "2     Survival,Shooter,Multiplayer,Battle Royale,FPS...    0.434255  \n",
       "3     Free to Play,Hero Shooter,Multiplayer,FPS,Shoo...    0.275344  \n",
       "4     Mythology,Action RPG,Action,RPG,Souls-like,Com...    0.257988  \n",
       "...                                                 ...         ...  \n",
       "9574                             Free to Play,Horror,VR    0.000211  \n",
       "9575  Indie,Casual,Platformer,2D,Pixel Graphics,Grea...    0.000211  \n",
       "9576                                      Casual,Puzzle    0.000211  \n",
       "9577                                             Casual    0.000211  \n",
       "9578         Action,Massively Multiplayer,Adventure,FPS    0.000211  \n",
       "\n",
       "[9579 rows x 12 columns]"
      ]
     },
     "execution_count": 3,
     "metadata": {},
     "output_type": "execute_result"
    }
   ],
   "source": [
    "games"
   ]
  },
  {
   "cell_type": "markdown",
   "metadata": {},
   "source": [
    "## Embedding\n",
    "After preparing the data we can set up the transformer for the embedding. We are preparing several embedders that are domain specific to our data. For now we are using the `DescriptionEmbedder` which is a transformer that uses a `sentence-transformer` library to embed the description of our games."
   ]
  },
  {
   "cell_type": "code",
   "execution_count": 4,
   "metadata": {},
   "outputs": [],
   "source": [
    "embedder = DescriptionEmbedder(transformer_name=\"all-MiniLM-L6-v2\")"
   ]
  },
  {
   "cell_type": "markdown",
   "metadata": {},
   "source": [
    "Store the games and embedding in a data wrapper class for easier access later on. Doing so will use the embedder/transformer to create the embeddings from the data and determine the dimensionality of the embeddings."
   ]
  },
  {
   "cell_type": "code",
   "execution_count": 2,
   "metadata": {},
   "outputs": [
    {
     "ename": "NameError",
     "evalue": "name 'games' is not defined",
     "output_type": "error",
     "traceback": [
      "\u001b[1;31m---------------------------------------------------------------------------\u001b[0m",
      "\u001b[1;31mNameError\u001b[0m                                 Traceback (most recent call last)",
      "Cell \u001b[1;32mIn[2], line 1\u001b[0m\n\u001b[1;32m----> 1\u001b[0m game_data \u001b[38;5;241m=\u001b[39m GameData(games\u001b[38;5;241m=\u001b[39m\u001b[43mgames\u001b[49m, embedder\u001b[38;5;241m=\u001b[39membedder)\n",
      "\u001b[1;31mNameError\u001b[0m: name 'games' is not defined"
     ]
    }
   ],
   "source": [
    "game_data = GameData(games=games, embedder=embedder)"
   ]
  },
  {
   "cell_type": "code",
   "execution_count": 6,
   "metadata": {},
   "outputs": [
    {
     "name": "stdout",
     "output_type": "stream",
     "text": [
      "Embeddings shape: (9579, 384)\n"
     ]
    }
   ],
   "source": [
    "embeddings = game_data.embeddings\n",
    "dimension = game_data.embedding_dimension\n",
    "print(f\"Embeddings shape: {embeddings.shape}\")"
   ]
  },
  {
   "cell_type": "markdown",
   "metadata": {},
   "source": [
    "## Database\n",
    "Now, with the data prepare and the embeddings generated, we can store them in the database (currently using Pinecone)."
   ]
  },
  {
   "cell_type": "code",
   "execution_count": 22,
   "metadata": {},
   "outputs": [],
   "source": [
    "db = GameDatabase(api_key=API_KEY, dimension=384)"
   ]
  },
  {
   "cell_type": "code",
   "execution_count": 23,
   "metadata": {},
   "outputs": [
    {
     "ename": "PineconeException",
     "evalue": "UNKNOWN:Error received from peer  {grpc_message:\"Error, message length too large: found 35585765 bytes, the limit is: 4194304 bytes\", grpc_status:11, created_time:\"2024-11-29T12:25:42.2927066+00:00\"}",
     "output_type": "error",
     "traceback": [
      "\u001b[1;31m---------------------------------------------------------------------------\u001b[0m",
      "\u001b[1;31m_InactiveRpcError\u001b[0m                         Traceback (most recent call last)",
      "File \u001b[1;32mc:\\Users\\LUKY\\Repos\\HSLU\\dspro1\\.venv\\Lib\\site-packages\\pinecone\\grpc\\base.py:171\u001b[0m, in \u001b[0;36mGRPCIndexBase._wrap_grpc_call.<locals>.wrapped\u001b[1;34m()\u001b[0m\n\u001b[0;32m    170\u001b[0m \u001b[38;5;28;01mtry\u001b[39;00m:\n\u001b[1;32m--> 171\u001b[0m     \u001b[38;5;28;01mreturn\u001b[39;00m \u001b[43mfunc\u001b[49m\u001b[43m(\u001b[49m\n\u001b[0;32m    172\u001b[0m \u001b[43m        \u001b[49m\u001b[43mrequest\u001b[49m\u001b[43m,\u001b[49m\n\u001b[0;32m    173\u001b[0m \u001b[43m        \u001b[49m\u001b[43mtimeout\u001b[49m\u001b[38;5;241;43m=\u001b[39;49m\u001b[43mtimeout\u001b[49m\u001b[43m,\u001b[49m\n\u001b[0;32m    174\u001b[0m \u001b[43m        \u001b[49m\u001b[43mmetadata\u001b[49m\u001b[38;5;241;43m=\u001b[39;49m\u001b[43m_metadata\u001b[49m\u001b[43m,\u001b[49m\n\u001b[0;32m    175\u001b[0m \u001b[43m        \u001b[49m\u001b[43mcredentials\u001b[49m\u001b[38;5;241;43m=\u001b[39;49m\u001b[43mcredentials\u001b[49m\u001b[43m,\u001b[49m\n\u001b[0;32m    176\u001b[0m \u001b[43m        \u001b[49m\u001b[43mwait_for_ready\u001b[49m\u001b[38;5;241;43m=\u001b[39;49m\u001b[43mwait_for_ready\u001b[49m\u001b[43m,\u001b[49m\n\u001b[0;32m    177\u001b[0m \u001b[43m        \u001b[49m\u001b[43mcompression\u001b[49m\u001b[38;5;241;43m=\u001b[39;49m\u001b[43mcompression\u001b[49m\u001b[43m,\u001b[49m\n\u001b[0;32m    178\u001b[0m \u001b[43m    \u001b[49m\u001b[43m)\u001b[49m\n\u001b[0;32m    179\u001b[0m \u001b[38;5;28;01mexcept\u001b[39;00m _InactiveRpcError \u001b[38;5;28;01mas\u001b[39;00m e:\n",
      "File \u001b[1;32mc:\\Users\\LUKY\\Repos\\HSLU\\dspro1\\.venv\\Lib\\site-packages\\grpc\\_channel.py:1181\u001b[0m, in \u001b[0;36m_UnaryUnaryMultiCallable.__call__\u001b[1;34m(self, request, timeout, metadata, credentials, wait_for_ready, compression)\u001b[0m\n\u001b[0;32m   1175\u001b[0m (\n\u001b[0;32m   1176\u001b[0m     state,\n\u001b[0;32m   1177\u001b[0m     call,\n\u001b[0;32m   1178\u001b[0m ) \u001b[38;5;241m=\u001b[39m \u001b[38;5;28mself\u001b[39m\u001b[38;5;241m.\u001b[39m_blocking(\n\u001b[0;32m   1179\u001b[0m     request, timeout, metadata, credentials, wait_for_ready, compression\n\u001b[0;32m   1180\u001b[0m )\n\u001b[1;32m-> 1181\u001b[0m \u001b[38;5;28;01mreturn\u001b[39;00m \u001b[43m_end_unary_response_blocking\u001b[49m\u001b[43m(\u001b[49m\u001b[43mstate\u001b[49m\u001b[43m,\u001b[49m\u001b[43m \u001b[49m\u001b[43mcall\u001b[49m\u001b[43m,\u001b[49m\u001b[43m \u001b[49m\u001b[38;5;28;43;01mFalse\u001b[39;49;00m\u001b[43m,\u001b[49m\u001b[43m \u001b[49m\u001b[38;5;28;43;01mNone\u001b[39;49;00m\u001b[43m)\u001b[49m\n",
      "File \u001b[1;32mc:\\Users\\LUKY\\Repos\\HSLU\\dspro1\\.venv\\Lib\\site-packages\\grpc\\_channel.py:1006\u001b[0m, in \u001b[0;36m_end_unary_response_blocking\u001b[1;34m(state, call, with_call, deadline)\u001b[0m\n\u001b[0;32m   1005\u001b[0m \u001b[38;5;28;01melse\u001b[39;00m:\n\u001b[1;32m-> 1006\u001b[0m     \u001b[38;5;28;01mraise\u001b[39;00m _InactiveRpcError(state)\n",
      "\u001b[1;31m_InactiveRpcError\u001b[0m: <_InactiveRpcError of RPC that terminated with:\n\tstatus = StatusCode.OUT_OF_RANGE\n\tdetails = \"Error, message length too large: found 35585765 bytes, the limit is: 4194304 bytes\"\n\tdebug_error_string = \"UNKNOWN:Error received from peer  {grpc_message:\"Error, message length too large: found 35585765 bytes, the limit is: 4194304 bytes\", grpc_status:11, created_time:\"2024-11-29T12:25:42.2927066+00:00\"}\"\n>",
      "\nThe above exception was the direct cause of the following exception:\n",
      "\u001b[1;31mPineconeException\u001b[0m                         Traceback (most recent call last)",
      "Cell \u001b[1;32mIn[23], line 1\u001b[0m\n\u001b[1;32m----> 1\u001b[0m \u001b[43mdb\u001b[49m\u001b[38;5;241;43m.\u001b[39;49m\u001b[43mload_data\u001b[49m\u001b[43m(\u001b[49m\u001b[43mgame_data\u001b[49m\u001b[38;5;241;43m.\u001b[39;49m\u001b[43mids\u001b[49m\u001b[43m,\u001b[49m\u001b[43m \u001b[49m\u001b[43mgame_data\u001b[49m\u001b[38;5;241;43m.\u001b[39;49m\u001b[43mmetadata\u001b[49m\u001b[43m,\u001b[49m\u001b[43m \u001b[49m\u001b[43mgame_data\u001b[49m\u001b[38;5;241;43m.\u001b[39;49m\u001b[43membeddings\u001b[49m\u001b[43m)\u001b[49m\n",
      "File \u001b[1;32mc:\\Users\\LUKY\\Repos\\HSLU\\dspro1\\database\\game_database.py:88\u001b[0m, in \u001b[0;36mGameDatabase.load_data\u001b[1;34m(self, ids, data, embeddings)\u001b[0m\n\u001b[0;32m     86\u001b[0m \u001b[38;5;28;01mdef\u001b[39;00m \u001b[38;5;21mload_data\u001b[39m(\u001b[38;5;28mself\u001b[39m, ids: \u001b[38;5;28mlist\u001b[39m[\u001b[38;5;28mstr\u001b[39m], data: \u001b[38;5;28mlist\u001b[39m[\u001b[38;5;28mdict\u001b[39m], embeddings: \u001b[38;5;28mlist\u001b[39m):\n\u001b[0;32m     87\u001b[0m     records \u001b[38;5;241m=\u001b[39m GameDatabase\u001b[38;5;241m.\u001b[39m_prepare_records(ids, data, embeddings)\n\u001b[1;32m---> 88\u001b[0m     \u001b[38;5;28;43mself\u001b[39;49m\u001b[38;5;241;43m.\u001b[39;49m\u001b[43m_upsert_records\u001b[49m\u001b[43m(\u001b[49m\u001b[43mnamespace\u001b[49m\u001b[38;5;241;43m=\u001b[39;49m\u001b[38;5;28;43mself\u001b[39;49m\u001b[38;5;241;43m.\u001b[39;49m\u001b[43m_namespace\u001b[49m\u001b[43m,\u001b[49m\n\u001b[0;32m     89\u001b[0m \u001b[43m                         \u001b[49m\u001b[43mindex\u001b[49m\u001b[38;5;241;43m=\u001b[39;49m\u001b[38;5;28;43mself\u001b[39;49m\u001b[38;5;241;43m.\u001b[39;49m\u001b[43m_main_index\u001b[49m\u001b[43m,\u001b[49m\u001b[43m \u001b[49m\u001b[43mrecords\u001b[49m\u001b[38;5;241;43m=\u001b[39;49m\u001b[43mrecords\u001b[49m\u001b[43m)\u001b[49m\n",
      "File \u001b[1;32mc:\\Users\\LUKY\\Repos\\HSLU\\dspro1\\database\\game_database.py:110\u001b[0m, in \u001b[0;36mGameDatabase._upsert_records\u001b[1;34m(self, namespace, index, records)\u001b[0m\n\u001b[0;32m    109\u001b[0m \u001b[38;5;28;01mdef\u001b[39;00m \u001b[38;5;21m_upsert_records\u001b[39m(\u001b[38;5;28mself\u001b[39m, namespace: \u001b[38;5;28mstr\u001b[39m, index: Index, records: \u001b[38;5;28mlist\u001b[39m[\u001b[38;5;28mdict\u001b[39m]):\n\u001b[1;32m--> 110\u001b[0m     \u001b[43mindex\u001b[49m\u001b[38;5;241;43m.\u001b[39;49m\u001b[43mupsert\u001b[49m\u001b[43m(\u001b[49m\u001b[43mvectors\u001b[49m\u001b[38;5;241;43m=\u001b[39;49m\u001b[43mrecords\u001b[49m\u001b[43m,\u001b[49m\u001b[43m \u001b[49m\u001b[43mnamespace\u001b[49m\u001b[38;5;241;43m=\u001b[39;49m\u001b[43mnamespace\u001b[49m\u001b[43m)\u001b[49m\n",
      "File \u001b[1;32mc:\\Users\\LUKY\\Repos\\HSLU\\dspro1\\.venv\\Lib\\site-packages\\pinecone\\grpc\\index_grpc.py:144\u001b[0m, in \u001b[0;36mGRPCIndex.upsert\u001b[1;34m(self, vectors, async_req, namespace, batch_size, show_progress, **kwargs)\u001b[0m\n\u001b[0;32m    141\u001b[0m     \u001b[38;5;28;01mreturn\u001b[39;00m PineconeGrpcFuture(future)\n\u001b[0;32m    143\u001b[0m \u001b[38;5;28;01mif\u001b[39;00m batch_size \u001b[38;5;129;01mis\u001b[39;00m \u001b[38;5;28;01mNone\u001b[39;00m:\n\u001b[1;32m--> 144\u001b[0m     \u001b[38;5;28;01mreturn\u001b[39;00m \u001b[38;5;28;43mself\u001b[39;49m\u001b[38;5;241;43m.\u001b[39;49m\u001b[43m_upsert_batch\u001b[49m\u001b[43m(\u001b[49m\u001b[43mvectors\u001b[49m\u001b[43m,\u001b[49m\u001b[43m \u001b[49m\u001b[43mnamespace\u001b[49m\u001b[43m,\u001b[49m\u001b[43m \u001b[49m\u001b[43mtimeout\u001b[49m\u001b[38;5;241;43m=\u001b[39;49m\u001b[43mtimeout\u001b[49m\u001b[43m,\u001b[49m\u001b[43m \u001b[49m\u001b[38;5;241;43m*\u001b[39;49m\u001b[38;5;241;43m*\u001b[39;49m\u001b[43mkwargs\u001b[49m\u001b[43m)\u001b[49m\n\u001b[0;32m    146\u001b[0m \u001b[38;5;28;01mif\u001b[39;00m \u001b[38;5;129;01mnot\u001b[39;00m \u001b[38;5;28misinstance\u001b[39m(batch_size, \u001b[38;5;28mint\u001b[39m) \u001b[38;5;129;01mor\u001b[39;00m batch_size \u001b[38;5;241m<\u001b[39m\u001b[38;5;241m=\u001b[39m \u001b[38;5;241m0\u001b[39m:\n\u001b[0;32m    147\u001b[0m     \u001b[38;5;28;01mraise\u001b[39;00m \u001b[38;5;167;01mValueError\u001b[39;00m(\u001b[38;5;124m\"\u001b[39m\u001b[38;5;124mbatch_size must be a positive integer\u001b[39m\u001b[38;5;124m\"\u001b[39m)\n",
      "File \u001b[1;32mc:\\Users\\LUKY\\Repos\\HSLU\\dspro1\\.venv\\Lib\\site-packages\\pinecone\\grpc\\index_grpc.py:177\u001b[0m, in \u001b[0;36mGRPCIndex._upsert_batch\u001b[1;34m(self, vectors, namespace, timeout, **kwargs)\u001b[0m\n\u001b[0;32m    175\u001b[0m args_dict \u001b[38;5;241m=\u001b[39m \u001b[38;5;28mself\u001b[39m\u001b[38;5;241m.\u001b[39m_parse_non_empty_args([(\u001b[38;5;124m\"\u001b[39m\u001b[38;5;124mnamespace\u001b[39m\u001b[38;5;124m\"\u001b[39m, namespace)])\n\u001b[0;32m    176\u001b[0m request \u001b[38;5;241m=\u001b[39m UpsertRequest(vectors\u001b[38;5;241m=\u001b[39mvectors, \u001b[38;5;241m*\u001b[39m\u001b[38;5;241m*\u001b[39margs_dict)\n\u001b[1;32m--> 177\u001b[0m \u001b[38;5;28;01mreturn\u001b[39;00m \u001b[38;5;28;43mself\u001b[39;49m\u001b[38;5;241;43m.\u001b[39;49m\u001b[43m_wrap_grpc_call\u001b[49m\u001b[43m(\u001b[49m\u001b[38;5;28;43mself\u001b[39;49m\u001b[38;5;241;43m.\u001b[39;49m\u001b[43mstub\u001b[49m\u001b[38;5;241;43m.\u001b[39;49m\u001b[43mUpsert\u001b[49m\u001b[43m,\u001b[49m\u001b[43m \u001b[49m\u001b[43mrequest\u001b[49m\u001b[43m,\u001b[49m\u001b[43m \u001b[49m\u001b[43mtimeout\u001b[49m\u001b[38;5;241;43m=\u001b[39;49m\u001b[43mtimeout\u001b[49m\u001b[43m,\u001b[49m\u001b[43m \u001b[49m\u001b[38;5;241;43m*\u001b[39;49m\u001b[38;5;241;43m*\u001b[39;49m\u001b[43mkwargs\u001b[49m\u001b[43m)\u001b[49m\n",
      "File \u001b[1;32mc:\\Users\\LUKY\\Repos\\HSLU\\dspro1\\.venv\\Lib\\site-packages\\pinecone\\grpc\\base.py:182\u001b[0m, in \u001b[0;36mGRPCIndexBase._wrap_grpc_call\u001b[1;34m(self, func, request, timeout, metadata, credentials, wait_for_ready, compression)\u001b[0m\n\u001b[0;32m    179\u001b[0m     \u001b[38;5;28;01mexcept\u001b[39;00m _InactiveRpcError \u001b[38;5;28;01mas\u001b[39;00m e:\n\u001b[0;32m    180\u001b[0m         \u001b[38;5;28;01mraise\u001b[39;00m PineconeException(e\u001b[38;5;241m.\u001b[39m_state\u001b[38;5;241m.\u001b[39mdebug_error_string) \u001b[38;5;28;01mfrom\u001b[39;00m \u001b[38;5;21;01me\u001b[39;00m\n\u001b[1;32m--> 182\u001b[0m \u001b[38;5;28;01mreturn\u001b[39;00m \u001b[43mwrapped\u001b[49m\u001b[43m(\u001b[49m\u001b[43m)\u001b[49m\n",
      "File \u001b[1;32mc:\\Users\\LUKY\\Repos\\HSLU\\dspro1\\.venv\\Lib\\site-packages\\pinecone\\grpc\\base.py:180\u001b[0m, in \u001b[0;36mGRPCIndexBase._wrap_grpc_call.<locals>.wrapped\u001b[1;34m()\u001b[0m\n\u001b[0;32m    171\u001b[0m     \u001b[38;5;28;01mreturn\u001b[39;00m func(\n\u001b[0;32m    172\u001b[0m         request,\n\u001b[0;32m    173\u001b[0m         timeout\u001b[38;5;241m=\u001b[39mtimeout,\n\u001b[1;32m   (...)\u001b[0m\n\u001b[0;32m    177\u001b[0m         compression\u001b[38;5;241m=\u001b[39mcompression,\n\u001b[0;32m    178\u001b[0m     )\n\u001b[0;32m    179\u001b[0m \u001b[38;5;28;01mexcept\u001b[39;00m _InactiveRpcError \u001b[38;5;28;01mas\u001b[39;00m e:\n\u001b[1;32m--> 180\u001b[0m     \u001b[38;5;28;01mraise\u001b[39;00m PineconeException(e\u001b[38;5;241m.\u001b[39m_state\u001b[38;5;241m.\u001b[39mdebug_error_string) \u001b[38;5;28;01mfrom\u001b[39;00m \u001b[38;5;21;01me\u001b[39;00m\n",
      "\u001b[1;31mPineconeException\u001b[0m: UNKNOWN:Error received from peer  {grpc_message:\"Error, message length too large: found 35585765 bytes, the limit is: 4194304 bytes\", grpc_status:11, created_time:\"2024-11-29T12:25:42.2927066+00:00\"}"
     ]
    }
   ],
   "source": [
    "db.load_data(game_data.ids, game_data.metadata, game_data.embeddings)"
   ]
  },
  {
   "cell_type": "markdown",
   "metadata": {},
   "source": [
    "It takes some time until the data is created in the Pinecone service"
   ]
  },
  {
   "cell_type": "code",
   "execution_count": 18,
   "metadata": {},
   "outputs": [
    {
     "data": {
      "text/plain": [
       "{'dimension': 384,\n",
       " 'index_fullness': 0.0,\n",
       " 'namespaces': {'steam-games': {'vector_count': 9570}},\n",
       " 'total_vector_count': 9570}"
      ]
     },
     "execution_count": 18,
     "metadata": {},
     "output_type": "execute_result"
    }
   ],
   "source": [
    "db.describe_index()"
   ]
  },
  {
   "cell_type": "markdown",
   "metadata": {},
   "source": [
    "Once created, we can query the database to check if the data is stored correctly."
   ]
  },
  {
   "cell_type": "markdown",
   "metadata": {},
   "source": [
    "### Get By ID\n",
    "A record can either be retrieved directly by ID..."
   ]
  },
  {
   "cell_type": "code",
   "execution_count": 21,
   "metadata": {},
   "outputs": [
    {
     "name": "stdout",
     "output_type": "stream",
     "text": [
      "Name: Tomb Raider II\n"
     ]
    }
   ],
   "source": [
    "game = db.get_by_id(\"Tomb Raider II\")\n",
    "print(\"Name:\", game.metadata[\"Name\"])"
   ]
  },
  {
   "cell_type": "markdown",
   "metadata": {},
   "source": [
    "### Get By Embedding\n",
    "...or we can get all the records that are similar to a given embedding."
   ]
  },
  {
   "cell_type": "code",
   "execution_count": 21,
   "metadata": {},
   "outputs": [
    {
     "data": {
      "text/plain": [
       "10"
      ]
     },
     "execution_count": 21,
     "metadata": {},
     "output_type": "execute_result"
    }
   ],
   "source": [
    "matches = db.get_similar(game.values, k=10)\n",
    "len(matches)"
   ]
  },
  {
   "cell_type": "code",
   "execution_count": 22,
   "metadata": {},
   "outputs": [
    {
     "name": "stdout",
     "output_type": "stream",
     "text": [
      "ID: Tomb Raider II - Name: Tomb Raider II , Similarity: 1.0000001\n",
      "ID: Tomb Raider: Legend - Name: Tomb Raider: Legend , Similarity: 0.6332107\n",
      "ID: Shadow of the Tomb Raider: Definitive Edition - Name: Shadow of the Tomb Raider: Definitive Edition , Similarity: 0.6131774\n",
      "ID: Rise of the Tomb Raider - Name: Rise of the Tomb Raider™ , Similarity: 0.60820234\n",
      "ID: Tomb Raider: Underworld - Name: Tomb Raider: Underworld , Similarity: 0.5933311\n",
      "ID: Tomb Raider III - Name: Tomb Raider III , Similarity: 0.5847119\n",
      "ID: Tomb Raider - Name: Tomb Raider , Similarity: 0.57854533\n",
      "ID: Tomb Raider IV: The Last Revelation - Name: Tomb Raider IV: The Last Revelation , Similarity: 0.5702852\n",
      "ID: Tomb Raider I-III Remastered Starring Lara Croft - Name: Tomb Raider I-III Remastered Starring Lara Croft , Similarity: 0.5581841\n",
      "ID: Tomb Raider: Anniversary - Name: Tomb Raider: Anniversary , Similarity: 0.5469401\n"
     ]
    }
   ],
   "source": [
    "for match in matches:\n",
    "    print(\"ID:\", match.id, \"- Name:\", match.metadata[\"name\"], \", Similarity:\", match.score)"
   ]
  },
  {
   "cell_type": "code",
   "execution_count": null,
   "metadata": {},
   "outputs": [],
   "source": [
    "ids = db.get_ids()\n",
    "len(ids)"
   ]
  }
 ],
 "metadata": {
  "kernelspec": {
   "display_name": ".venv",
   "language": "python",
   "name": "python3"
  },
  "language_info": {
   "codemirror_mode": {
    "name": "ipython",
    "version": 3
   },
   "file_extension": ".py",
   "mimetype": "text/x-python",
   "name": "python",
   "nbconvert_exporter": "python",
   "pygments_lexer": "ipython3",
   "version": "3.12.3"
  }
 },
 "nbformat": 4,
 "nbformat_minor": 2
}
