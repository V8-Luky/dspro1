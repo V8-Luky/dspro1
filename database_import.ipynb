{
 "cells": [
  {
   "cell_type": "code",
   "execution_count": 3,
   "metadata": {},
   "outputs": [
    {
     "name": "stderr",
     "output_type": "stream",
     "text": [
      "c:\\Users\\kybur\\Repos\\HSLU\\dspro1\\.venv\\Lib\\site-packages\\tqdm\\auto.py:21: TqdmWarning: IProgress not found. Please update jupyter and ipywidgets. See https://ipywidgets.readthedocs.io/en/stable/user_install.html\n",
      "  from .autonotebook import tqdm as notebook_tqdm\n"
     ]
    }
   ],
   "source": [
    "import pandas as pd\n",
    "\n",
    "from data.game_data import GameData\n",
    "from database.game_database import GameDatabase\n",
    "from embedding.description_embedder import DescriptionEmbedder\n",
    "\n",
    "\n",
    "API_KEY = \"3ba8f200-99a7-4b16-8d49-ba671878b6d9\"  # Yeah, security\n",
    "GAMES_FILE = \"games_cleaned.csv\""
   ]
  },
  {
   "cell_type": "markdown",
   "metadata": {},
   "source": [
    "## Data\n",
    "\n",
    "First we need to load the already cleaned and preprocessed data."
   ]
  },
  {
   "cell_type": "code",
   "execution_count": 2,
   "metadata": {},
   "outputs": [],
   "source": [
    "games = pd.read_csv(GAMES_FILE)"
   ]
  },
  {
   "cell_type": "markdown",
   "metadata": {},
   "source": [
    "Any records that we don't want to store in the database should be filtered out now."
   ]
  },
  {
   "cell_type": "code",
   "execution_count": 3,
   "metadata": {},
   "outputs": [],
   "source": [
    "games = games[games[\"name\"].str.contains(\"Tomb\")] # Select the games to store in the database"
   ]
  },
  {
   "cell_type": "markdown",
   "metadata": {},
   "source": [
    "## Embedding\n",
    "After preparing the data we can set up the transformer for the embedding. We are preparing several embedders that are domain specific to our data. For now we are using the `DescriptionEmbedder` which is a transformer that uses a `sentence-transformer` library to embed the description of our games."
   ]
  },
  {
   "cell_type": "code",
   "execution_count": 4,
   "metadata": {},
   "outputs": [],
   "source": [
    "embedder = DescriptionEmbedder(transformer_name=\"all-MiniLM-L6-v2\")"
   ]
  },
  {
   "cell_type": "markdown",
   "metadata": {},
   "source": [
    "Store the games and embedding in a data wrapper class for easier access later on. Doing so will use the embedder/transformer to create the embeddings from the data and determine the dimensionality of the embeddings."
   ]
  },
  {
   "cell_type": "code",
   "execution_count": 5,
   "metadata": {},
   "outputs": [],
   "source": [
    "game_data = GameData(games=games, embedder=embedder)"
   ]
  },
  {
   "cell_type": "code",
   "execution_count": 6,
   "metadata": {},
   "outputs": [
    {
     "name": "stdout",
     "output_type": "stream",
     "text": [
      "Embeddings shape: (84, 384)\n"
     ]
    }
   ],
   "source": [
    "embeddings = game_data.embeddings\n",
    "dimension = game_data.embedding_dimension\n",
    "print(f\"Embeddings shape: {embeddings.shape}\")"
   ]
  },
  {
   "cell_type": "markdown",
   "metadata": {},
   "source": [
    "## Database\n",
    "Now, with the data prepare and the embeddings generated, we can store them in the database (currently using Pinecone)."
   ]
  },
  {
   "cell_type": "code",
   "execution_count": 4,
   "metadata": {},
   "outputs": [],
   "source": [
    "db = GameDatabase(api_key=API_KEY, dimension=384)"
   ]
  },
  {
   "cell_type": "code",
   "execution_count": 12,
   "metadata": {},
   "outputs": [],
   "source": [
    "db.load_data(game_data.ids, game_data.metadata, game_data.embeddings)"
   ]
  },
  {
   "cell_type": "markdown",
   "metadata": {},
   "source": [
    "It takes some time until the data is created in the Pinecone service"
   ]
  },
  {
   "cell_type": "code",
   "execution_count": 5,
   "metadata": {},
   "outputs": [
    {
     "data": {
      "text/plain": [
       "{'dimension': 384,\n",
       " 'index_fullness': 0.0,\n",
       " 'namespaces': {'steam-games': {'vector_count': 83}},\n",
       " 'total_vector_count': 83}"
      ]
     },
     "execution_count": 5,
     "metadata": {},
     "output_type": "execute_result"
    }
   ],
   "source": [
    "db.describe_index()"
   ]
  },
  {
   "cell_type": "markdown",
   "metadata": {},
   "source": [
    "Once created, we can query the database to check if the data is stored correctly."
   ]
  },
  {
   "cell_type": "markdown",
   "metadata": {},
   "source": [
    "### Get By ID\n",
    "A record can either be retrieved directly by ID..."
   ]
  },
  {
   "cell_type": "code",
   "execution_count": 15,
   "metadata": {},
   "outputs": [
    {
     "name": "stdout",
     "output_type": "stream",
     "text": [
      "ID: 391220 , Name: Shadow of the Tomb Raider: Definitive Edition\n"
     ]
    }
   ],
   "source": [
    "game = db.get_by_id(\"391220\")\n",
    "print(\"ID:\", game.id, \", Name:\", game.metadata[\"name\"])"
   ]
  },
  {
   "cell_type": "markdown",
   "metadata": {},
   "source": [
    "### Get By Embedding\n",
    "...or we can get all the records that are similar to a given embedding."
   ]
  },
  {
   "cell_type": "code",
   "execution_count": 24,
   "metadata": {},
   "outputs": [
    {
     "data": {
      "text/plain": [
       "83"
      ]
     },
     "execution_count": 24,
     "metadata": {},
     "output_type": "execute_result"
    }
   ],
   "source": [
    "matches = db.get_similar(game.values, k=10)\n",
    "len(matches)"
   ]
  },
  {
   "cell_type": "code",
   "execution_count": 25,
   "metadata": {},
   "outputs": [
    {
     "name": "stdout",
     "output_type": "stream",
     "text": [
      "ID: 391220 - Name: Shadow of the Tomb Raider: Definitive Edition , Similarity: 1.0011094\n",
      "ID: 849167 - Name: Tombé Drums VR , Similarity: 0.7962927\n",
      "ID: 849179 - Name: Tomb of The Lost Sentry , Similarity: 0.7962927\n",
      "ID: 849200 - Name: Shadow of the Tomb Raider: Definitive Edition , Similarity: 0.7962927\n",
      "ID: 849163 - Name: Shadow of the Tomb Raider: Definitive Edition , Similarity: 0.7962927\n",
      "ID: 849165 - Name: Seductive Tombs , Similarity: 0.7962927\n",
      "ID: 890031 - Name: EURGAVA™: Tomb of Senza , Similarity: 0.7962927\n",
      "ID: 849166 - Name: Shadow of the Tomb Raider: Definitive Edition , Similarity: 0.7962927\n",
      "ID: 890030 - Name: Shadow of the Tomb Raider: Definitive Edition , Similarity: 0.7962927\n",
      "ID: 905320 - Name: Treasure Tomb VR , Similarity: 0.7962927\n",
      "ID: 849178 - Name: Scoot Kaboom and the Tomb of Doom , Similarity: 0.7962927\n",
      "ID: 849160 - Name: Tomb Towers , Similarity: 0.7962927\n",
      "ID: 750920 - Name: Tomb Defender , Similarity: 0.7962927\n",
      "ID: 890032 - Name: Shadow of the Tomb Raider: Definitive Edition , Similarity: 0.7962927\n",
      "ID: 849176 - Name: Tomb Robbing with Friends , Similarity: 0.7962927\n",
      "ID: 849177 - Name: Tomb Exploration VR , Similarity: 0.7962927\n",
      "ID: 849162 - Name: Tombstone , Similarity: 0.7962927\n",
      "ID: 849161 - Name: Tombeaux , Similarity: 0.7962926\n",
      "ID: 849164 - Name: Shadow of the Tomb Raider: Definitive Edition , Similarity: 0.7962926\n",
      "ID: 849186 - Name: Tomb Raider I , Similarity: 0.7962926\n",
      "ID: 849168 - Name: Tomb Typing , Similarity: 0.7962926\n",
      "ID: 203160 - Name: Shadow of the Tomb Raider: Definitive Edition , Similarity: 0.77243316\n",
      "ID: 8000 - Name: Tomb Raider VI: The Angel of Darkness , Similarity: 0.7364162\n",
      "ID: 7000 - Name: The Tombs of Ultra 5 , Similarity: 0.73243964\n",
      "ID: 225320 - Name: Amazing Adventures The Lost Tomb™ , Similarity: 0.73219997\n",
      "ID: 8140 - Name: Tomb Raider II , Similarity: 0.72522235\n",
      "ID: 224980 - Name: Golden Mine Pickaxe 2: Mummy Tombs , Similarity: 0.71426725\n",
      "ID: 2478970 - Name: ۩ Tomb of the Brave ۩ , Similarity: 0.6783502\n",
      "ID: 225300 - Name: Tomb of Tyrants , Similarity: 0.60878485\n",
      "ID: 340360 - Name: Tombo Survivor , Similarity: 0.56713945\n",
      "ID: 224960 - Name: Shadow of the Tomb Raider: Definitive Edition , Similarity: 0.5588912\n",
      "ID: 625800 - Name: Shadow of the Tomb Raider: Definitive Edition , Similarity: 0.5512127\n",
      "ID: 1329350 - Name: Tomb Raider III , Similarity: 0.54236484\n",
      "ID: 1989100 - Name: Shadow of the Tomb Raider: Definitive Edition , Similarity: 0.5396727\n",
      "ID: 2851150 - Name: Tomb Explorer VR , Similarity: 0.5379831\n",
      "ID: 2206130 - Name: Ancient Wonders: Pharaoh's Tomb , Similarity: 0.532372\n",
      "ID: 1253270 - Name: Lost Legends: The Pharaoh's Tomb , Similarity: 0.5266314\n",
      "ID: 2163600 - Name: Paradise Tomb , Similarity: 0.5125188\n",
      "ID: 1709060 - Name: Tomb Keeper Mansion Deluxe Pinball , Similarity: 0.50660855\n",
      "ID: 2173860 - Name: Tomb 盜墓 , Similarity: 0.50553966\n",
      "ID: 1478050 - Name: Shadow of the Tomb Raider: Definitive Edition , Similarity: 0.49897072\n",
      "ID: 1931870 - Name: Tomboy Adventure , Similarity: 0.49754503\n",
      "ID: 233410 - Name: Tomb Joe , Similarity: 0.48240688\n",
      "ID: 225000 - Name: Seductive Tombs: Beach Love , Similarity: 0.477127\n",
      "ID: 1155950 - Name: Nancy Drew®: Tomb of the Lost Queen , Similarity: 0.45973757\n",
      "ID: 663380 - Name: Tales of Winds: Tomb of the Sol Empire , Similarity: 0.45690683\n",
      "ID: 868070 - Name: 蛊婆 Lady in Tomb , Similarity: 0.45256385\n",
      "ID: 2597280 - Name: Tomb Raider I-III Remastered Starring Lara Croft , Similarity: 0.45024803\n",
      "ID: 798200 - Name: Tomb Raider: Anniversary , Similarity: 0.44893074\n",
      "ID: 225020 - Name: Tomb Raider - The Final Hours Digital Book , Similarity: 0.44437233\n",
      "ID: 2999240 - Name: Gifted: The Tombs , Similarity: 0.4423752\n",
      "ID: 652830 - Name: Tomb Guard VR , Similarity: 0.42973578\n",
      "ID: 828350 - Name: Indiana Jones® and the Emperor's Tomb™ , Similarity: 0.41841802\n",
      "ID: 1146160 - Name: Tomb Rumble , Similarity: 0.41504797\n",
      "ID: 358330 - Name: Shadow of the Tomb Raider: Definitive Edition , Similarity: 0.41254604\n",
      "ID: 1786470 - Name: Shadow of the Tomb Raider: Definitive Edition , Similarity: 0.4075403\n",
      "ID: 1165470 - Name: Tomb Raider IV: The Last Revelation , Similarity: 0.4054441\n",
      "ID: 1440510 - Name: Discovr™ Egypt: King Tut's Tomb , Similarity: 0.40473372\n",
      "ID: 1515920 - Name: Through The Tomb , Similarity: 0.40247223\n",
      "ID: 210230 - Name: Shadow of the Tomb Raider: Definitive Edition , Similarity: 0.4021575\n",
      "ID: 2530310 - Name: The Tomb of Corruption , Similarity: 0.40057093\n",
      "ID: 1893100 - Name: Tomb Raider , Similarity: 0.3875293\n",
      "ID: 1593920 - Name: Shadow of the Tomb Raider: Definitive Edition , Similarity: 0.38107827\n",
      "ID: 1035490 - Name: DragonScales 5: The Frozen Tomb , Similarity: 0.3753785\n",
      "ID: 2839940 - Name: Tomba! Special Edition , Similarity: 0.372783\n",
      "ID: 1941130 - Name: Shadow of the Tomb Raider: Definitive Edition , Similarity: 0.3722932\n",
      "ID: 2420990 - Name: Tales from Candlekeep: Tomb of Annihilation , Similarity: 0.3717388\n",
      "ID: 733610 - Name: Tomb Of AnuBI0S , Similarity: 0.36527747\n",
      "ID: 1970060 - Name: Tomb of the Dead , Similarity: 0.34823424\n",
      "ID: 1145200 - Name: Shadow of the Tomb Raider: Definitive Edition , Similarity: 0.34142044\n",
      "ID: 459170 - Name: Secrets of the Lost Tomb , Similarity: 0.34135222\n",
      "ID: 1710880 - Name: Tomboys Need Love Too! , Similarity: 0.33552918\n",
      "ID: 943900 - Name: Tomb Of Pharaohs , Similarity: 0.33401376\n",
      "ID: 2917480 - Name: Tomb nightmares , Similarity: 0.32639235\n",
      "ID: 971640 - Name: Tomb Raider: Underworld , Similarity: 0.3260139\n",
      "ID: 560430 - Name: Shadow of the Tomb Raider: Definitive Edition , Similarity: 0.31054237\n",
      "ID: 575860 - Name: Tomb Raider V: Chronicles , Similarity: 0.30869558\n",
      "ID: 3510 - Name: Relics 2: The Crusader's Tomb , Similarity: 0.29788768\n",
      "ID: 628920 - Name: Rise of the Tomb Raider™ , Similarity: 0.29246584\n",
      "ID: 1480910 - Name: The Tomb of Argazfell , Similarity: 0.2759421\n",
      "ID: 632620 - Name: Pharaoh's Tomb , Similarity: 0.25286075\n",
      "ID: 1767760 - Name: TombStar , Similarity: 0.2469971\n",
      "ID: 1588880 - Name: Tomb Raider: Legend , Similarity: 0.16589156\n"
     ]
    }
   ],
   "source": [
    "for match in matches:\n",
    "    print(\"ID:\", match.id, \"- Name:\", match.metadata[\"name\"], \", Similarity:\", match.score)"
   ]
  },
  {
   "cell_type": "code",
   "execution_count": null,
   "metadata": {},
   "outputs": [],
   "source": []
  }
 ],
 "metadata": {
  "kernelspec": {
   "display_name": ".venv",
   "language": "python",
   "name": "python3"
  },
  "language_info": {
   "codemirror_mode": {
    "name": "ipython",
    "version": 3
   },
   "file_extension": ".py",
   "mimetype": "text/x-python",
   "name": "python",
   "nbconvert_exporter": "python",
   "pygments_lexer": "ipython3",
   "version": "3.12.4"
  }
 },
 "nbformat": 4,
 "nbformat_minor": 2
}
