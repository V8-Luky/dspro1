{
 "cells": [
  {
   "cell_type": "code",
   "execution_count": null,
   "metadata": {},
   "outputs": [
    {
     "name": "stderr",
     "output_type": "stream",
     "text": [
      "[nltk_data] Downloading package punkt_tab to\n",
      "[nltk_data]     C:\\Users\\kybur\\AppData\\Roaming\\nltk_data...\n",
      "[nltk_data]   Package punkt_tab is already up-to-date!\n",
      "c:\\Users\\kybur\\Repos\\HSLU\\dspro1\\.venv\\Lib\\site-packages\\tqdm\\auto.py:21: TqdmWarning: IProgress not found. Please update jupyter and ipywidgets. See https://ipywidgets.readthedocs.io/en/stable/user_install.html\n",
      "  from .autonotebook import tqdm as notebook_tqdm\n"
     ]
    }
   ],
   "source": [
    "import pandas as pd\n",
    "import nltk\n",
    "nltk.download('punkt_tab')\n",
    "\n",
    "from database.game_data import GameData\n",
    "from database.game_database import GameDatabase\n",
    "from embedding.description_embedder import DescriptionEmbedder\n",
    "from embedding.tags_embedder import TagsEmbedder\n",
    "\n",
    "API_KEY = \"place your pinecone api key here\""
   ]
  },
  {
   "cell_type": "markdown",
   "metadata": {},
   "source": [
    "## Data\n",
    "\n",
    "First we need to load the already cleaned and preprocessed data. The path below should point to the csv file containing all games after the data cleaning and preprocessing steps."
   ]
  },
  {
   "cell_type": "code",
   "execution_count": null,
   "metadata": {},
   "outputs": [],
   "source": [
    "GAMES_FILE = \"../data/games_cleaned.csv\""
   ]
  },
  {
   "cell_type": "code",
   "execution_count": 2,
   "metadata": {},
   "outputs": [],
   "source": [
    "games = pd.read_csv(GAMES_FILE, delimiter=\";\")"
   ]
  },
  {
   "cell_type": "markdown",
   "metadata": {},
   "source": [
    "They dates have to be formatted in ISO 8601 format."
   ]
  },
  {
   "cell_type": "code",
   "execution_count": 3,
   "metadata": {},
   "outputs": [],
   "source": [
    "games[\"Release date\"] = games[\"Release date\"].apply(lambda x: pd.to_datetime(x, dayfirst=True)).dt.date\n",
    "games[\"Release date\"] = games[\"Release date\"].apply(str)"
   ]
  },
  {
   "cell_type": "markdown",
   "metadata": {},
   "source": [
    "Any records that we don't want to store in the database should be filtered out now. But since the data preprocessing already filtered out the games that we don't want to store, we can just load the data and store it in the database."
   ]
  },
  {
   "cell_type": "markdown",
   "metadata": {},
   "source": [
    "## Embedding\n",
    "After preparing the data we can set up the transformer for the embedding. We are preparing several embedders that are domain specific to our data. First we are using a `DescriptionEmbedder` which is a transformer that uses a `sentence-transformer` library to embed the description of our games. Additionally we're using a `TagsEmbedder` that creates a wored2vec embedding of the tags of the games."
   ]
  },
  {
   "cell_type": "markdown",
   "metadata": {},
   "source": [
    "### Description Embedder\n",
    "Let's start by preparing the embeddings based on the description."
   ]
  },
  {
   "cell_type": "code",
   "execution_count": 5,
   "metadata": {},
   "outputs": [],
   "source": [
    "description_embedder = DescriptionEmbedder()"
   ]
  },
  {
   "cell_type": "markdown",
   "metadata": {},
   "source": [
    "Store the games and embedding in a data wrapper class for easier access later on. Doing so will use the embedder/transformer to create the embeddings from the data and determine the dimensionality of the embeddings."
   ]
  },
  {
   "cell_type": "code",
   "execution_count": 15,
   "metadata": {},
   "outputs": [],
   "source": [
    "description_game_data = GameData(games=games, embedder=description_embedder)"
   ]
  },
  {
   "cell_type": "code",
   "execution_count": 18,
   "metadata": {},
   "outputs": [
    {
     "name": "stdout",
     "output_type": "stream",
     "text": [
      "Embeddings dimension: 768\n"
     ]
    }
   ],
   "source": [
    "description_dimension = len(description_game_data.embeddings[0])\n",
    "print(f\"Embeddings dimension: {description_dimension}\")"
   ]
  },
  {
   "cell_type": "markdown",
   "metadata": {},
   "source": [
    "### Tags Embedder\n",
    "Continuing with creating the embeddings from the tags."
   ]
  },
  {
   "cell_type": "code",
   "execution_count": 6,
   "metadata": {},
   "outputs": [],
   "source": [
    "tags_embedder = TagsEmbedder()"
   ]
  },
  {
   "cell_type": "markdown",
   "metadata": {},
   "source": [
    "Store the games and embedding in a data wrapper class for easier access later on. Doing so will use the embedder/transformer to create the embeddings from the data and determine the dimensionality of the embeddings."
   ]
  },
  {
   "cell_type": "code",
   "execution_count": 7,
   "metadata": {},
   "outputs": [
    {
     "name": "stderr",
     "output_type": "stream",
     "text": [
      "c:\\Users\\kybur\\Repos\\HSLU\\dspro1\\.venv\\Lib\\site-packages\\numpy\\core\\fromnumeric.py:3504: RuntimeWarning: Mean of empty slice.\n",
      "  return _methods._mean(a, axis=axis, dtype=dtype,\n",
      "c:\\Users\\kybur\\Repos\\HSLU\\dspro1\\.venv\\Lib\\site-packages\\numpy\\core\\_methods.py:129: RuntimeWarning: invalid value encountered in scalar divide\n",
      "  ret = ret.dtype.type(ret / rcount)\n"
     ]
    }
   ],
   "source": [
    "tags_game_data = GameData(games=games, embedder=tags_embedder)"
   ]
  },
  {
   "cell_type": "code",
   "execution_count": 10,
   "metadata": {},
   "outputs": [
    {
     "name": "stdout",
     "output_type": "stream",
     "text": [
      "Embeddings dimension: 300\n"
     ]
    }
   ],
   "source": [
    "tags_dimension = len(tags_game_data.embeddings[0])\n",
    "print(f\"Embeddings dimension: {tags_dimension}\")"
   ]
  },
  {
   "cell_type": "markdown",
   "metadata": {},
   "source": [
    "## Database\n",
    "Now, with the data prepared and the embeddings generated, we can store them in the database (currently using Pinecone)."
   ]
  },
  {
   "cell_type": "code",
   "execution_count": 14,
   "metadata": {},
   "outputs": [],
   "source": [
    "description_index_name = \"description-index\"\n",
    "tags_index_name = \"tags-index\"\n",
    "\n",
    "db = GameDatabase(api_key=API_KEY)"
   ]
  },
  {
   "cell_type": "markdown",
   "metadata": {},
   "source": [
    "### Description Index"
   ]
  },
  {
   "cell_type": "markdown",
   "metadata": {},
   "source": [
    "Load the description embeddings into the database by creating an extra index for the description embeddings."
   ]
  },
  {
   "cell_type": "code",
   "execution_count": 17,
   "metadata": {},
   "outputs": [
    {
     "name": "stdout",
     "output_type": "stream",
     "text": [
      "Inserting records 1 to 100\n",
      "Inserting records 101 to 200\n",
      "Inserting records 201 to 300\n",
      "Inserting records 301 to 400\n",
      "Inserting records 401 to 500\n",
      "Inserting records 501 to 600\n",
      "Inserting records 601 to 700\n",
      "Inserting records 701 to 800\n",
      "Inserting records 801 to 900\n",
      "Inserting records 901 to 1000\n",
      "Inserting records 1001 to 1100\n",
      "Inserting records 1101 to 1200\n",
      "Inserting records 1201 to 1300\n",
      "Inserting records 1301 to 1400\n",
      "Inserting records 1401 to 1500\n",
      "Inserting records 1501 to 1600\n",
      "Inserting records 1601 to 1700\n",
      "Inserting records 1701 to 1800\n",
      "Inserting records 1801 to 1900\n",
      "Inserting records 1901 to 2000\n",
      "Inserting records 2001 to 2100\n",
      "Inserting records 2101 to 2200\n",
      "Inserting records 2201 to 2300\n",
      "Inserting records 2301 to 2400\n",
      "Inserting records 2401 to 2500\n",
      "Inserting records 2501 to 2600\n",
      "Inserting records 2601 to 2700\n",
      "Inserting records 2701 to 2800\n",
      "Inserting records 2801 to 2900\n",
      "Inserting records 2901 to 3000\n",
      "Inserting records 3001 to 3100\n",
      "Inserting records 3101 to 3200\n",
      "Inserting records 3201 to 3300\n",
      "Inserting records 3301 to 3400\n",
      "Inserting records 3401 to 3500\n",
      "Inserting records 3501 to 3600\n",
      "Inserting records 3601 to 3700\n",
      "Inserting records 3701 to 3800\n",
      "Inserting records 3801 to 3900\n",
      "Inserting records 3901 to 4000\n",
      "Inserting records 4001 to 4100\n",
      "Inserting records 4101 to 4200\n",
      "Inserting records 4201 to 4300\n",
      "Inserting records 4301 to 4400\n",
      "Inserting records 4401 to 4500\n",
      "Inserting records 4501 to 4600\n",
      "Inserting records 4601 to 4700\n",
      "Inserting records 4701 to 4800\n",
      "Inserting records 4801 to 4900\n",
      "Inserting records 4901 to 5000\n",
      "Inserting records 5001 to 5100\n",
      "Inserting records 5101 to 5200\n",
      "Inserting records 5201 to 5300\n",
      "Inserting records 5301 to 5400\n",
      "Inserting records 5401 to 5500\n",
      "Inserting records 5501 to 5600\n",
      "Inserting records 5601 to 5700\n",
      "Inserting records 5701 to 5800\n",
      "Inserting records 5801 to 5900\n",
      "Inserting records 5901 to 6000\n",
      "Inserting records 6001 to 6100\n",
      "Inserting records 6101 to 6200\n",
      "Inserting records 6201 to 6300\n",
      "Inserting records 6301 to 6400\n",
      "Inserting records 6401 to 6500\n",
      "Inserting records 6501 to 6600\n",
      "Inserting records 6601 to 6700\n",
      "Inserting records 6701 to 6800\n",
      "Inserting records 6801 to 6900\n",
      "Inserting records 6901 to 7000\n",
      "Inserting records 7001 to 7100\n",
      "Inserting records 7101 to 7200\n",
      "Inserting records 7201 to 7300\n",
      "Inserting records 7301 to 7400\n",
      "Inserting records 7401 to 7500\n",
      "Inserting records 7501 to 7600\n",
      "Inserting records 7601 to 7700\n",
      "Inserting records 7701 to 7800\n",
      "Inserting records 7801 to 7900\n",
      "Inserting records 7901 to 8000\n",
      "Inserting records 8001 to 8100\n",
      "Inserting records 8101 to 8200\n",
      "Inserting records 8201 to 8300\n",
      "Inserting records 8301 to 8400\n",
      "Inserting records 8401 to 8500\n",
      "Inserting records 8501 to 8600\n",
      "Inserting records 8601 to 8700\n",
      "Inserting records 8701 to 8800\n",
      "Inserting records 8801 to 8900\n",
      "Inserting records 8901 to 9000\n",
      "Inserting records 9001 to 9100\n",
      "Inserting records 9101 to 9200\n",
      "Inserting records 9201 to 9300\n",
      "Inserting records 9301 to 9400\n",
      "Inserting records 9401 to 9500\n",
      "Inserting records 9501 to 9579\n"
     ]
    }
   ],
   "source": [
    "db.load_data(index_name=description_index_name, ids=description_game_data.ids,\n",
    "             data=description_game_data.metadata, embeddings=description_game_data.embeddings)"
   ]
  },
  {
   "cell_type": "markdown",
   "metadata": {},
   "source": [
    "It takes some time until the data is created in the Pinecone service"
   ]
  },
  {
   "cell_type": "code",
   "execution_count": 43,
   "metadata": {},
   "outputs": [
    {
     "data": {
      "text/plain": [
       "{'dimension': 768,\n",
       " 'index_fullness': 0.0,\n",
       " 'namespaces': {'steam-games': {'vector_count': 9969}},\n",
       " 'total_vector_count': 9969}"
      ]
     },
     "execution_count": 43,
     "metadata": {},
     "output_type": "execute_result"
    }
   ],
   "source": [
    "db.describe_index(index_name=description_index_name)"
   ]
  },
  {
   "cell_type": "markdown",
   "metadata": {},
   "source": [
    "Once created, we can query the database to check if the data is stored correctly."
   ]
  },
  {
   "cell_type": "markdown",
   "metadata": {},
   "source": [
    "#### Get By ID\n",
    "A record can either be retrieved directly by ID..."
   ]
  },
  {
   "cell_type": "code",
   "execution_count": 24,
   "metadata": {},
   "outputs": [
    {
     "name": "stdout",
     "output_type": "stream",
     "text": [
      "Name: Tomb Raider II \n",
      "Tags: Adventure,Action,Female Protagonist,Classic,Singleplayer,Third Person,Puzzle,Action-Adventure,Platformer,Old School,1990's,Third-Person Shooter,Shooter,Atmospheric,3D Platformer,Retro,Puzzle-Platformer,Exploration\n"
     ]
    }
   ],
   "source": [
    "game = db.get_by_id(id_=\"Tomb Raider II\", index_name=description_index_name)\n",
    "print(\"Name:\", game.metadata[\"Name\"], \"\\nTags:\", game.metadata[\"Tags\"])"
   ]
  },
  {
   "cell_type": "markdown",
   "metadata": {},
   "source": [
    "#### Get By Embedding\n",
    "...or we can get all the records that are similar to a given embedding."
   ]
  },
  {
   "cell_type": "code",
   "execution_count": 25,
   "metadata": {},
   "outputs": [
    {
     "data": {
      "text/plain": [
       "10"
      ]
     },
     "execution_count": 25,
     "metadata": {},
     "output_type": "execute_result"
    }
   ],
   "source": [
    "matches = db.get_similar(index_name=description_index_name, embedding=game.values, k=10)\n",
    "len(matches)"
   ]
  },
  {
   "cell_type": "code",
   "execution_count": 28,
   "metadata": {},
   "outputs": [
    {
     "name": "stdout",
     "output_type": "stream",
     "text": [
      "ID/Name: Tomb Raider II , Similarity: 0.9999999\n",
      "ID/Name: Rise of the Tomb Raider , Similarity: 0.63538927\n",
      "ID/Name: Tomb Raider: Legend , Similarity: 0.60590494\n",
      "ID/Name: Tomb Raider IV: The Last Revelation , Similarity: 0.58435434\n",
      "ID/Name: LARA CROFT AND THE TEMPLE OF OSIRIS , Similarity: 0.5633661\n",
      "ID/Name: Dragon Age: Origins , Similarity: 0.5630411\n",
      "ID/Name: Tomb Raider I , Similarity: 0.5431722\n",
      "ID/Name: Tomb Raider , Similarity: 0.5423658\n",
      "ID/Name: 9Dragons : Kung Fu Arena , Similarity: 0.5415802\n",
      "ID/Name: Xuan-Yuan Sword VII , Similarity: 0.53093356\n"
     ]
    }
   ],
   "source": [
    "for match in matches:\n",
    "    print(\"ID/Name:\", match.id, \", Similarity:\", match.score)"
   ]
  },
  {
   "cell_type": "markdown",
   "metadata": {},
   "source": [
    "### Tags Index"
   ]
  },
  {
   "cell_type": "markdown",
   "metadata": {},
   "source": [
    "With the description embeddings stored, we can now store the tags embeddings in the database."
   ]
  },
  {
   "cell_type": "code",
   "execution_count": 40,
   "metadata": {},
   "outputs": [
    {
     "name": "stdout",
     "output_type": "stream",
     "text": [
      "Inserting records 1 to 100\n",
      "Inserting records 101 to 200\n",
      "Inserting records 201 to 300\n",
      "Inserting records 301 to 400\n",
      "Inserting records 401 to 500\n",
      "Inserting records 501 to 600\n",
      "Inserting records 601 to 700\n",
      "Inserting records 701 to 800\n",
      "Inserting records 801 to 900\n",
      "Inserting records 901 to 1000\n",
      "Inserting records 1001 to 1100\n",
      "Inserting records 1101 to 1200\n",
      "Inserting records 1201 to 1300\n",
      "Inserting records 1301 to 1400\n",
      "Inserting records 1401 to 1500\n",
      "Inserting records 1501 to 1600\n",
      "Inserting records 1601 to 1700\n",
      "Inserting records 1701 to 1800\n",
      "Inserting records 1801 to 1900\n",
      "Inserting records 1901 to 2000\n",
      "Inserting records 2001 to 2100\n",
      "Inserting records 2101 to 2200\n",
      "Inserting records 2201 to 2300\n",
      "Inserting records 2301 to 2400\n",
      "Inserting records 2401 to 2500\n",
      "Inserting records 2501 to 2600\n",
      "Inserting records 2601 to 2700\n",
      "Inserting records 2701 to 2800\n",
      "Inserting records 2801 to 2900\n",
      "Inserting records 2901 to 3000\n",
      "Inserting records 3001 to 3100\n",
      "Inserting records 3101 to 3200\n",
      "Inserting records 3201 to 3300\n",
      "Inserting records 3301 to 3400\n",
      "Inserting records 3401 to 3500\n",
      "Inserting records 3501 to 3600\n",
      "Inserting records 3601 to 3700\n",
      "Inserting records 3701 to 3800\n",
      "Inserting records 3801 to 3900\n",
      "Inserting records 3901 to 4000\n",
      "Inserting records 4001 to 4100\n",
      "Inserting records 4101 to 4200\n",
      "Inserting records 4201 to 4300\n",
      "Inserting records 4301 to 4400\n",
      "Inserting records 4401 to 4500\n",
      "Inserting records 4501 to 4600\n",
      "Inserting records 4601 to 4700\n",
      "Inserting records 4701 to 4800\n",
      "Inserting records 4801 to 4900\n",
      "Inserting records 4901 to 5000\n",
      "Inserting records 5001 to 5100\n",
      "Inserting records 5101 to 5200\n",
      "Inserting records 5201 to 5300\n",
      "Inserting records 5301 to 5400\n",
      "Inserting records 5401 to 5500\n",
      "Inserting records 5501 to 5600\n",
      "Inserting records 5601 to 5700\n",
      "Inserting records 5701 to 5800\n",
      "Inserting records 5801 to 5900\n",
      "Inserting records 5901 to 6000\n",
      "Inserting records 6001 to 6100\n",
      "Inserting records 6101 to 6200\n",
      "Inserting records 6201 to 6300\n",
      "Inserting records 6301 to 6400\n",
      "Inserting records 6401 to 6500\n",
      "Inserting records 6501 to 6600\n",
      "Inserting records 6601 to 6700\n",
      "Inserting records 6701 to 6800\n",
      "Inserting records 6801 to 6900\n",
      "Inserting records 6901 to 7000\n",
      "Inserting records 7001 to 7100\n",
      "Inserting records 7101 to 7200\n",
      "Inserting records 7201 to 7300\n",
      "Inserting records 7301 to 7400\n",
      "Inserting records 7401 to 7500\n",
      "Inserting records 7501 to 7600\n",
      "Inserting records 7601 to 7700\n",
      "Inserting records 7701 to 7800\n",
      "Inserting records 7801 to 7900\n",
      "Inserting records 7901 to 8000\n",
      "Inserting records 8001 to 8100\n",
      "Inserting records 8101 to 8200\n",
      "Inserting records 8201 to 8300\n",
      "Inserting records 8301 to 8400\n",
      "Inserting records 8401 to 8500\n",
      "Inserting records 8501 to 8600\n",
      "Inserting records 8601 to 8700\n",
      "Inserting records 8701 to 8800\n",
      "Inserting records 8801 to 8900\n",
      "Inserting records 8901 to 9000\n",
      "Inserting records 9001 to 9100\n",
      "Inserting records 9101 to 9200\n",
      "Inserting records 9201 to 9300\n",
      "Inserting records 9301 to 9400\n",
      "Inserting records 9401 to 9500\n",
      "Inserting records 9501 to 9579\n"
     ]
    }
   ],
   "source": [
    "db.load_data(index_name=tags_index_name, ids=tags_game_data.ids,\n",
    "             data=tags_game_data.metadata, embeddings=tags_game_data.embeddings)"
   ]
  },
  {
   "cell_type": "markdown",
   "metadata": {},
   "source": [
    "Once again, it takes some time until the data is created in the Pinecone service"
   ]
  },
  {
   "cell_type": "code",
   "execution_count": 44,
   "metadata": {},
   "outputs": [
    {
     "data": {
      "text/plain": [
       "{'dimension': 300,\n",
       " 'index_fullness': 0.0,\n",
       " 'namespaces': {'steam-games': {'vector_count': 10269}},\n",
       " 'total_vector_count': 10269}"
      ]
     },
     "execution_count": 44,
     "metadata": {},
     "output_type": "execute_result"
    }
   ],
   "source": [
    "db.describe_index(index_name=tags_index_name)"
   ]
  },
  {
   "cell_type": "markdown",
   "metadata": {},
   "source": [
    "Once created, we can query the database to check if the data is stored correctly."
   ]
  },
  {
   "cell_type": "code",
   "execution_count": 45,
   "metadata": {},
   "outputs": [
    {
     "name": "stdout",
     "output_type": "stream",
     "text": [
      "Name: Tomb Raider II\n"
     ]
    }
   ],
   "source": [
    "game = db.get_by_id(index_name=tags_index_name, id_=\"Tomb Raider II\")\n",
    "print(\"Name:\", game.metadata[\"Name\"])"
   ]
  },
  {
   "cell_type": "markdown",
   "metadata": {},
   "source": [
    "#### Get By Embedding\n",
    "...or we can get all the records that are similar to a given embedding."
   ]
  },
  {
   "cell_type": "code",
   "execution_count": 46,
   "metadata": {},
   "outputs": [
    {
     "data": {
      "text/plain": [
       "10"
      ]
     },
     "execution_count": 46,
     "metadata": {},
     "output_type": "execute_result"
    }
   ],
   "source": [
    "matches = db.get_similar(index_name=tags_index_name, embedding=game.values, k=10)\n",
    "len(matches)"
   ]
  },
  {
   "cell_type": "code",
   "execution_count": 47,
   "metadata": {},
   "outputs": [
    {
     "name": "stdout",
     "output_type": "stream",
     "text": [
      "ID/Name: Tomb Raider II , Similarity: 1.0\n",
      "ID/Name: Tomb Raider IV: The Last Revelation , Similarity: 0.9879375\n",
      "ID/Name: Tomb Raider I , Similarity: 0.979505\n",
      "ID/Name: Tomb Raider III , Similarity: 0.9678797\n",
      "ID/Name: Tomb Raider VI: The Angel of Darkness , Similarity: 0.96217847\n",
      "ID/Name: Tomb Raider: Legend , Similarity: 0.95135796\n",
      "ID/Name: Tomb Raider: Underworld , Similarity: 0.9410779\n",
      "ID/Name: Hedon Bloodrite , Similarity: 0.93372333\n",
      "ID/Name: Tomb Raider: Anniversary , Similarity: 0.9312476\n",
      "ID/Name: Twinsen's Little Big Adventure 2 Classic , Similarity: 0.9235054\n"
     ]
    }
   ],
   "source": [
    "for match in matches:\n",
    "    print(\"ID/Name:\", match.id, \", Similarity:\", match.score)"
   ]
  },
  {
   "cell_type": "code",
   "execution_count": null,
   "metadata": {},
   "outputs": [],
   "source": []
  }
 ],
 "metadata": {
  "kernelspec": {
   "display_name": ".venv",
   "language": "python",
   "name": "python3"
  },
  "language_info": {
   "codemirror_mode": {
    "name": "ipython",
    "version": 3
   },
   "file_extension": ".py",
   "mimetype": "text/x-python",
   "name": "python",
   "nbconvert_exporter": "python",
   "pygments_lexer": "ipython3",
   "version": "3.12.4"
  }
 },
 "nbformat": 4,
 "nbformat_minor": 2
}
