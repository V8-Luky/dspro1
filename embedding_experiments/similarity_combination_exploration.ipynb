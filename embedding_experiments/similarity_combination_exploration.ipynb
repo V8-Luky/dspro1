{
 "cells": [
  {
   "cell_type": "code",
   "execution_count": 1,
   "outputs": [
    {
     "name": "stdout",
     "output_type": "stream",
     "text": [
      "Requirement already satisfied: transformers in /Users/aceto/anaconda3/lib/python3.11/site-packages (4.44.1)\r\n",
      "Requirement already satisfied: torch in /Users/aceto/anaconda3/lib/python3.11/site-packages (2.4.1)\r\n",
      "Requirement already satisfied: pandas in /Users/aceto/anaconda3/lib/python3.11/site-packages (2.2.2)\r\n",
      "Requirement already satisfied: matplotlib in /Users/aceto/anaconda3/lib/python3.11/site-packages (3.9.2)\r\n",
      "Requirement already satisfied: sentence-transformers in /Users/aceto/anaconda3/lib/python3.11/site-packages (3.2.0)\r\n",
      "Requirement already satisfied: filelock in /Users/aceto/anaconda3/lib/python3.11/site-packages (from transformers) (3.13.1)\r\n",
      "Requirement already satisfied: huggingface-hub<1.0,>=0.23.2 in /Users/aceto/anaconda3/lib/python3.11/site-packages (from transformers) (0.24.6)\r\n",
      "Requirement already satisfied: numpy>=1.17 in /Users/aceto/anaconda3/lib/python3.11/site-packages (from transformers) (1.26.4)\r\n",
      "Requirement already satisfied: packaging>=20.0 in /Users/aceto/anaconda3/lib/python3.11/site-packages (from transformers) (24.1)\r\n",
      "Requirement already satisfied: pyyaml>=5.1 in /Users/aceto/anaconda3/lib/python3.11/site-packages (from transformers) (6.0.1)\r\n",
      "Requirement already satisfied: regex!=2019.12.17 in /Users/aceto/anaconda3/lib/python3.11/site-packages (from transformers) (2024.7.24)\r\n",
      "Requirement already satisfied: requests in /Users/aceto/anaconda3/lib/python3.11/site-packages (from transformers) (2.32.3)\r\n",
      "Requirement already satisfied: tokenizers<0.20,>=0.19 in /Users/aceto/anaconda3/lib/python3.11/site-packages (from transformers) (0.19.1)\r\n",
      "Requirement already satisfied: safetensors>=0.4.1 in /Users/aceto/anaconda3/lib/python3.11/site-packages (from transformers) (0.4.4)\r\n",
      "Requirement already satisfied: tqdm>=4.27 in /Users/aceto/anaconda3/lib/python3.11/site-packages (from transformers) (4.66.5)\r\n",
      "Requirement already satisfied: typing-extensions>=4.8.0 in /Users/aceto/anaconda3/lib/python3.11/site-packages (from torch) (4.11.0)\r\n",
      "Requirement already satisfied: sympy in /Users/aceto/anaconda3/lib/python3.11/site-packages (from torch) (1.13.2)\r\n",
      "Requirement already satisfied: networkx in /Users/aceto/anaconda3/lib/python3.11/site-packages (from torch) (3.3)\r\n",
      "Requirement already satisfied: jinja2 in /Users/aceto/anaconda3/lib/python3.11/site-packages (from torch) (3.1.4)\r\n",
      "Requirement already satisfied: fsspec in /Users/aceto/anaconda3/lib/python3.11/site-packages (from torch) (2024.3.1)\r\n",
      "Requirement already satisfied: python-dateutil>=2.8.2 in /Users/aceto/anaconda3/lib/python3.11/site-packages (from pandas) (2.9.0.post0)\r\n",
      "Requirement already satisfied: pytz>=2020.1 in /Users/aceto/anaconda3/lib/python3.11/site-packages (from pandas) (2024.1)\r\n",
      "Requirement already satisfied: tzdata>=2022.7 in /Users/aceto/anaconda3/lib/python3.11/site-packages (from pandas) (2023.3)\r\n",
      "Requirement already satisfied: contourpy>=1.0.1 in /Users/aceto/anaconda3/lib/python3.11/site-packages (from matplotlib) (1.2.0)\r\n",
      "Requirement already satisfied: cycler>=0.10 in /Users/aceto/anaconda3/lib/python3.11/site-packages (from matplotlib) (0.11.0)\r\n",
      "Requirement already satisfied: fonttools>=4.22.0 in /Users/aceto/anaconda3/lib/python3.11/site-packages (from matplotlib) (4.51.0)\r\n",
      "Requirement already satisfied: kiwisolver>=1.3.1 in /Users/aceto/anaconda3/lib/python3.11/site-packages (from matplotlib) (1.4.4)\r\n",
      "Requirement already satisfied: pillow>=8 in /Users/aceto/anaconda3/lib/python3.11/site-packages (from matplotlib) (10.4.0)\r\n",
      "Requirement already satisfied: pyparsing>=2.3.1 in /Users/aceto/anaconda3/lib/python3.11/site-packages (from matplotlib) (3.1.2)\r\n",
      "Requirement already satisfied: scikit-learn in /Users/aceto/anaconda3/lib/python3.11/site-packages (from sentence-transformers) (1.5.1)\r\n",
      "Requirement already satisfied: scipy in /Users/aceto/anaconda3/lib/python3.11/site-packages (from sentence-transformers) (1.13.1)\r\n",
      "Requirement already satisfied: six>=1.5 in /Users/aceto/anaconda3/lib/python3.11/site-packages (from python-dateutil>=2.8.2->pandas) (1.16.0)\r\n",
      "Requirement already satisfied: MarkupSafe>=2.0 in /Users/aceto/anaconda3/lib/python3.11/site-packages (from jinja2->torch) (2.1.3)\r\n",
      "Requirement already satisfied: charset-normalizer<4,>=2 in /Users/aceto/anaconda3/lib/python3.11/site-packages (from requests->transformers) (3.3.2)\r\n",
      "Requirement already satisfied: idna<4,>=2.5 in /Users/aceto/anaconda3/lib/python3.11/site-packages (from requests->transformers) (3.7)\r\n",
      "Requirement already satisfied: urllib3<3,>=1.21.1 in /Users/aceto/anaconda3/lib/python3.11/site-packages (from requests->transformers) (2.2.2)\r\n",
      "Requirement already satisfied: certifi>=2017.4.17 in /Users/aceto/anaconda3/lib/python3.11/site-packages (from requests->transformers) (2024.8.30)\r\n",
      "Requirement already satisfied: joblib>=1.2.0 in /Users/aceto/anaconda3/lib/python3.11/site-packages (from scikit-learn->sentence-transformers) (1.4.2)\r\n",
      "Requirement already satisfied: threadpoolctl>=3.1.0 in /Users/aceto/anaconda3/lib/python3.11/site-packages (from scikit-learn->sentence-transformers) (3.5.0)\r\n",
      "Requirement already satisfied: mpmath<1.4,>=1.1.0 in /Users/aceto/anaconda3/lib/python3.11/site-packages (from sympy->torch) (1.3.0)\r\n",
      "Note: you may need to restart the kernel to use updated packages.\n"
     ]
    }
   ],
   "source": [
    "%pip install transformers torch pandas matplotlib sentence-transformers"
   ],
   "metadata": {
    "collapsed": false,
    "ExecuteTime": {
     "end_time": "2024-10-27T17:21:26.999893Z",
     "start_time": "2024-10-27T17:21:24.985923Z"
    }
   },
   "id": "19ee05eb1dccee72"
  },
  {
   "cell_type": "code",
   "execution_count": 1,
   "id": "initial_id",
   "metadata": {
    "collapsed": true,
    "ExecuteTime": {
     "end_time": "2024-11-22T13:47:35.275112Z",
     "start_time": "2024-11-22T13:47:25.404243Z"
    }
   },
   "outputs": [
    {
     "name": "stderr",
     "output_type": "stream",
     "text": [
      "/Users/aceto/anaconda3/lib/python3.11/site-packages/sentence_transformers/cross_encoder/CrossEncoder.py:13: TqdmExperimentalWarning: Using `tqdm.autonotebook.tqdm` in notebook mode. Use `tqdm.tqdm` instead to force console mode (e.g. in jupyter console)\n",
      "  from tqdm.autonotebook import tqdm, trange\n"
     ]
    }
   ],
   "source": [
    "from sentence_transformers import SentenceTransformer\n",
    "import numpy as np\n",
    "import pandas as pd\n",
    "from matplotlib import pyplot as plt"
   ]
  },
  {
   "cell_type": "markdown",
   "source": [
    "# Prepare the data"
   ],
   "metadata": {
    "collapsed": false
   },
   "id": "7b70a7525b4a1612"
  },
  {
   "cell_type": "code",
   "execution_count": 2,
   "outputs": [],
   "source": [
    "SOURCE = \"../data/games.csv\""
   ],
   "metadata": {
    "collapsed": false,
    "ExecuteTime": {
     "end_time": "2024-11-22T13:47:35.281783Z",
     "start_time": "2024-11-22T13:47:35.275294Z"
    }
   },
   "id": "78d90fa3cf63df53"
  },
  {
   "cell_type": "code",
   "execution_count": 3,
   "outputs": [],
   "source": [
    "def process_games_data(source):\n",
    "    # Read the CSV file\n",
    "    games = pd.read_csv(source)\n",
    "\n",
    "    # Select relevant columns\n",
    "    games = games[['AppID', 'Name', 'About the game', 'Supported languages', 'Genres']]\n",
    "\n",
    "    # Rename columns\n",
    "    games.columns = ['id', 'name', 'description', 'languages', 'genres']\n",
    "\n",
    "    # Drop rows with missing descriptions\n",
    "    games = games.dropna(subset=['description'])\n",
    "\n",
    "    # Filter games with English available\n",
    "    games['english_available'] = games['languages'].apply(lambda x: 'english' in x.lower())\n",
    "    games = games[games['english_available']]\n",
    "\n",
    "    # Filter games with description length greater than 120\n",
    "    games = games[games['description'].apply(lambda x: len(str(x))) > 120]\n",
    "\n",
    "    # Truncate descriptions to 3000 characters\n",
    "    games['description'] = games['description'].apply(lambda x: x[:3000])\n",
    "    \n",
    "    #Remove not needed columns\n",
    "    games = games.drop(columns=['languages', 'english_available'])\n",
    "\n",
    "    return games"
   ],
   "metadata": {
    "collapsed": false,
    "ExecuteTime": {
     "end_time": "2024-11-22T13:47:35.282217Z",
     "start_time": "2024-11-22T13:47:35.278235Z"
    }
   },
   "id": "4fb4a4cb7e1d467"
  },
  {
   "cell_type": "code",
   "execution_count": 4,
   "outputs": [
    {
     "name": "stderr",
     "output_type": "stream",
     "text": [
      "/Users/aceto/anaconda3/lib/python3.11/site-packages/transformers/tokenization_utils_base.py:1601: FutureWarning: `clean_up_tokenization_spaces` was not set. It will be set to `True` by default. This behavior will be depracted in transformers v4.45, and will be then set to `False` by default. For more details check this issue: https://github.com/huggingface/transformers/issues/31884\n",
      "  warnings.warn(\n"
     ]
    }
   ],
   "source": [
    "model = SentenceTransformer(\"all-mpnet-base-v2\")"
   ],
   "metadata": {
    "collapsed": false,
    "ExecuteTime": {
     "end_time": "2024-11-22T13:47:37.057859Z",
     "start_time": "2024-11-22T13:47:35.280453Z"
    }
   },
   "id": "3b55eed2daa46122"
  },
  {
   "cell_type": "code",
   "execution_count": 5,
   "outputs": [
    {
     "name": "stdout",
     "output_type": "stream",
     "text": [
      "Max Sequence Length: 384\n"
     ]
    }
   ],
   "source": [
    "print(\"Max Sequence Length:\", model.max_seq_length)"
   ],
   "metadata": {
    "collapsed": false,
    "ExecuteTime": {
     "end_time": "2024-11-22T13:47:37.064647Z",
     "start_time": "2024-11-22T13:47:37.059474Z"
    }
   },
   "id": "2e385896bc63a6cf"
  },
  {
   "cell_type": "code",
   "execution_count": 6,
   "outputs": [],
   "source": [
    "tokenizer = model.tokenizer"
   ],
   "metadata": {
    "collapsed": false,
    "ExecuteTime": {
     "end_time": "2024-11-22T13:47:37.064842Z",
     "start_time": "2024-11-22T13:47:37.061415Z"
    }
   },
   "id": "58c1311c215b3b02"
  },
  {
   "cell_type": "code",
   "execution_count": 7,
   "outputs": [
    {
     "data": {
      "text/plain": "tensor([[   0, 2027, 2007, 1041, 3235, 6255,    2,    1],\n        [   0, 2027, 2007, 2182, 6255, 1064, 1064,    2]])"
     },
     "execution_count": 7,
     "metadata": {},
     "output_type": "execute_result"
    }
   ],
   "source": [
    "tokenizer([\"This is a test sentence\", \"this is another sentence x x\"], return_tensors=\"pt\", padding=True)['input_ids']"
   ],
   "metadata": {
    "collapsed": false,
    "ExecuteTime": {
     "end_time": "2024-11-22T13:47:37.072676Z",
     "start_time": "2024-11-22T13:47:37.064546Z"
    }
   },
   "id": "f0c28bd9e7f5d027"
  },
  {
   "cell_type": "code",
   "execution_count": 8,
   "outputs": [
    {
     "name": "stderr",
     "output_type": "stream",
     "text": [
      "[nltk_data] Downloading package punkt to /Users/aceto/nltk_data...\n",
      "[nltk_data]   Package punkt is already up-to-date!\n"
     ]
    }
   ],
   "source": [
    "import nltk\n",
    "from nltk.tokenize import sent_tokenize\n",
    "\n",
    "# Ensure you have the required resources downloaded\n",
    "nltk.download('punkt')\n",
    "def string_to_sentences(input_string):\n",
    "    \"\"\"\n",
    "    Transforms an English input string into a list of sentences.\n",
    "    \n",
    "    Args:\n",
    "        input_string (str): The input text in English.\n",
    "    \n",
    "    Returns:\n",
    "        list: A list of sentences from the input string.\n",
    "    \"\"\"\n",
    "    # Tokenize the input string into sentences\n",
    "    sentences = sent_tokenize(input_string)\n",
    "    return sentences"
   ],
   "metadata": {
    "collapsed": false,
    "ExecuteTime": {
     "end_time": "2024-11-22T13:47:37.917494Z",
     "start_time": "2024-11-22T13:47:37.070458Z"
    }
   },
   "id": "29d3fa9d681212d8"
  },
  {
   "cell_type": "markdown",
   "source": [
    "## Experiment 1: Similarity only based on description"
   ],
   "metadata": {
    "collapsed": false
   },
   "id": "e9d1e8824a6382cd"
  },
  {
   "cell_type": "code",
   "execution_count": 9,
   "outputs": [
    {
     "data": {
      "text/plain": "count                                                 87945\nunique                                                87463\ntop       Help the beautiful girls to immerse themselves...\nfreq                                                     65\nName: description, dtype: object"
     },
     "execution_count": 9,
     "metadata": {},
     "output_type": "execute_result"
    }
   ],
   "source": [
    "games_1 = process_games_data(SOURCE)\n",
    "games_1['description'].describe()"
   ],
   "metadata": {
    "collapsed": false,
    "ExecuteTime": {
     "end_time": "2024-11-22T13:47:41.582418Z",
     "start_time": "2024-11-22T13:47:37.918726Z"
    }
   },
   "id": "e9b0d6ff920fe24c"
  },
  {
   "cell_type": "code",
   "execution_count": 10,
   "outputs": [
    {
     "data": {
      "text/plain": "            id                    name  \\\n0        20200        Galactic Bowling   \n1       655370            Train Bandit   \n2      1732930            Jolt Project   \n3      1355720                Henosis™   \n4      1139950   Two Weeks in Painland   \n...        ...                     ...   \n97405  3080940  Femdom Game World: Mom   \n97406  2593970             Blocky Farm   \n97407  3137150    Infiltrate & Extract   \n97408  3124670       Escape The Garage   \n97409  3054200              Lober Lobe   \n\n                                             description  \\\n0      Galactic Bowling is an exaggerated and stylize...   \n1      THE LAW!! Looks to be a showdown atop a train....   \n2      Jolt Project: The army now has a new robotics ...   \n3      HENOSIS™ is a mysterious 2D Platform Puzzler w...   \n4      ABOUT THE GAME Play as a hacker who has arrang...   \n...                                                  ...   \n97405  . Femdom Game World - is a fascinating series ...   \n97406  Enter the charming world of Blocky Farm where ...   \n97407  Mission brief: You are deployed to a heavily g...   \n97408  Welcome to Escape The Garage, the thrilling es...   \n97409  Scan Brain Lobes Organize &amp; clear dangerou...   \n\n                                genres  \n0                  Casual,Indie,Sports  \n1                         Action,Indie  \n2      Action,Adventure,Indie,Strategy  \n3               Adventure,Casual,Indie  \n4                      Adventure,Indie  \n...                                ...  \n97405                           Casual  \n97406       Casual,Simulation,Strategy  \n97407            Strategy,Free To Play  \n97408           Adventure,Casual,Indie  \n97409              Action,Casual,Indie  \n\n[87945 rows x 4 columns]",
      "text/html": "<div>\n<style scoped>\n    .dataframe tbody tr th:only-of-type {\n        vertical-align: middle;\n    }\n\n    .dataframe tbody tr th {\n        vertical-align: top;\n    }\n\n    .dataframe thead th {\n        text-align: right;\n    }\n</style>\n<table border=\"1\" class=\"dataframe\">\n  <thead>\n    <tr style=\"text-align: right;\">\n      <th></th>\n      <th>id</th>\n      <th>name</th>\n      <th>description</th>\n      <th>genres</th>\n    </tr>\n  </thead>\n  <tbody>\n    <tr>\n      <th>0</th>\n      <td>20200</td>\n      <td>Galactic Bowling</td>\n      <td>Galactic Bowling is an exaggerated and stylize...</td>\n      <td>Casual,Indie,Sports</td>\n    </tr>\n    <tr>\n      <th>1</th>\n      <td>655370</td>\n      <td>Train Bandit</td>\n      <td>THE LAW!! Looks to be a showdown atop a train....</td>\n      <td>Action,Indie</td>\n    </tr>\n    <tr>\n      <th>2</th>\n      <td>1732930</td>\n      <td>Jolt Project</td>\n      <td>Jolt Project: The army now has a new robotics ...</td>\n      <td>Action,Adventure,Indie,Strategy</td>\n    </tr>\n    <tr>\n      <th>3</th>\n      <td>1355720</td>\n      <td>Henosis™</td>\n      <td>HENOSIS™ is a mysterious 2D Platform Puzzler w...</td>\n      <td>Adventure,Casual,Indie</td>\n    </tr>\n    <tr>\n      <th>4</th>\n      <td>1139950</td>\n      <td>Two Weeks in Painland</td>\n      <td>ABOUT THE GAME Play as a hacker who has arrang...</td>\n      <td>Adventure,Indie</td>\n    </tr>\n    <tr>\n      <th>...</th>\n      <td>...</td>\n      <td>...</td>\n      <td>...</td>\n      <td>...</td>\n    </tr>\n    <tr>\n      <th>97405</th>\n      <td>3080940</td>\n      <td>Femdom Game World: Mom</td>\n      <td>. Femdom Game World - is a fascinating series ...</td>\n      <td>Casual</td>\n    </tr>\n    <tr>\n      <th>97406</th>\n      <td>2593970</td>\n      <td>Blocky Farm</td>\n      <td>Enter the charming world of Blocky Farm where ...</td>\n      <td>Casual,Simulation,Strategy</td>\n    </tr>\n    <tr>\n      <th>97407</th>\n      <td>3137150</td>\n      <td>Infiltrate &amp; Extract</td>\n      <td>Mission brief: You are deployed to a heavily g...</td>\n      <td>Strategy,Free To Play</td>\n    </tr>\n    <tr>\n      <th>97408</th>\n      <td>3124670</td>\n      <td>Escape The Garage</td>\n      <td>Welcome to Escape The Garage, the thrilling es...</td>\n      <td>Adventure,Casual,Indie</td>\n    </tr>\n    <tr>\n      <th>97409</th>\n      <td>3054200</td>\n      <td>Lober Lobe</td>\n      <td>Scan Brain Lobes Organize &amp;amp; clear dangerou...</td>\n      <td>Action,Casual,Indie</td>\n    </tr>\n  </tbody>\n</table>\n<p>87945 rows × 4 columns</p>\n</div>"
     },
     "execution_count": 10,
     "metadata": {},
     "output_type": "execute_result"
    }
   ],
   "source": [
    "games_1"
   ],
   "metadata": {
    "collapsed": false,
    "ExecuteTime": {
     "end_time": "2024-11-22T13:47:41.598605Z",
     "start_time": "2024-11-22T13:47:41.583483Z"
    }
   },
   "id": "8a65e0c786034ab1"
  },
  {
   "cell_type": "markdown",
   "source": [
    "## Check token distribution"
   ],
   "metadata": {
    "collapsed": false
   },
   "id": "87089c00d9d66e87"
  },
  {
   "cell_type": "code",
   "execution_count": 11,
   "outputs": [
    {
     "name": "stderr",
     "output_type": "stream",
     "text": [
      "Token indices sequence length is longer than the specified maximum sequence length for this model (454 > 384). Running this sequence through the model will result in indexing errors\n"
     ]
    },
    {
     "data": {
      "text/plain": "count    87945.000000\nmean       257.701552\nstd        154.695685\nmin         24.000000\n25%        141.000000\n50%        219.000000\n75%        337.000000\nmax       2172.000000\nName: desc_tokens_length, dtype: float64"
     },
     "execution_count": 11,
     "metadata": {},
     "output_type": "execute_result"
    }
   ],
   "source": [
    "games_1['desc_tokens_length'] = games_1['description'].apply(lambda x: len(tokenizer(x)['input_ids']))\n",
    "games_1['desc_tokens_length'].describe()"
   ],
   "metadata": {
    "collapsed": false,
    "ExecuteTime": {
     "end_time": "2024-11-22T13:48:34.215566Z",
     "start_time": "2024-11-22T13:48:02.628614Z"
    }
   },
   "id": "a33aa86ab069159e"
  },
  {
   "cell_type": "code",
   "execution_count": 12,
   "outputs": [
    {
     "data": {
      "text/plain": "(array([2.9992e+04, 3.2194e+04, 1.4710e+04, 6.6620e+03, 4.2180e+03,\n        1.2500e+02, 2.2000e+01, 5.0000e+00, 3.0000e+00, 4.0000e+00,\n        5.0000e+00, 2.0000e+00, 1.0000e+00, 0.0000e+00, 2.0000e+00]),\n array([  24. ,  167.2,  310.4,  453.6,  596.8,  740. ,  883.2, 1026.4,\n        1169.6, 1312.8, 1456. , 1599.2, 1742.4, 1885.6, 2028.8, 2172. ]),\n <BarContainer object of 15 artists>)"
     },
     "execution_count": 12,
     "metadata": {},
     "output_type": "execute_result"
    },
    {
     "data": {
      "text/plain": "<Figure size 640x480 with 1 Axes>",
      "image/png": "[encoded data removed]"
     },
     "metadata": {},
     "output_type": "display_data"
    }
   ],
   "source": [
    "plt.hist(games_1['desc_tokens_length'], bins=15)"
   ],
   "metadata": {
    "collapsed": false,
    "ExecuteTime": {
     "end_time": "2024-11-22T13:48:34.467532Z",
     "start_time": "2024-11-22T13:48:34.215972Z"
    }
   },
   "id": "31b6b854feff6b1"
  },
  {
   "cell_type": "code",
   "execution_count": 13,
   "outputs": [
    {
     "data": {
      "text/plain": "0        [Galactic Bowling is an exaggerated and styliz...\n1        [THE LAW!!, Looks to be a showdown atop a trai...\n2        [Jolt Project: The army now has a new robotics...\n3        [HENOSIS™ is a mysterious 2D Platform Puzzler ...\n4        [ABOUT THE GAME Play as a hacker who has arran...\n                               ...                        \n97405    [., Femdom Game World - is a fascinating serie...\n97406    [Enter the charming world of Blocky Farm where...\n97407    [Mission brief: You are deployed to a heavily ...\n97408    [Welcome to Escape The Garage, the thrilling e...\n97409    [Scan Brain Lobes Organize &amp; clear dangero...\nName: sentences, Length: 87945, dtype: object"
     },
     "execution_count": 13,
     "metadata": {},
     "output_type": "execute_result"
    }
   ],
   "source": [
    "# Make list of sentence from description\n",
    "games_1['sentences'] = games_1['description'].apply(string_to_sentences)\n",
    "games_1['sentences']"
   ],
   "metadata": {
    "collapsed": false,
    "ExecuteTime": {
     "end_time": "2024-11-22T13:48:41.732710Z",
     "start_time": "2024-11-22T13:48:34.418355Z"
    }
   },
   "id": "91a1f1e70b46e716"
  },
  {
   "cell_type": "code",
   "execution_count": 14,
   "outputs": [
    {
     "data": {
      "text/plain": "count    87945.000000\nmean        12.269782\nstd          7.824526\nmin          1.000000\n25%          7.000000\n50%         10.000000\n75%         16.000000\nmax        437.000000\nName: sentences_length, dtype: float64"
     },
     "execution_count": 14,
     "metadata": {},
     "output_type": "execute_result"
    }
   ],
   "source": [
    "# get Lenghth of sentences\n",
    "games_1['sentences_length'] = games_1['sentences'].apply(lambda x: len(x))\n",
    "games_1['sentences_length'].describe()"
   ],
   "metadata": {
    "collapsed": false,
    "ExecuteTime": {
     "end_time": "2024-11-22T13:48:41.765002Z",
     "start_time": "2024-11-22T13:48:41.732845Z"
    }
   },
   "id": "65ef35a53dd4614a"
  },
  {
   "cell_type": "code",
   "execution_count": 16,
   "outputs": [
    {
     "name": "stderr",
     "output_type": "stream",
     "text": [
      "/var/folders/3r/gx5x0f7n6lvd5yzgw2zddpv80000gn/T/ipykernel_32434/330415680.py:7: SettingWithCopyWarning: \n",
      "A value is trying to be set on a copy of a slice from a DataFrame.\n",
      "Try using .loc[row_indexer,col_indexer] = value instead\n",
      "\n",
      "See the caveats in the documentation: https://pandas.pydata.org/pandas-docs/stable/user_guide/indexing.html#returning-a-view-versus-a-copy\n",
      "  g_1['embeddings'] = [model.encode(g_1['sentences'].values[0]).mean(axis=0)]\n",
      "/var/folders/3r/gx5x0f7n6lvd5yzgw2zddpv80000gn/T/ipykernel_32434/330415680.py:8: SettingWithCopyWarning: \n",
      "A value is trying to be set on a copy of a slice from a DataFrame.\n",
      "Try using .loc[row_indexer,col_indexer] = value instead\n",
      "\n",
      "See the caveats in the documentation: https://pandas.pydata.org/pandas-docs/stable/user_guide/indexing.html#returning-a-view-versus-a-copy\n",
      "  g_2['embeddings'] = [model.encode(g_2['sentences'].values[0]).mean(axis=0)]\n",
      "/var/folders/3r/gx5x0f7n6lvd5yzgw2zddpv80000gn/T/ipykernel_32434/330415680.py:9: SettingWithCopyWarning: \n",
      "A value is trying to be set on a copy of a slice from a DataFrame.\n",
      "Try using .loc[row_indexer,col_indexer] = value instead\n",
      "\n",
      "See the caveats in the documentation: https://pandas.pydata.org/pandas-docs/stable/user_guide/indexing.html#returning-a-view-versus-a-copy\n",
      "  g_3['embeddings'] = [model.encode(g_3['sentences'].values[0]).mean(axis=0)]\n"
     ]
    }
   ],
   "source": [
    "#get to similar games\n",
    "g_1 = games_1[games_1[\"id\"] == 849177]\n",
    "g_2 = games_1[games_1[\"id\"] == 391220]\n",
    "#Get one not similar\n",
    "g_3 = games_1[games_1[\"id\"] == 1659180]\n",
    "#Get embeddings\n",
    "g_1['embeddings'] = [model.encode(g_1['sentences'].values[0]).mean(axis=0)]\n",
    "g_2['embeddings'] = [model.encode(g_2['sentences'].values[0]).mean(axis=0)]\n",
    "g_3['embeddings'] = [model.encode(g_3['sentences'].values[0]).mean(axis=0)]"
   ],
   "metadata": {
    "collapsed": false,
    "ExecuteTime": {
     "end_time": "2024-11-22T13:50:47.734395Z",
     "start_time": "2024-11-22T13:50:47.043111Z"
    }
   },
   "id": "966730f8d9c469a2"
  },
  {
   "cell_type": "code",
   "execution_count": 21,
   "outputs": [
    {
     "name": "stderr",
     "output_type": "stream",
     "text": [
      "/Users/aceto/anaconda3/lib/python3.11/site-packages/transformers/tokenization_utils_base.py:1601: FutureWarning: `clean_up_tokenization_spaces` was not set. It will be set to `True` by default. This behavior will be depracted in transformers v4.45, and will be then set to `False` by default. For more details check this issue: https://github.com/huggingface/transformers/issues/31884\n",
      "  warnings.warn(\n"
     ]
    }
   ],
   "source": [
    "from transformers import AutoTokenizer, AutoModel\n",
    "import torch\n",
    "import torch.nn.functional as F\n",
    "\n",
    "tokenizer = AutoTokenizer.from_pretrained('sentence-transformers/all-mpnet-base-v2')\n",
    "model = AutoModel.from_pretrained('sentence-transformers/all-mpnet-base-v2')\n",
    "def get_sentence_embeddings(sentences, tokenizer, model):\n",
    "    def mean_pooling(model_output, attention_mask):\n",
    "        token_embeddings = model_output[0] #First element of model_output contains all token embeddings\n",
    "        input_mask_expanded = attention_mask.unsqueeze(-1).expand(token_embeddings.size()).float()\n",
    "        return torch.sum(token_embeddings * input_mask_expanded, 1) / torch.clamp(input_mask_expanded.sum(1), min=1e-9)\n",
    "    # Tokenize sentences\n",
    "    encoded_input = tokenizer(sentences, padding=True, truncation=True, return_tensors='pt')\n",
    "    \n",
    "    # Compute token embeddings\n",
    "    with torch.no_grad():\n",
    "        model_output = model(**encoded_input)\n",
    "    \n",
    "    # Perform pooling\n",
    "    sentence_embeddings = mean_pooling(model_output, encoded_input['attention_mask'])\n",
    "    \n",
    "    # Normalize embeddings\n",
    "    sentence_embeddings = F.normalize(sentence_embeddings, p=2, dim=1)\n",
    "    sentence_embeddings = sentence_embeddings.mean(axis=0)\n",
    "    return sentence_embeddings"
   ],
   "metadata": {
    "collapsed": false,
    "ExecuteTime": {
     "end_time": "2024-11-15T15:30:26.518602Z",
     "start_time": "2024-11-15T15:30:26.192058Z"
    }
   },
   "id": "98bba8a3b3e861eb"
  },
  {
   "cell_type": "code",
   "execution_count": 22,
   "outputs": [
    {
     "name": "stderr",
     "output_type": "stream",
     "text": [
      "/var/folders/3r/gx5x0f7n6lvd5yzgw2zddpv80000gn/T/ipykernel_23385/270590755.py:1: SettingWithCopyWarning: \n",
      "A value is trying to be set on a copy of a slice from a DataFrame.\n",
      "Try using .loc[row_indexer,col_indexer] = value instead\n",
      "\n",
      "See the caveats in the documentation: https://pandas.pydata.org/pandas-docs/stable/user_guide/indexing.html#returning-a-view-versus-a-copy\n",
      "  g_1['embeddings'] = [get_sentence_embeddings(g_1['sentences'].values[0], tokenizer, model)]\n",
      "/var/folders/3r/gx5x0f7n6lvd5yzgw2zddpv80000gn/T/ipykernel_23385/270590755.py:2: SettingWithCopyWarning: \n",
      "A value is trying to be set on a copy of a slice from a DataFrame.\n",
      "Try using .loc[row_indexer,col_indexer] = value instead\n",
      "\n",
      "See the caveats in the documentation: https://pandas.pydata.org/pandas-docs/stable/user_guide/indexing.html#returning-a-view-versus-a-copy\n",
      "  g_2['embeddings'] = [get_sentence_embeddings(g_2['sentences'].values[0], tokenizer, model)]\n",
      "/var/folders/3r/gx5x0f7n6lvd5yzgw2zddpv80000gn/T/ipykernel_23385/270590755.py:3: SettingWithCopyWarning: \n",
      "A value is trying to be set on a copy of a slice from a DataFrame.\n",
      "Try using .loc[row_indexer,col_indexer] = value instead\n",
      "\n",
      "See the caveats in the documentation: https://pandas.pydata.org/pandas-docs/stable/user_guide/indexing.html#returning-a-view-versus-a-copy\n",
      "  g_3['embeddings'] = [get_sentence_embeddings(g_3['sentences'].values[0], tokenizer, model)]\n"
     ]
    }
   ],
   "source": [
    "g_1['embeddings'] = [get_sentence_embeddings(g_1['sentences'].values[0], tokenizer, model)]\n",
    "g_2['embeddings'] = [get_sentence_embeddings(g_2['sentences'].values[0], tokenizer, model)]\n",
    "g_3['embeddings'] = [get_sentence_embeddings(g_3['sentences'].values[0], tokenizer, model)]"
   ],
   "metadata": {
    "collapsed": false,
    "ExecuteTime": {
     "end_time": "2024-11-15T15:30:27.615512Z",
     "start_time": "2024-11-15T15:30:26.519375Z"
    }
   },
   "id": "62d186e3c656b389"
  },
  {
   "cell_type": "code",
   "execution_count": 17,
   "outputs": [
    {
     "data": {
      "text/plain": "<function sentence_transformers.util.cos_sim(a: 'list | np.ndarray | Tensor', b: 'list | np.ndarray | Tensor') -> 'Tensor'>"
     },
     "execution_count": 17,
     "metadata": {},
     "output_type": "execute_result"
    }
   ],
   "source": [
    "len(g_1['embeddings'].values[0])\n",
    "model.similarity"
   ],
   "metadata": {
    "collapsed": false,
    "ExecuteTime": {
     "end_time": "2024-11-22T13:51:23.271471Z",
     "start_time": "2024-11-22T13:51:23.258932Z"
    }
   },
   "id": "b9c36cfb82d65ff8"
  },
  {
   "cell_type": "code",
   "execution_count": 18,
   "outputs": [
    {
     "name": "stdout",
     "output_type": "stream",
     "text": [
      "Similarity between Shadow of the Tomb Raider: Definitive Edition and Rise of the Tomb Raider™: 0.851446270942688 -> should be high\n",
      "Similarity between Shadow of the Tomb Raider: Definitive Edition and TD Worlds: 0.5573999881744385 -> should be low\n"
     ]
    }
   ],
   "source": [
    "from sklearn.metrics.pairwise import cosine_similarity\n",
    "desc_sim_1_2 = cosine_similarity(g_1['embeddings'].values[0].reshape(1, -1), g_2['embeddings'].values[0].reshape(1, -1))\n",
    "desc_sim_1_3 = cosine_similarity(g_1['embeddings'].values[0].reshape(1, -1), g_3['embeddings'].values[0].reshape(1, -1))\n",
    "print(f\"Similarity between {g_1['name'].values[0]} and {g_2['name'].values[0]}: {desc_sim_1_2[0][0]} -> should be high\")\n",
    "print(f\"Similarity between {g_1['name'].values[0]} and {g_3['name'].values[0]}: {desc_sim_1_3[0][0]} -> should be low\")"
   ],
   "metadata": {
    "collapsed": false,
    "ExecuteTime": {
     "end_time": "2024-11-22T13:51:24.784301Z",
     "start_time": "2024-11-22T13:51:24.773161Z"
    }
   },
   "id": "7f14a5ba7a2d17fb"
  },
  {
   "cell_type": "markdown",
   "source": [
    "##### Old\n",
    "Similarity between Shadow of the Tomb Raider: Definitive Edition and Rise of the Tomb Raider™: 0.8550347089767456 -> should be high\n",
    "Similarity between Shadow of the Tomb Raider: Definitive Edition and TD Worlds: 0.3918170928955078 -> should be low\n",
    "\n",
    "---\n",
    "\n",
    "No pooling / pooling doesn't make a difference\n",
    "\n",
    "Similarity between Shadow of the Tomb Raider: Definitive Edition and Rise of the Tomb Raider™: 0.8514463305473328 -> should be high\n",
    "Similarity between Shadow of the Tomb Raider: Definitive Edition and TD Worlds: 0.557400107383728 -> should be low"
   ],
   "metadata": {
    "collapsed": false
   },
   "id": "5252a3dae449f74a"
  },
  {
   "cell_type": "code",
   "execution_count": null,
   "outputs": [],
   "source": [
    "g_3['embeddings'].values[0]"
   ],
   "metadata": {
    "collapsed": false,
    "ExecuteTime": {
     "end_time": "2024-11-15T15:30:27.772889Z",
     "start_time": "2024-11-15T15:30:27.772057Z"
    }
   },
   "id": "1a547a815aa6a316"
  },
  {
   "cell_type": "markdown",
   "source": [
    "## Experiment 2: Similarity based on description and genres (weighted approach)"
   ],
   "metadata": {
    "collapsed": false
   },
   "id": "52e78f80586c6acc"
  },
  {
   "cell_type": "code",
   "execution_count": 26,
   "outputs": [],
   "source": [
    "games_2 = process_games_data(SOURCE)\n",
    "games_2['sentences'] = games_1['description'].apply(string_to_sentences)"
   ],
   "metadata": {
    "collapsed": false,
    "ExecuteTime": {
     "end_time": "2024-11-15T15:32:53.417198Z",
     "start_time": "2024-11-15T15:32:43.783549Z"
    }
   },
   "id": "91005ff7286d4bc2"
  },
  {
   "cell_type": "markdown",
   "source": [
    "Description embedding same as before"
   ],
   "metadata": {
    "collapsed": false
   },
   "id": "2111f327d2146a87"
  },
  {
   "cell_type": "code",
   "execution_count": 27,
   "outputs": [
    {
     "name": "stderr",
     "output_type": "stream",
     "text": [
      "/var/folders/3r/gx5x0f7n6lvd5yzgw2zddpv80000gn/T/ipykernel_23385/450569208.py:6: SettingWithCopyWarning: \n",
      "A value is trying to be set on a copy of a slice from a DataFrame.\n",
      "Try using .loc[row_indexer,col_indexer] = value instead\n",
      "\n",
      "See the caveats in the documentation: https://pandas.pydata.org/pandas-docs/stable/user_guide/indexing.html#returning-a-view-versus-a-copy\n",
      "  g_1['desc_embeddings'] = [get_sentence_embeddings(g_1['sentences'].values[0], tokenizer, model)]\n",
      "/var/folders/3r/gx5x0f7n6lvd5yzgw2zddpv80000gn/T/ipykernel_23385/450569208.py:7: SettingWithCopyWarning: \n",
      "A value is trying to be set on a copy of a slice from a DataFrame.\n",
      "Try using .loc[row_indexer,col_indexer] = value instead\n",
      "\n",
      "See the caveats in the documentation: https://pandas.pydata.org/pandas-docs/stable/user_guide/indexing.html#returning-a-view-versus-a-copy\n",
      "  g_2['desc_embeddings'] = [get_sentence_embeddings(g_2['sentences'].values[0], tokenizer, model)]\n",
      "/var/folders/3r/gx5x0f7n6lvd5yzgw2zddpv80000gn/T/ipykernel_23385/450569208.py:8: SettingWithCopyWarning: \n",
      "A value is trying to be set on a copy of a slice from a DataFrame.\n",
      "Try using .loc[row_indexer,col_indexer] = value instead\n",
      "\n",
      "See the caveats in the documentation: https://pandas.pydata.org/pandas-docs/stable/user_guide/indexing.html#returning-a-view-versus-a-copy\n",
      "  g_3['desc_embeddings'] = [get_sentence_embeddings(g_3['sentences'].values[0], tokenizer, model)]\n"
     ]
    }
   ],
   "source": [
    "g_1 = games_2[games_2[\"id\"] == 849177]\n",
    "g_2 = games_2[games_2[\"id\"] == 391220]\n",
    "#Get one not similar\n",
    "g_3 = games_2[games_2[\"id\"] == 1659180]\n",
    "#Get embeddings\n",
    "g_1['desc_embeddings'] = [get_sentence_embeddings(g_1['sentences'].values[0], tokenizer, model)]\n",
    "g_2['desc_embeddings'] = [get_sentence_embeddings(g_2['sentences'].values[0], tokenizer, model)]\n",
    "g_3['desc_embeddings'] = [get_sentence_embeddings(g_3['sentences'].values[0], tokenizer, model)]"
   ],
   "metadata": {
    "collapsed": false,
    "ExecuteTime": {
     "end_time": "2024-11-15T15:32:56.510618Z",
     "start_time": "2024-11-15T15:32:55.702897Z"
    }
   },
   "id": "a5dae0f1e1d5c5df"
  },
  {
   "cell_type": "code",
   "execution_count": 3,
   "outputs": [
    {
     "ename": "NameError",
     "evalue": "name 'g_1' is not defined",
     "output_type": "error",
     "traceback": [
      "\u001B[0;31m---------------------------------------------------------------------------\u001B[0m",
      "\u001B[0;31mNameError\u001B[0m                                 Traceback (most recent call last)",
      "Cell \u001B[0;32mIn[3], line 1\u001B[0m\n\u001B[0;32m----> 1\u001B[0m g_1[\u001B[38;5;124m'\u001B[39m\u001B[38;5;124mdesc_embeddings\u001B[39m\u001B[38;5;124m'\u001B[39m]\n",
      "\u001B[0;31mNameError\u001B[0m: name 'g_1' is not defined"
     ]
    }
   ],
   "source": [
    "g_1['desc_embeddings']"
   ],
   "metadata": {
    "collapsed": false,
    "ExecuteTime": {
     "end_time": "2024-11-15T15:29:25.382864Z",
     "start_time": "2024-11-15T15:29:25.371067Z"
    }
   },
   "id": "6fc1b1bcb9ecbd9e"
  },
  {
   "cell_type": "markdown",
   "source": [
    "Genres embedding\n",
    "- Option one would be one hot encoding and just see how many genres are in common\n",
    "- Option two would be to use bert (single word) and then average the embeddings, get similarity"
   ],
   "metadata": {
    "collapsed": false
   },
   "id": "7327793e510e3417"
  },
  {
   "cell_type": "markdown",
   "source": [
    "from sklearn.preprocessing import MultiLabelBinarizer\n",
    "mlb = MultiLabelBinarizer()\n",
    "g_1['genres'] = g_1['genres'].apply(lambda x: x.split(', '))\n",
    "g_2['genres'] = g_2['genres'].apply(lambda x: x.split(', '))\n",
    "g_3['genres'] = g_3['genres'].apply(lambda x: x.split(', '))\n",
    "#genres = mlb.fit_transform(games_2['genres'])\n",
    "#genres = pd.DataFrame(genres, columns=mlb.classes_)\n",
    "#genres"
   ],
   "metadata": {
    "collapsed": false
   },
   "id": "fb04446ac25cde04"
  },
  {
   "cell_type": "code",
   "execution_count": 28,
   "outputs": [
    {
     "name": "stderr",
     "output_type": "stream",
     "text": [
      "/Users/aceto/anaconda3/lib/python3.11/site-packages/transformers/tokenization_utils_base.py:1601: FutureWarning: `clean_up_tokenization_spaces` was not set. It will be set to `True` by default. This behavior will be depracted in transformers v4.45, and will be then set to `False` by default. For more details check this issue: https://github.com/huggingface/transformers/issues/31884\n",
      "  warnings.warn(\n"
     ]
    }
   ],
   "source": [
    "from transformers import BertTokenizer, BertModel\n",
    "tokenizer = BertTokenizer.from_pretrained('bert-base-uncased')\n",
    "model = BertModel.from_pretrained('bert-base-uncased')"
   ],
   "metadata": {
    "collapsed": false,
    "ExecuteTime": {
     "end_time": "2024-11-15T15:33:03.012303Z",
     "start_time": "2024-11-15T15:33:02.550729Z"
    }
   },
   "id": "5a23cf79a87e6e7e"
  },
  {
   "cell_type": "code",
   "execution_count": 29,
   "outputs": [],
   "source": [
    "def get_genre_embeddings(genres: list):\n",
    "    genre_embeddings = []\n",
    "    for genre in genres:\n",
    "        inputs = tokenizer(genre, return_tensors=\"pt\")\n",
    "        outputs = model(**inputs)\n",
    "        genre_embeddings.append(outputs.last_hidden_state.mean(dim=1).detach().numpy())\n",
    "    return np.mean(genre_embeddings, axis=0)"
   ],
   "metadata": {
    "collapsed": false,
    "ExecuteTime": {
     "end_time": "2024-11-15T15:33:03.018448Z",
     "start_time": "2024-11-15T15:33:03.013303Z"
    }
   },
   "id": "5a10d363f472c458"
  },
  {
   "cell_type": "code",
   "execution_count": 30,
   "outputs": [
    {
     "name": "stderr",
     "output_type": "stream",
     "text": [
      "/var/folders/3r/gx5x0f7n6lvd5yzgw2zddpv80000gn/T/ipykernel_23385/287222231.py:1: SettingWithCopyWarning: \n",
      "A value is trying to be set on a copy of a slice from a DataFrame.\n",
      "Try using .loc[row_indexer,col_indexer] = value instead\n",
      "\n",
      "See the caveats in the documentation: https://pandas.pydata.org/pandas-docs/stable/user_guide/indexing.html#returning-a-view-versus-a-copy\n",
      "  g_1['genre_embeddings'] = [get_genre_embeddings(g_1['genres'].iloc[0])]\n",
      "/var/folders/3r/gx5x0f7n6lvd5yzgw2zddpv80000gn/T/ipykernel_23385/287222231.py:2: SettingWithCopyWarning: \n",
      "A value is trying to be set on a copy of a slice from a DataFrame.\n",
      "Try using .loc[row_indexer,col_indexer] = value instead\n",
      "\n",
      "See the caveats in the documentation: https://pandas.pydata.org/pandas-docs/stable/user_guide/indexing.html#returning-a-view-versus-a-copy\n",
      "  g_2['genre_embeddings'] = [get_genre_embeddings(g_2['genres'].iloc[0])]\n",
      "/var/folders/3r/gx5x0f7n6lvd5yzgw2zddpv80000gn/T/ipykernel_23385/287222231.py:3: SettingWithCopyWarning: \n",
      "A value is trying to be set on a copy of a slice from a DataFrame.\n",
      "Try using .loc[row_indexer,col_indexer] = value instead\n",
      "\n",
      "See the caveats in the documentation: https://pandas.pydata.org/pandas-docs/stable/user_guide/indexing.html#returning-a-view-versus-a-copy\n",
      "  g_3['genre_embeddings'] = [get_genre_embeddings(g_3['genres'].iloc[0])]\n",
      "/var/folders/3r/gx5x0f7n6lvd5yzgw2zddpv80000gn/T/ipykernel_23385/287222231.py:5: SettingWithCopyWarning: \n",
      "A value is trying to be set on a copy of a slice from a DataFrame.\n",
      "Try using .loc[row_indexer,col_indexer] = value instead\n",
      "\n",
      "See the caveats in the documentation: https://pandas.pydata.org/pandas-docs/stable/user_guide/indexing.html#returning-a-view-versus-a-copy\n",
      "  g_1['genre_embeddings'] = g_1['genre_embeddings'].apply(lambda x: x.tolist()[0])\n",
      "/var/folders/3r/gx5x0f7n6lvd5yzgw2zddpv80000gn/T/ipykernel_23385/287222231.py:6: SettingWithCopyWarning: \n",
      "A value is trying to be set on a copy of a slice from a DataFrame.\n",
      "Try using .loc[row_indexer,col_indexer] = value instead\n",
      "\n",
      "See the caveats in the documentation: https://pandas.pydata.org/pandas-docs/stable/user_guide/indexing.html#returning-a-view-versus-a-copy\n",
      "  g_2['genre_embeddings'] = g_2['genre_embeddings'].apply(lambda x: x.tolist()[0])\n",
      "/var/folders/3r/gx5x0f7n6lvd5yzgw2zddpv80000gn/T/ipykernel_23385/287222231.py:7: SettingWithCopyWarning: \n",
      "A value is trying to be set on a copy of a slice from a DataFrame.\n",
      "Try using .loc[row_indexer,col_indexer] = value instead\n",
      "\n",
      "See the caveats in the documentation: https://pandas.pydata.org/pandas-docs/stable/user_guide/indexing.html#returning-a-view-versus-a-copy\n",
      "  g_3['genre_embeddings'] = g_3['genre_embeddings'].apply(lambda x: x.tolist()[0])\n"
     ]
    }
   ],
   "source": [
    "g_1['genre_embeddings'] = [get_genre_embeddings(g_1['genres'].iloc[0])]\n",
    "g_2['genre_embeddings'] = [get_genre_embeddings(g_2['genres'].iloc[0])]\n",
    "g_3['genre_embeddings'] = [get_genre_embeddings(g_3['genres'].iloc[0])]\n",
    "#Flatten the saved lists\n",
    "g_1['genre_embeddings'] = g_1['genre_embeddings'].apply(lambda x: x.tolist()[0])\n",
    "g_2['genre_embeddings'] = g_2['genre_embeddings'].apply(lambda x: x.tolist()[0])\n",
    "g_3['genre_embeddings'] = g_3['genre_embeddings'].apply(lambda x: x.tolist()[0])"
   ],
   "metadata": {
    "collapsed": false,
    "ExecuteTime": {
     "end_time": "2024-11-15T15:33:06.594680Z",
     "start_time": "2024-11-15T15:33:04.075578Z"
    }
   },
   "id": "f3a3cb7e6f04a8cb"
  },
  {
   "cell_type": "code",
   "execution_count": 90,
   "outputs": [
    {
     "data": {
      "text/plain": "[-0.0008037984371185303,\n -0.11213503777980804,\n 0.0815303847193718,\n -0.0028296636883169413,\n -0.06435970962047577,\n -0.20625348389148712,\n 0.3933359682559967,\n -0.23945556581020355,\n 0.0820603221654892,\n -0.36178058385849,\n -0.25206729769706726,\n -0.1282980740070343,\n -0.010344203561544418,\n 0.15746046602725983,\n 0.022905871272087097,\n -0.10439974069595337,\n 0.07984697073698044,\n 0.21666286885738373,\n 0.07688429951667786,\n 0.14840039610862732,\n 0.24641153216362,\n 0.09543310105800629,\n 0.21681277453899384,\n 0.07824771851301193,\n 0.2232428789138794,\n 0.244905486702919,\n -0.31584393978118896,\n -0.03381050378084183,\n -0.06924383342266083,\n 0.22415614128112793,\n 0.08683694899082184,\n -0.26708853244781494,\n -0.352036714553833,\n 0.3363131582736969,\n -0.22051116824150085,\n -0.19376087188720703,\n 0.12614373862743378,\n -0.04823528230190277,\n -0.4103160798549652,\n -0.10704474151134491,\n -0.10445186495780945,\n -0.03122136741876602,\n -0.028791053220629692,\n -0.017617246136069298,\n 0.0195629820227623,\n -0.08153697848320007,\n -0.4139222800731659,\n 0.08683675527572632,\n -0.3014823794364929,\n 0.035123396664857864,\n -0.31948965787887573,\n 0.14458400011062622,\n -0.08596260845661163,\n 0.29662415385246277,\n -0.018155988305807114,\n 0.2139793485403061,\n 0.27634885907173157,\n -0.015728680416941643,\n -0.11494772881269455,\n -0.15879882872104645,\n 0.16317206621170044,\n 0.21252655982971191,\n -0.06032504513859749,\n 0.1392633318901062,\n 0.2958833575248718,\n 0.31711775064468384,\n 0.14494644105434418,\n 0.005771084222942591,\n -0.5961892604827881,\n 0.21008172631263733,\n -0.33913886547088623,\n -0.24776801466941833,\n 0.4563944935798645,\n 0.02552654966711998,\n 0.29719114303588867,\n 0.04421781748533249,\n 0.019197942689061165,\n 0.25004345178604126,\n 0.14014823734760284,\n -0.22555406391620636,\n 0.37306922674179077,\n 0.07702641934156418,\n 0.20326389372348785,\n 0.34693461656570435,\n 0.10685829818248749,\n 0.056142501533031464,\n 0.006379576399922371,\n -0.1950061172246933,\n -0.28118520975112915,\n 0.31208762526512146,\n -0.060860831290483475,\n 0.02731192298233509,\n 0.14595606923103333,\n 0.06124155595898628,\n -0.044674891978502274,\n -0.09155938029289246,\n -0.2257545441389084,\n 0.0530368834733963,\n 0.002701888792216778,\n -0.40541449189186096,\n -0.312217116355896,\n -0.356539785861969,\n 0.023385275155305862,\n 0.28100326657295227,\n -0.3256279528141022,\n 0.028709711506962776,\n 0.02241135947406292,\n -0.04538622498512268,\n -0.01010487787425518,\n -0.5936636328697205,\n 0.13747459650039673,\n 0.245853453874588,\n 0.13675321638584137,\n -0.16797980666160583,\n -0.11941435188055038,\n 0.39964237809181213,\n 0.1063067838549614,\n 0.18416817486286163,\n 0.06919682770967484,\n 0.3738119602203369,\n -0.10636284202337265,\n -0.31931230425834656,\n -0.09645412862300873,\n 0.5673912763595581,\n 0.07200432568788528,\n 0.18212485313415527,\n -0.05457691848278046,\n -0.5045826435089111,\n -0.11266305297613144,\n -0.31425485014915466,\n -0.16098745167255402,\n 0.37615111470222473,\n 0.22913524508476257,\n 0.3338184356689453,\n -0.18093761801719666,\n -0.03869498521089554,\n 0.0018198280595242977,\n -0.12009554356336594,\n -0.23519109189510345,\n -0.27108657360076904,\n -0.05786335840821266,\n 0.30314013361930847,\n -0.9346972107887268,\n -0.4675237834453583,\n 0.3028833270072937,\n -0.00040865596383810043,\n 0.26138272881507874,\n 0.10172441601753235,\n 0.3714792728424072,\n 0.057911042124032974,\n 0.18359775841236115,\n -0.03456694632768631,\n -0.2515850365161896,\n -0.17515426874160767,\n -0.5362042784690857,\n -0.2814197838306427,\n -0.0170593298971653,\n 0.24019519984722137,\n 0.23616644740104675,\n 0.6231298446655273,\n 0.40899306535720825,\n 0.23499144613742828,\n 0.19836953282356262,\n 0.4143349528312683,\n -0.017051495611667633,\n -0.07337985187768936,\n -0.2643645703792572,\n 0.44666972756385803,\n 0.11749041825532913,\n -0.012102803215384483,\n -0.4000745713710785,\n -0.45810940861701965,\n 0.5517691969871521,\n 0.2436363697052002,\n -0.34999528527259827,\n 0.17469623684883118,\n 0.32115069031715393,\n 0.19834670424461365,\n 0.07051128894090652,\n -0.15296678245067596,\n -2.957737684249878,\n 0.1711074560880661,\n -0.1055595874786377,\n -0.309548020362854,\n 0.16633372008800507,\n -0.13041265308856964,\n 0.2267741709947586,\n -0.5334887504577637,\n 0.20397871732711792,\n -0.2272816300392151,\n -0.2880726456642151,\n -0.20045897364616394,\n -0.18724049627780914,\n 0.24034687876701355,\n 0.2664004862308502,\n -0.14382146298885345,\n -0.017928989604115486,\n -0.07821419835090637,\n 0.16415534913539886,\n 0.07911127805709839,\n 0.24632105231285095,\n -0.2770748436450958,\n 0.22230105102062225,\n 0.12287218868732452,\n 0.05490414425730705,\n 1.0982857942581177,\n 0.05168705806136131,\n -0.3066282272338867,\n 0.11602625250816345,\n 0.17669636011123657,\n -0.8280884027481079,\n 0.6169160008430481,\n 0.13009074330329895,\n -0.3648499846458435,\n 0.28310367465019226,\n -0.3291865885257721,\n 0.2976396381855011,\n -0.22511382400989532,\n -0.4204469919204712,\n 0.1182858869433403,\n 0.26599401235580444,\n -0.20502804219722748,\n -0.12024544924497604,\n 0.13306230306625366,\n -0.3444499373435974,\n -0.35274210572242737,\n 0.1520480066537857,\n 0.06397952139377594,\n 0.09367267042398453,\n -0.27834004163742065,\n -0.22589144110679626,\n -0.16561199724674225,\n 0.12005637586116791,\n 0.2766096591949463,\n -0.32868704199790955,\n 0.482494980096817,\n 0.041719019412994385,\n -0.14166571199893951,\n -0.062336377799510956,\n -0.33798062801361084,\n -0.05886907875537872,\n 0.2627002000808716,\n 0.4086419641971588,\n 0.19201233983039856,\n -0.2175564020872116,\n 0.051622215658426285,\n 0.519842267036438,\n -0.05003340169787407,\n 0.359709769487381,\n -0.14722107350826263,\n -0.16947418451309204,\n -0.5080306529998779,\n 0.014484133571386337,\n -0.4225423038005829,\n -0.017873156815767288,\n 0.03346242383122444,\n 0.040871329605579376,\n -0.30020856857299805,\n 0.272532194852829,\n -0.1464311182498932,\n 0.055753193795681,\n 0.12530747056007385,\n 0.725128710269928,\n -0.137175515294075,\n -0.3038008511066437,\n 0.22103251516819,\n 0.2621689736843109,\n -0.12204191088676453,\n -0.040578607469797134,\n -0.030230529606342316,\n 0.037188660353422165,\n -0.23630058765411377,\n -0.051452331244945526,\n -0.930048942565918,\n -0.268356591463089,\n -0.1603212207555771,\n 0.5260984301567078,\n -0.06942857801914215,\n 0.11285966634750366,\n 0.10122573375701904,\n 0.031826797872781754,\n 0.18771955370903015,\n -0.08981524407863617,\n 0.11827267706394196,\n 0.018329907208681107,\n -0.32819613814353943,\n -0.3232589066028595,\n -0.578532874584198,\n 0.3628673255443573,\n -0.5659461617469788,\n -0.06917174905538559,\n 0.0526076965034008,\n 0.06593751907348633,\n 0.04937131702899933,\n 0.18191181123256683,\n -0.11084116995334625,\n 0.07793222367763519,\n 0.17612048983573914,\n -0.36033302545547485,\n -0.11562910676002502,\n -0.29237765073776245,\n -0.10018517076969147,\n -0.21257536113262177,\n -0.14507326483726501,\n 0.11818833649158478,\n 0.2708958387374878,\n 0.13107836246490479,\n 0.24429820477962494,\n -1.6157039403915405,\n -0.10894160717725754,\n 0.20871710777282715,\n -0.44155099987983704,\n 0.23975783586502075,\n -0.04605508968234062,\n 0.20372308790683746,\n 0.003149268217384815,\n -0.10474023222923279,\n 0.00532678235322237,\n 0.25618448853492737,\n -0.3851947486400604,\n 0.2467581331729889,\n 0.5041346549987793,\n 0.10983678698539734,\n 0.08814976364374161,\n 0.13722211122512817,\n -0.028311312198638916,\n -0.35368281602859497,\n 0.20403032004833221,\n -0.07280956208705902,\n 0.16492530703544617,\n 0.5799371600151062,\n -0.270190954208374,\n 0.3351454436779022,\n 0.38111281394958496,\n -0.41894662380218506,\n -0.0182342529296875,\n -0.3918951451778412,\n -0.08583518862724304,\n -0.39542853832244873,\n -0.4580964744091034,\n -0.13336873054504395,\n 0.09308404475450516,\n 0.2512606382369995,\n 0.2608184814453125,\n 0.30949655175209045,\n -0.019882451742887497,\n 0.7803354263305664,\n -0.17513979971408844,\n 0.1772361397743225,\n 0.3186427056789398,\n 0.18001548945903778,\n -0.03268047794699669,\n -0.08315169811248779,\n 0.00924137607216835,\n 0.03664780408143997,\n -0.20986101031303406,\n 0.1449744999408722,\n 0.22915951907634735,\n 0.21609726548194885,\n -0.23318685591220856,\n 0.25801196694374084,\n -0.06220084801316261,\n 0.0553533136844635,\n -0.14571386575698853,\n 0.04593043774366379,\n 0.18119260668754578,\n 0.10494538396596909,\n -0.25033456087112427,\n 0.382578581571579,\n -0.23545359075069427,\n -0.021948503330349922,\n 0.2585808038711548,\n -0.6471232175827026,\n -0.02430759370326996,\n -0.13807417452335358,\n -0.07365550845861435,\n -0.05053454637527466,\n 0.052482567727565765,\n -0.005625150166451931,\n 0.03738013654947281,\n -0.08855990320444107,\n -0.6605835556983948,\n -0.4586350619792938,\n 0.20064738392829895,\n -0.42568281292915344,\n 0.08367233723402023,\n 0.33645203709602356,\n -0.336575984954834,\n 0.028738342225551605,\n -0.11865686625242233,\n 0.15417246520519257,\n 0.09820932149887085,\n 0.0409475602209568,\n 0.23645411431789398,\n 0.36802539229393005,\n -0.3725796937942505,\n -0.11692304164171219,\n -0.1737554669380188,\n -0.11720085889101028,\n 0.21620583534240723,\n 0.2357707917690277,\n 0.23557665944099426,\n -0.02353588305413723,\n 0.19850949943065643,\n 0.44992923736572266,\n -0.5945650339126587,\n 0.2656848728656769,\n -0.11291684955358505,\n -0.39158472418785095,\n -0.18573243916034698,\n 0.06625746935606003,\n 0.08718930929899216,\n -0.41138774156570435,\n 0.04939372092485428,\n -0.821536123752594,\n 0.030317023396492004,\n -0.3193458616733551,\n -0.10680723190307617,\n 0.3764163553714752,\n -0.3018234968185425,\n 0.16042697429656982,\n 0.01435895450413227,\n 0.16805580258369446,\n -0.30985403060913086,\n -0.15556983649730682,\n 0.2897717356681824,\n 0.05234239250421524,\n 0.21647068858146667,\n 0.07096267491579056,\n 0.4645034968852997,\n -0.008435610681772232,\n 0.012846310622990131,\n -0.24375151097774506,\n -0.030630819499492645,\n 0.09102653712034225,\n -0.41511279344558716,\n -0.5317215323448181,\n -0.16891612112522125,\n 0.11269276589155197,\n -0.0014423447428271174,\n 0.15423418581485748,\n -0.44086477160453796,\n -0.3150566816329956,\n 0.174041286110878,\n 0.18633903563022614,\n 0.4739561080932617,\n 0.1131356805562973,\n 0.6161590218544006,\n 0.34170079231262207,\n 0.22978460788726807,\n -0.6118170022964478,\n 0.1749648153781891,\n 0.060958508402109146,\n 0.4301125407218933,\n -0.05183914303779602,\n 0.07537347078323364,\n 0.32056155800819397,\n 0.5402648448944092,\n 0.24491703510284424,\n -0.2787225842475891,\n 0.6211661100387573,\n -0.3643972873687744,\n -0.017601659521460533,\n -0.3438400626182556,\n 0.2738018333911896,\n -0.351580411195755,\n -0.25005486607551575,\n -0.06229732930660248,\n -0.04461894556879997,\n 0.05359388887882233,\n -0.11401964724063873,\n 0.15190553665161133,\n 0.1859133094549179,\n 0.12551656365394592,\n 0.17911773920059204,\n -0.04372337460517883,\n -0.40986061096191406,\n 0.1944233775138855,\n 0.42803141474723816,\n -0.050338149070739746,\n 0.2638523280620575,\n 0.01895439252257347,\n -0.05034246668219566,\n 0.15826573967933655,\n -0.030001133680343628,\n -0.5183209776878357,\n 0.018670469522476196,\n -0.13702720403671265,\n 0.31115785241127014,\n -0.15371131896972656,\n 0.17463164031505585,\n 0.047744739800691605,\n 0.4099534749984741,\n -0.21212714910507202,\n -0.4808841347694397,\n -0.355207622051239,\n 0.1791302114725113,\n 0.42869722843170166,\n 0.23412077128887177,\n -0.43291664123535156,\n -0.30922389030456543,\n -0.23769867420196533,\n -0.2931861877441406,\n 0.08531162142753601,\n 0.20772294700145721,\n 0.09000340104103088,\n 0.17727288603782654,\n 0.18429508805274963,\n 0.5367125272750854,\n -0.14772525429725647,\n -0.2847279906272888,\n 0.13623836636543274,\n -0.17322641611099243,\n -0.10171941667795181,\n -0.0024226903915405273,\n 0.28437095880508423,\n -0.3482246398925781,\n -0.0748179629445076,\n 0.23657630383968353,\n -0.37690815329551697,\n -0.4000077247619629,\n -0.13198071718215942,\n 0.06526083499193192,\n 0.39615169167518616,\n 0.08402561396360397,\n 0.08706784248352051,\n 0.3629182279109955,\n -0.4905054271221161,\n -0.3608960509300232,\n -0.44331178069114685,\n 0.16869762539863586,\n -0.03519041836261749,\n 0.16122400760650635,\n -0.007412710227072239,\n -0.46802178025245667,\n -0.42144346237182617,\n 0.03377588465809822,\n -0.14347532391548157,\n 0.024395838379859924,\n 0.17443197965621948,\n -0.11314707249403,\n -0.042394526302814484,\n 0.5675283670425415,\n 0.10912780463695526,\n -0.4748951196670532,\n 0.20682674646377563,\n -0.26690399646759033,\n -0.2986464202404022,\n -0.05992885306477547,\n -0.5130270719528198,\n -0.4568766951560974,\n -0.06197918578982353,\n 0.06015809625387192,\n 0.17356348037719727,\n 0.24897338449954987,\n 0.5554311275482178,\n 0.4366496205329895,\n 0.08289393037557602,\n -0.21508266031742096,\n -0.1651708036661148,\n -0.035208940505981445,\n -0.18036633729934692,\n 0.03454775735735893,\n -0.901500403881073,\n -0.14531870186328888,\n -0.018534034490585327,\n 0.10174869745969772,\n -0.12423292547464371,\n -0.17492304742336273,\n 0.21370355784893036,\n 0.21529777348041534,\n -0.027524292469024658,\n -0.1300714612007141,\n 0.1782703846693039,\n 0.027623796835541725,\n 0.12965339422225952,\n 0.34105491638183594,\n 0.15800049901008606,\n -0.49611374735832214,\n 0.20376606285572052,\n 0.038713086396455765,\n 0.3071572184562683,\n -0.18520842492580414,\n 0.03966927155852318,\n 0.3143148422241211,\n -0.4471050500869751,\n -0.32097020745277405,\n 0.07165367156267166,\n 0.8541241884231567,\n 0.848072350025177,\n -0.023671504110097885,\n -0.030906280502676964,\n 0.3259667456150055,\n -0.2806186378002167,\n -0.32561594247817993,\n 0.0597691684961319,\n -0.12309270352125168,\n -0.6319326162338257,\n 0.23039382696151733,\n -0.026480861008167267,\n -0.06506645679473877,\n 0.2036881297826767,\n -0.00642804242670536,\n 0.10504823178052902,\n -0.30504775047302246,\n 0.13390977680683136,\n -0.6504233479499817,\n -0.14537158608436584,\n -0.22117282450199127,\n 0.288338840007782,\n -0.023651622235774994,\n -0.05125844478607178,\n 0.02387111820280552,\n 0.33519402146339417,\n 0.16429054737091064,\n -0.34607869386672974,\n 0.027893733233213425,\n -0.22727937996387482,\n -0.49830278754234314,\n 0.09396199136972427,\n 0.17208735644817352,\n 0.4663920998573303,\n -0.7166031002998352,\n -0.03850747272372246,\n -0.051577888429164886,\n -0.702213704586029,\n 0.04697401076555252,\n 0.30318862199783325,\n 0.1403685212135315,\n -0.08899763971567154,\n 0.6156134009361267,\n 0.45656588673591614,\n 0.39406853914260864,\n 0.2864220142364502,\n -0.49159494042396545,\n -0.27389344573020935,\n -0.3010060489177704,\n 0.4057856500148773,\n 0.45982521772384644,\n 0.00603137444704771,\n -0.20800252258777618,\n 0.6310362219810486,\n -0.04288312792778015,\n -0.3158435821533203,\n 0.2583070993423462,\n 0.1550936996936798,\n -0.2293313592672348,\n -0.41409990191459656,\n 0.09554869681596756,\n 0.08464344590902328,\n 0.3012966513633728,\n -0.10076897591352463,\n -0.08925102651119232,\n -0.032201025635004044,\n 0.2579602301120758,\n -0.4027259945869446,\n 0.11564026772975922,\n 0.11447596549987793,\n 0.21709373593330383,\n -0.14100483059883118,\n -0.2930743098258972,\n 0.1773366928100586,\n -0.24810248613357544,\n 0.06788969039916992,\n 0.0935974195599556,\n 0.00889665074646473,\n -0.2113737165927887,\n -0.9652283191680908,\n -0.01861967146396637,\n -0.001847337931394577,\n 0.12034948915243149,\n -0.3268263638019562,\n 0.034590333700180054,\n 0.30013802647590637,\n 0.09122157096862793,\n -0.3124096989631653,\n -0.24109886586666107,\n 0.09678655862808228,\n 0.29167798161506653,\n 0.31508728861808777,\n 0.12106600403785706,\n 0.06399298459291458,\n 0.23348011076450348,\n 0.23235583305358887,\n -0.274996280670166,\n 0.3941359519958496,\n -0.6194086074829102,\n -0.18341071903705597,\n -0.14732810854911804,\n -0.1397816389799118,\n -0.2450566589832306,\n -0.11553701758384705,\n 0.5102383494377136,\n -0.7658162713050842,\n -0.20537278056144714,\n -0.03837438300251961,\n 0.13875442743301392,\n -0.03378293663263321,\n 0.1639721393585205,\n -0.2059709131717682,\n -0.12692858278751373,\n -0.355609267950058,\n 0.13682205975055695,\n 0.1031196191906929,\n 0.23319272696971893,\n 0.1301323026418686,\n 0.4862552583217621,\n 0.24710077047348022,\n 0.6080667972564697,\n -0.06466661393642426,\n -0.2393256425857544,\n 0.033765099942684174,\n -0.0858423113822937,\n 0.10614968836307526,\n 0.46907398104667664,\n 0.07458551228046417,\n -0.1871742606163025,\n -0.4714897871017456,\n -0.10540936887264252,\n 0.24877777695655823,\n -1.1192007064819336,\n 0.5059221386909485,\n 0.01999506913125515,\n -0.2647297978401184,\n 0.004412953741848469,\n -0.07366658747196198,\n -0.06310655921697617,\n -0.2918589115142822,\n -0.0904393270611763,\n -0.2720582187175751,\n 0.10939093679189682,\n 0.10763747990131378,\n -0.3742488920688629,\n 0.03766168653964996,\n -0.5111862421035767,\n 0.3873172998428345,\n -0.05952778458595276,\n 0.19914911687374115,\n 0.1487213671207428,\n 0.42791837453842163,\n -0.05232883244752884,\n 0.16266444325447083,\n 0.3204915225505829,\n -0.4441039264202118,\n -0.1205880343914032,\n -0.18450260162353516,\n -0.3202707767486572,\n -0.3286488652229309,\n -0.1749553233385086,\n 0.28495779633522034,\n 0.16429440677165985,\n 0.08276597410440445,\n -2.4337399005889893,\n 0.0493331253528595,\n -0.0688573345541954,\n -0.1480126827955246,\n 0.08259253948926926,\n -0.37704601883888245,\n 0.4735988974571228,\n -0.0731644555926323,\n 0.09949396550655365,\n -0.24244609475135803,\n 0.005049804225564003,\n -0.591922402381897,\n 0.2968258857727051,\n 0.08564245700836182,\n -0.016743004322052002,\n 0.09820560365915298]"
     },
     "execution_count": 90,
     "metadata": {},
     "output_type": "execute_result"
    }
   ],
   "source": [
    "g_1['genre_embeddings'].iloc[0]"
   ],
   "metadata": {
    "collapsed": false,
    "ExecuteTime": {
     "end_time": "2024-11-15T15:26:48.901918Z",
     "start_time": "2024-11-15T15:26:48.892809Z"
    }
   },
   "id": "3926f5926b3364c3"
  },
  {
   "cell_type": "code",
   "execution_count": 91,
   "outputs": [
    {
     "data": {
      "text/plain": "          id                                           name  \\\n7776  849177  Shadow of the Tomb Raider: Definitive Edition   \n\n                                            description            genres  \\\n7776  In Shadow of the Tomb Raider Definitive Editio...  Action,Adventure   \n\n                                              sentences  \\\n7776  [In Shadow of the Tomb Raider Definitive Editi...   \n\n                                        desc_embeddings  \\\n7776  [tensor(-0.0054), tensor(-0.0033), tensor(-0.0...   \n\n                                       genre_embeddings  \n7776  [-0.0008037984371185303, -0.11213503777980804,...  ",
      "text/html": "<div>\n<style scoped>\n    .dataframe tbody tr th:only-of-type {\n        vertical-align: middle;\n    }\n\n    .dataframe tbody tr th {\n        vertical-align: top;\n    }\n\n    .dataframe thead th {\n        text-align: right;\n    }\n</style>\n<table border=\"1\" class=\"dataframe\">\n  <thead>\n    <tr style=\"text-align: right;\">\n      <th></th>\n      <th>id</th>\n      <th>name</th>\n      <th>description</th>\n      <th>genres</th>\n      <th>sentences</th>\n      <th>desc_embeddings</th>\n      <th>genre_embeddings</th>\n    </tr>\n  </thead>\n  <tbody>\n    <tr>\n      <th>7776</th>\n      <td>849177</td>\n      <td>Shadow of the Tomb Raider: Definitive Edition</td>\n      <td>In Shadow of the Tomb Raider Definitive Editio...</td>\n      <td>Action,Adventure</td>\n      <td>[In Shadow of the Tomb Raider Definitive Editi...</td>\n      <td>[tensor(-0.0054), tensor(-0.0033), tensor(-0.0...</td>\n      <td>[-0.0008037984371185303, -0.11213503777980804,...</td>\n    </tr>\n  </tbody>\n</table>\n</div>"
     },
     "execution_count": 91,
     "metadata": {},
     "output_type": "execute_result"
    }
   ],
   "source": [
    "g_1"
   ],
   "metadata": {
    "collapsed": false,
    "ExecuteTime": {
     "end_time": "2024-11-15T15:26:51.330747Z",
     "start_time": "2024-11-15T15:26:51.304498Z"
    }
   },
   "id": "7d7aa3f8ddaca149"
  },
  {
   "cell_type": "code",
   "execution_count": 33,
   "outputs": [],
   "source": [
    "#Function to calculate similarity based on desc_embeddings and genre_embeddings\n",
    "from sklearn.metrics.pairwise import cosine_similarity\n",
    "def weighted_similarity(game_1: list, game_2:list, desc_weight=0.8):\n",
    "    desc_emb_1 = np.array(game_1[0]).reshape(1, -1)\n",
    "    desc_emb_2 = np.array(game_2[0]).reshape(1, -1)\n",
    "    genre_emb_1 = np.array(game_1[1]).reshape(1, -1)\n",
    "    genre_emb_2 = np.array(game_2[1]).reshape(1, -1)\n",
    "    similarity_desc = cosine_similarity(desc_emb_1, desc_emb_2)\n",
    "    similarity_genre = cosine_similarity(genre_emb_1, genre_emb_2)\n",
    "    return desc_weight * similarity_desc + (1 - desc_weight) * similarity_genre"
   ],
   "metadata": {
    "collapsed": false,
    "ExecuteTime": {
     "end_time": "2024-11-15T15:33:13.857616Z",
     "start_time": "2024-11-15T15:33:13.842368Z"
    }
   },
   "id": "8527f0f5fa830511"
  },
  {
   "cell_type": "code",
   "execution_count": 34,
   "outputs": [],
   "source": [
    "weighted_sim_1_2 = weighted_similarity(g_1[['desc_embeddings', 'genre_embeddings']].values[0].tolist(), g_2[['desc_embeddings', 'genre_embeddings']].values[0].tolist())\n",
    "weighted_sim_1_3 = weighted_similarity(g_1[['desc_embeddings', 'genre_embeddings']].values[0].tolist(), g_3[['desc_embeddings', 'genre_embeddings']].values[0].tolist())"
   ],
   "metadata": {
    "collapsed": false,
    "ExecuteTime": {
     "end_time": "2024-11-15T15:33:14.167674Z",
     "start_time": "2024-11-15T15:33:14.160994Z"
    }
   },
   "id": "f328e8632c716fc0"
  },
  {
   "cell_type": "code",
   "execution_count": 35,
   "outputs": [
    {
     "name": "stdout",
     "output_type": "stream",
     "text": [
      "Similarity between Shadow of the Tomb Raider: Definitive Edition and Rise of the Tomb Raider™: 0.8811571121215823 -> should be high\n",
      "Similarity between Shadow of the Tomb Raider: Definitive Edition and TD Worlds: 0.6451762764931596 -> should be low\n",
      "Genres of game 1 Action,Adventure\n",
      "Genres of game 2 Action,Adventure\n",
      "Genres of game 3 Indie,Strategy\n"
     ]
    }
   ],
   "source": [
    "print(f\"Similarity between {g_1['name'].values[0]} and {g_2['name'].values[0]}: {weighted_sim_1_2[0][0]} -> should be high\")\n",
    "print(f\"Similarity between {g_1['name'].values[0]} and {g_3['name'].values[0]}: {weighted_sim_1_3[0][0]} -> should be low\")\n",
    "print(f\"Genres of game 1 {g_1['genres'].values[0]}\")\n",
    "print(f\"Genres of game 2 {g_2['genres'].values[0]}\")\n",
    "print(f\"Genres of game 3 {g_3['genres'].values[0]}\")"
   ],
   "metadata": {
    "collapsed": false,
    "ExecuteTime": {
     "end_time": "2024-11-15T15:33:14.846934Z",
     "start_time": "2024-11-15T15:33:14.843407Z"
    }
   },
   "id": "380237127844fb6c"
  },
  {
   "cell_type": "markdown",
   "source": [
    "## Experiment 3: Similarity based on description and genres (concatenated approach)"
   ],
   "metadata": {
    "collapsed": false
   },
   "id": "590feff4c756e312"
  },
  {
   "cell_type": "code",
   "execution_count": 36,
   "outputs": [
    {
     "data": {
      "text/plain": "            id                    name  \\\n0        20200        Galactic Bowling   \n1       655370            Train Bandit   \n2      1732930            Jolt Project   \n3      1355720                Henosis™   \n4      1139950   Two Weeks in Painland   \n...        ...                     ...   \n97405  3080940  Femdom Game World: Mom   \n97406  2593970             Blocky Farm   \n97407  3137150    Infiltrate & Extract   \n97408  3124670       Escape The Garage   \n97409  3054200              Lober Lobe   \n\n                                             description  \\\n0      Galactic Bowling is an exaggerated and stylize...   \n1      THE LAW!! Looks to be a showdown atop a train....   \n2      Jolt Project: The army now has a new robotics ...   \n3      HENOSIS™ is a mysterious 2D Platform Puzzler w...   \n4      ABOUT THE GAME Play as a hacker who has arrang...   \n...                                                  ...   \n97405  . Femdom Game World - is a fascinating series ...   \n97406  Enter the charming world of Blocky Farm where ...   \n97407  Mission brief: You are deployed to a heavily g...   \n97408  Welcome to Escape The Garage, the thrilling es...   \n97409  Scan Brain Lobes Organize &amp; clear dangerou...   \n\n                                genres  \\\n0                  Casual,Indie,Sports   \n1                         Action,Indie   \n2      Action,Adventure,Indie,Strategy   \n3               Adventure,Casual,Indie   \n4                      Adventure,Indie   \n...                                ...   \n97405                           Casual   \n97406       Casual,Simulation,Strategy   \n97407            Strategy,Free To Play   \n97408           Adventure,Casual,Indie   \n97409              Action,Casual,Indie   \n\n                                               sentences  \n0      [Galactic Bowling is an exaggerated and styliz...  \n1      [THE LAW!!, Looks to be a showdown atop a trai...  \n2      [Jolt Project: The army now has a new robotics...  \n3      [HENOSIS™ is a mysterious 2D Platform Puzzler ...  \n4      [ABOUT THE GAME Play as a hacker who has arran...  \n...                                                  ...  \n97405  [., Femdom Game World - is a fascinating serie...  \n97406  [Enter the charming world of Blocky Farm where...  \n97407  [Mission brief: You are deployed to a heavily ...  \n97408  [Welcome to Escape The Garage, the thrilling e...  \n97409  [Scan Brain Lobes Organize &amp; clear dangero...  \n\n[87945 rows x 5 columns]",
      "text/html": "<div>\n<style scoped>\n    .dataframe tbody tr th:only-of-type {\n        vertical-align: middle;\n    }\n\n    .dataframe tbody tr th {\n        vertical-align: top;\n    }\n\n    .dataframe thead th {\n        text-align: right;\n    }\n</style>\n<table border=\"1\" class=\"dataframe\">\n  <thead>\n    <tr style=\"text-align: right;\">\n      <th></th>\n      <th>id</th>\n      <th>name</th>\n      <th>description</th>\n      <th>genres</th>\n      <th>sentences</th>\n    </tr>\n  </thead>\n  <tbody>\n    <tr>\n      <th>0</th>\n      <td>20200</td>\n      <td>Galactic Bowling</td>\n      <td>Galactic Bowling is an exaggerated and stylize...</td>\n      <td>Casual,Indie,Sports</td>\n      <td>[Galactic Bowling is an exaggerated and styliz...</td>\n    </tr>\n    <tr>\n      <th>1</th>\n      <td>655370</td>\n      <td>Train Bandit</td>\n      <td>THE LAW!! Looks to be a showdown atop a train....</td>\n      <td>Action,Indie</td>\n      <td>[THE LAW!!, Looks to be a showdown atop a trai...</td>\n    </tr>\n    <tr>\n      <th>2</th>\n      <td>1732930</td>\n      <td>Jolt Project</td>\n      <td>Jolt Project: The army now has a new robotics ...</td>\n      <td>Action,Adventure,Indie,Strategy</td>\n      <td>[Jolt Project: The army now has a new robotics...</td>\n    </tr>\n    <tr>\n      <th>3</th>\n      <td>1355720</td>\n      <td>Henosis™</td>\n      <td>HENOSIS™ is a mysterious 2D Platform Puzzler w...</td>\n      <td>Adventure,Casual,Indie</td>\n      <td>[HENOSIS™ is a mysterious 2D Platform Puzzler ...</td>\n    </tr>\n    <tr>\n      <th>4</th>\n      <td>1139950</td>\n      <td>Two Weeks in Painland</td>\n      <td>ABOUT THE GAME Play as a hacker who has arrang...</td>\n      <td>Adventure,Indie</td>\n      <td>[ABOUT THE GAME Play as a hacker who has arran...</td>\n    </tr>\n    <tr>\n      <th>...</th>\n      <td>...</td>\n      <td>...</td>\n      <td>...</td>\n      <td>...</td>\n      <td>...</td>\n    </tr>\n    <tr>\n      <th>97405</th>\n      <td>3080940</td>\n      <td>Femdom Game World: Mom</td>\n      <td>. Femdom Game World - is a fascinating series ...</td>\n      <td>Casual</td>\n      <td>[., Femdom Game World - is a fascinating serie...</td>\n    </tr>\n    <tr>\n      <th>97406</th>\n      <td>2593970</td>\n      <td>Blocky Farm</td>\n      <td>Enter the charming world of Blocky Farm where ...</td>\n      <td>Casual,Simulation,Strategy</td>\n      <td>[Enter the charming world of Blocky Farm where...</td>\n    </tr>\n    <tr>\n      <th>97407</th>\n      <td>3137150</td>\n      <td>Infiltrate &amp; Extract</td>\n      <td>Mission brief: You are deployed to a heavily g...</td>\n      <td>Strategy,Free To Play</td>\n      <td>[Mission brief: You are deployed to a heavily ...</td>\n    </tr>\n    <tr>\n      <th>97408</th>\n      <td>3124670</td>\n      <td>Escape The Garage</td>\n      <td>Welcome to Escape The Garage, the thrilling es...</td>\n      <td>Adventure,Casual,Indie</td>\n      <td>[Welcome to Escape The Garage, the thrilling e...</td>\n    </tr>\n    <tr>\n      <th>97409</th>\n      <td>3054200</td>\n      <td>Lober Lobe</td>\n      <td>Scan Brain Lobes Organize &amp;amp; clear dangerou...</td>\n      <td>Action,Casual,Indie</td>\n      <td>[Scan Brain Lobes Organize &amp;amp; clear dangero...</td>\n    </tr>\n  </tbody>\n</table>\n<p>87945 rows × 5 columns</p>\n</div>"
     },
     "execution_count": 36,
     "metadata": {},
     "output_type": "execute_result"
    }
   ],
   "source": [
    "games_3 = process_games_data(SOURCE)\n",
    "games_3"
   ],
   "metadata": {
    "collapsed": false,
    "ExecuteTime": {
     "end_time": "2024-11-15T15:34:16.719472Z",
     "start_time": "2024-11-15T15:34:07.045023Z"
    }
   },
   "id": "2ca29cd6ee0d2505"
  },
  {
   "cell_type": "code",
   "execution_count": null,
   "outputs": [],
   "source": [
    "games_3['desc_genres'] = games_3['genres'] + '<SEP>.' games_3['description']"
   ],
   "metadata": {
    "collapsed": false,
    "is_executing": true
   },
   "id": "15ef51adb7be6b7f"
  },
  {
   "cell_type": "code",
   "execution_count": 39,
   "outputs": [
    {
     "ename": "ValueError",
     "evalue": "setting an array element with a sequence. The requested array has an inhomogeneous shape after 1 dimensions. The detected shape was (2,) + inhomogeneous part.",
     "output_type": "error",
     "traceback": [
      "\u001B[0;31m---------------------------------------------------------------------------\u001B[0m",
      "\u001B[0;31mValueError\u001B[0m                                Traceback (most recent call last)",
      "Cell \u001B[0;32mIn[39], line 1\u001B[0m\n\u001B[0;32m----> 1\u001B[0m games_3[\u001B[38;5;124m'\u001B[39m\u001B[38;5;124mdesc_genres\u001B[39m\u001B[38;5;124m'\u001B[39m] \u001B[38;5;241m=\u001B[39m [games_3[\u001B[38;5;124m'\u001B[39m\u001B[38;5;124mgenres\u001B[39m\u001B[38;5;124m'\u001B[39m]] \u001B[38;5;241m+\u001B[39m [\u001B[38;5;124m'\u001B[39m\u001B[38;5;124m<SEP>\u001B[39m\u001B[38;5;124m'\u001B[39m] \u001B[38;5;241m+\u001B[39m games_3[\u001B[38;5;124m'\u001B[39m\u001B[38;5;124msentences\u001B[39m\u001B[38;5;124m'\u001B[39m]\n\u001B[1;32m      2\u001B[0m games_3\n",
      "File \u001B[0;32m~/anaconda3/lib/python3.11/site-packages/pandas/core/ops/common.py:76\u001B[0m, in \u001B[0;36m_unpack_zerodim_and_defer.<locals>.new_method\u001B[0;34m(self, other)\u001B[0m\n\u001B[1;32m     72\u001B[0m             \u001B[38;5;28;01mreturn\u001B[39;00m \u001B[38;5;28mNotImplemented\u001B[39m\n\u001B[1;32m     74\u001B[0m other \u001B[38;5;241m=\u001B[39m item_from_zerodim(other)\n\u001B[0;32m---> 76\u001B[0m \u001B[38;5;28;01mreturn\u001B[39;00m method(\u001B[38;5;28mself\u001B[39m, other)\n",
      "File \u001B[0;32m~/anaconda3/lib/python3.11/site-packages/pandas/core/arraylike.py:190\u001B[0m, in \u001B[0;36mOpsMixin.__radd__\u001B[0;34m(self, other)\u001B[0m\n\u001B[1;32m    188\u001B[0m \u001B[38;5;129m@unpack_zerodim_and_defer\u001B[39m(\u001B[38;5;124m\"\u001B[39m\u001B[38;5;124m__radd__\u001B[39m\u001B[38;5;124m\"\u001B[39m)\n\u001B[1;32m    189\u001B[0m \u001B[38;5;28;01mdef\u001B[39;00m \u001B[38;5;21m__radd__\u001B[39m(\u001B[38;5;28mself\u001B[39m, other):\n\u001B[0;32m--> 190\u001B[0m     \u001B[38;5;28;01mreturn\u001B[39;00m \u001B[38;5;28mself\u001B[39m\u001B[38;5;241m.\u001B[39m_arith_method(other, roperator\u001B[38;5;241m.\u001B[39mradd)\n",
      "File \u001B[0;32m~/anaconda3/lib/python3.11/site-packages/pandas/core/series.py:6135\u001B[0m, in \u001B[0;36mSeries._arith_method\u001B[0;34m(self, other, op)\u001B[0m\n\u001B[1;32m   6133\u001B[0m \u001B[38;5;28;01mdef\u001B[39;00m \u001B[38;5;21m_arith_method\u001B[39m(\u001B[38;5;28mself\u001B[39m, other, op):\n\u001B[1;32m   6134\u001B[0m     \u001B[38;5;28mself\u001B[39m, other \u001B[38;5;241m=\u001B[39m \u001B[38;5;28mself\u001B[39m\u001B[38;5;241m.\u001B[39m_align_for_op(other)\n\u001B[0;32m-> 6135\u001B[0m     \u001B[38;5;28;01mreturn\u001B[39;00m base\u001B[38;5;241m.\u001B[39mIndexOpsMixin\u001B[38;5;241m.\u001B[39m_arith_method(\u001B[38;5;28mself\u001B[39m, other, op)\n",
      "File \u001B[0;32m~/anaconda3/lib/python3.11/site-packages/pandas/core/base.py:1382\u001B[0m, in \u001B[0;36mIndexOpsMixin._arith_method\u001B[0;34m(self, other, op)\u001B[0m\n\u001B[1;32m   1379\u001B[0m     rvalues \u001B[38;5;241m=\u001B[39m np\u001B[38;5;241m.\u001B[39marange(rvalues\u001B[38;5;241m.\u001B[39mstart, rvalues\u001B[38;5;241m.\u001B[39mstop, rvalues\u001B[38;5;241m.\u001B[39mstep)\n\u001B[1;32m   1381\u001B[0m \u001B[38;5;28;01mwith\u001B[39;00m np\u001B[38;5;241m.\u001B[39merrstate(\u001B[38;5;28mall\u001B[39m\u001B[38;5;241m=\u001B[39m\u001B[38;5;124m\"\u001B[39m\u001B[38;5;124mignore\u001B[39m\u001B[38;5;124m\"\u001B[39m):\n\u001B[0;32m-> 1382\u001B[0m     result \u001B[38;5;241m=\u001B[39m ops\u001B[38;5;241m.\u001B[39marithmetic_op(lvalues, rvalues, op)\n\u001B[1;32m   1384\u001B[0m \u001B[38;5;28;01mreturn\u001B[39;00m \u001B[38;5;28mself\u001B[39m\u001B[38;5;241m.\u001B[39m_construct_result(result, name\u001B[38;5;241m=\u001B[39mres_name)\n",
      "File \u001B[0;32m~/anaconda3/lib/python3.11/site-packages/pandas/core/ops/array_ops.py:283\u001B[0m, in \u001B[0;36marithmetic_op\u001B[0;34m(left, right, op)\u001B[0m\n\u001B[1;32m    279\u001B[0m     _bool_arith_check(op, left, right)  \u001B[38;5;66;03m# type: ignore[arg-type]\u001B[39;00m\n\u001B[1;32m    281\u001B[0m     \u001B[38;5;66;03m# error: Argument 1 to \"_na_arithmetic_op\" has incompatible type\u001B[39;00m\n\u001B[1;32m    282\u001B[0m     \u001B[38;5;66;03m# \"Union[ExtensionArray, ndarray[Any, Any]]\"; expected \"ndarray[Any, Any]\"\u001B[39;00m\n\u001B[0;32m--> 283\u001B[0m     res_values \u001B[38;5;241m=\u001B[39m _na_arithmetic_op(left, right, op)  \u001B[38;5;66;03m# type: ignore[arg-type]\u001B[39;00m\n\u001B[1;32m    285\u001B[0m \u001B[38;5;28;01mreturn\u001B[39;00m res_values\n",
      "File \u001B[0;32m~/anaconda3/lib/python3.11/site-packages/pandas/core/ops/array_ops.py:218\u001B[0m, in \u001B[0;36m_na_arithmetic_op\u001B[0;34m(left, right, op, is_cmp)\u001B[0m\n\u001B[1;32m    215\u001B[0m     func \u001B[38;5;241m=\u001B[39m partial(expressions\u001B[38;5;241m.\u001B[39mevaluate, op)\n\u001B[1;32m    217\u001B[0m \u001B[38;5;28;01mtry\u001B[39;00m:\n\u001B[0;32m--> 218\u001B[0m     result \u001B[38;5;241m=\u001B[39m func(left, right)\n\u001B[1;32m    219\u001B[0m \u001B[38;5;28;01mexcept\u001B[39;00m \u001B[38;5;167;01mTypeError\u001B[39;00m:\n\u001B[1;32m    220\u001B[0m     \u001B[38;5;28;01mif\u001B[39;00m \u001B[38;5;129;01mnot\u001B[39;00m is_cmp \u001B[38;5;129;01mand\u001B[39;00m (\n\u001B[1;32m    221\u001B[0m         left\u001B[38;5;241m.\u001B[39mdtype \u001B[38;5;241m==\u001B[39m \u001B[38;5;28mobject\u001B[39m \u001B[38;5;129;01mor\u001B[39;00m \u001B[38;5;28mgetattr\u001B[39m(right, \u001B[38;5;124m\"\u001B[39m\u001B[38;5;124mdtype\u001B[39m\u001B[38;5;124m\"\u001B[39m, \u001B[38;5;28;01mNone\u001B[39;00m) \u001B[38;5;241m==\u001B[39m \u001B[38;5;28mobject\u001B[39m\n\u001B[1;32m    222\u001B[0m     ):\n\u001B[0;32m   (...)\u001B[0m\n\u001B[1;32m    225\u001B[0m         \u001B[38;5;66;03m# Don't do this for comparisons, as that will handle complex numbers\u001B[39;00m\n\u001B[1;32m    226\u001B[0m         \u001B[38;5;66;03m#  incorrectly, see GH#32047\u001B[39;00m\n",
      "File \u001B[0;32m~/anaconda3/lib/python3.11/site-packages/pandas/core/computation/expressions.py:242\u001B[0m, in \u001B[0;36mevaluate\u001B[0;34m(op, a, b, use_numexpr)\u001B[0m\n\u001B[1;32m    239\u001B[0m \u001B[38;5;28;01mif\u001B[39;00m op_str \u001B[38;5;129;01mis\u001B[39;00m \u001B[38;5;129;01mnot\u001B[39;00m \u001B[38;5;28;01mNone\u001B[39;00m:\n\u001B[1;32m    240\u001B[0m     \u001B[38;5;28;01mif\u001B[39;00m use_numexpr:\n\u001B[1;32m    241\u001B[0m         \u001B[38;5;66;03m# error: \"None\" not callable\u001B[39;00m\n\u001B[0;32m--> 242\u001B[0m         \u001B[38;5;28;01mreturn\u001B[39;00m _evaluate(op, op_str, a, b)  \u001B[38;5;66;03m# type: ignore[misc]\u001B[39;00m\n\u001B[1;32m    243\u001B[0m \u001B[38;5;28;01mreturn\u001B[39;00m _evaluate_standard(op, op_str, a, b)\n",
      "File \u001B[0;32m~/anaconda3/lib/python3.11/site-packages/pandas/core/computation/expressions.py:131\u001B[0m, in \u001B[0;36m_evaluate_numexpr\u001B[0;34m(op, op_str, a, b)\u001B[0m\n\u001B[1;32m    128\u001B[0m     _store_test_result(result \u001B[38;5;129;01mis\u001B[39;00m \u001B[38;5;129;01mnot\u001B[39;00m \u001B[38;5;28;01mNone\u001B[39;00m)\n\u001B[1;32m    130\u001B[0m \u001B[38;5;28;01mif\u001B[39;00m result \u001B[38;5;129;01mis\u001B[39;00m \u001B[38;5;28;01mNone\u001B[39;00m:\n\u001B[0;32m--> 131\u001B[0m     result \u001B[38;5;241m=\u001B[39m _evaluate_standard(op, op_str, a, b)\n\u001B[1;32m    133\u001B[0m \u001B[38;5;28;01mreturn\u001B[39;00m result\n",
      "File \u001B[0;32m~/anaconda3/lib/python3.11/site-packages/pandas/core/computation/expressions.py:73\u001B[0m, in \u001B[0;36m_evaluate_standard\u001B[0;34m(op, op_str, a, b)\u001B[0m\n\u001B[1;32m     71\u001B[0m \u001B[38;5;28;01mif\u001B[39;00m _TEST_MODE:\n\u001B[1;32m     72\u001B[0m     _store_test_result(\u001B[38;5;28;01mFalse\u001B[39;00m)\n\u001B[0;32m---> 73\u001B[0m \u001B[38;5;28;01mreturn\u001B[39;00m op(a, b)\n",
      "File \u001B[0;32m~/anaconda3/lib/python3.11/site-packages/pandas/core/roperator.py:11\u001B[0m, in \u001B[0;36mradd\u001B[0;34m(left, right)\u001B[0m\n\u001B[1;32m     10\u001B[0m \u001B[38;5;28;01mdef\u001B[39;00m \u001B[38;5;21mradd\u001B[39m(left, right):\n\u001B[0;32m---> 11\u001B[0m     \u001B[38;5;28;01mreturn\u001B[39;00m right \u001B[38;5;241m+\u001B[39m left\n",
      "\u001B[0;31mValueError\u001B[0m: setting an array element with a sequence. The requested array has an inhomogeneous shape after 1 dimensions. The detected shape was (2,) + inhomogeneous part."
     ]
    }
   ],
   "source": [
    "games_3['desc_genres_embeddings'] = games_3['desc_genres'].apply(string_to_sentences)"
   ],
   "metadata": {
    "collapsed": false,
    "ExecuteTime": {
     "end_time": "2024-11-15T15:38:16.323217Z",
     "start_time": "2024-11-15T15:38:16.245646Z"
    }
   },
   "id": "45d5c295c6b2ca1b"
  },
  {
   "cell_type": "code",
   "execution_count": null,
   "outputs": [],
   "source": [
    "games_3"
   ],
   "metadata": {
    "collapsed": false,
    "ExecuteTime": {
     "end_time": "2024-11-15T15:38:16.324203Z",
     "start_time": "2024-11-15T15:38:16.323441Z"
    }
   },
   "id": "30ea216322563baf"
  },
  {
   "cell_type": "code",
   "execution_count": 38,
   "outputs": [
    {
     "name": "stderr",
     "output_type": "stream",
     "text": [
      "/Users/aceto/anaconda3/lib/python3.11/site-packages/transformers/tokenization_utils_base.py:1601: FutureWarning: `clean_up_tokenization_spaces` was not set. It will be set to `True` by default. This behavior will be depracted in transformers v4.45, and will be then set to `False` by default. For more details check this issue: https://github.com/huggingface/transformers/issues/31884\n",
      "  warnings.warn(\n"
     ]
    },
    {
     "ename": "AttributeError",
     "evalue": "'MPNetModel' object has no attribute 'encode'",
     "output_type": "error",
     "traceback": [
      "\u001B[0;31m---------------------------------------------------------------------------\u001B[0m",
      "\u001B[0;31mAttributeError\u001B[0m                            Traceback (most recent call last)",
      "Cell \u001B[0;32mIn[38], line 7\u001B[0m\n\u001B[1;32m      5\u001B[0m g_2 \u001B[38;5;241m=\u001B[39m games_3[games_3[\u001B[38;5;124m\"\u001B[39m\u001B[38;5;124mid\u001B[39m\u001B[38;5;124m\"\u001B[39m] \u001B[38;5;241m==\u001B[39m \u001B[38;5;241m391220\u001B[39m]\n\u001B[1;32m      6\u001B[0m g_3 \u001B[38;5;241m=\u001B[39m games_3[games_3[\u001B[38;5;124m\"\u001B[39m\u001B[38;5;124mid\u001B[39m\u001B[38;5;124m\"\u001B[39m] \u001B[38;5;241m==\u001B[39m \u001B[38;5;241m1659180\u001B[39m]\n\u001B[0;32m----> 7\u001B[0m g_1[\u001B[38;5;124m'\u001B[39m\u001B[38;5;124mdesc_genres_embeddings\u001B[39m\u001B[38;5;124m'\u001B[39m] \u001B[38;5;241m=\u001B[39m [model\u001B[38;5;241m.\u001B[39mencode(g_1[\u001B[38;5;124m'\u001B[39m\u001B[38;5;124mdesc_genres\u001B[39m\u001B[38;5;124m'\u001B[39m]\u001B[38;5;241m.\u001B[39miloc[\u001B[38;5;241m0\u001B[39m])\u001B[38;5;241m.\u001B[39mtolist()]\n\u001B[1;32m      8\u001B[0m g_2[\u001B[38;5;124m'\u001B[39m\u001B[38;5;124mdesc_genres_embeddings\u001B[39m\u001B[38;5;124m'\u001B[39m] \u001B[38;5;241m=\u001B[39m [model\u001B[38;5;241m.\u001B[39mencode(g_2[\u001B[38;5;124m'\u001B[39m\u001B[38;5;124mdesc_genres\u001B[39m\u001B[38;5;124m'\u001B[39m]\u001B[38;5;241m.\u001B[39miloc[\u001B[38;5;241m0\u001B[39m])\u001B[38;5;241m.\u001B[39mtolist()]\n\u001B[1;32m      9\u001B[0m g_3[\u001B[38;5;124m'\u001B[39m\u001B[38;5;124mdesc_genres_embeddings\u001B[39m\u001B[38;5;124m'\u001B[39m] \u001B[38;5;241m=\u001B[39m [model\u001B[38;5;241m.\u001B[39mencode(g_3[\u001B[38;5;124m'\u001B[39m\u001B[38;5;124mdesc_genres\u001B[39m\u001B[38;5;124m'\u001B[39m]\u001B[38;5;241m.\u001B[39miloc[\u001B[38;5;241m0\u001B[39m])\u001B[38;5;241m.\u001B[39mtolist()]\n",
      "File \u001B[0;32m~/anaconda3/lib/python3.11/site-packages/torch/nn/modules/module.py:1729\u001B[0m, in \u001B[0;36mModule.__getattr__\u001B[0;34m(self, name)\u001B[0m\n\u001B[1;32m   1727\u001B[0m     \u001B[38;5;28;01mif\u001B[39;00m name \u001B[38;5;129;01min\u001B[39;00m modules:\n\u001B[1;32m   1728\u001B[0m         \u001B[38;5;28;01mreturn\u001B[39;00m modules[name]\n\u001B[0;32m-> 1729\u001B[0m \u001B[38;5;28;01mraise\u001B[39;00m \u001B[38;5;167;01mAttributeError\u001B[39;00m(\u001B[38;5;124mf\u001B[39m\u001B[38;5;124m\"\u001B[39m\u001B[38;5;124m'\u001B[39m\u001B[38;5;132;01m{\u001B[39;00m\u001B[38;5;28mtype\u001B[39m(\u001B[38;5;28mself\u001B[39m)\u001B[38;5;241m.\u001B[39m\u001B[38;5;18m__name__\u001B[39m\u001B[38;5;132;01m}\u001B[39;00m\u001B[38;5;124m'\u001B[39m\u001B[38;5;124m object has no attribute \u001B[39m\u001B[38;5;124m'\u001B[39m\u001B[38;5;132;01m{\u001B[39;00mname\u001B[38;5;132;01m}\u001B[39;00m\u001B[38;5;124m'\u001B[39m\u001B[38;5;124m\"\u001B[39m)\n",
      "\u001B[0;31mAttributeError\u001B[0m: 'MPNetModel' object has no attribute 'encode'"
     ]
    }
   ],
   "source": [
    "#Embed desc_genres with sbert\n",
    "tokenizer = AutoTokenizer.from_pretrained('sentence-transformers/all-mpnet-base-v2')\n",
    "model = AutoModel.from_pretrained('sentence-transformers/all-mpnet-base-v2')\n",
    "g_1 = games_3[games_3[\"id\"] == 849177]\n",
    "g_2 = games_3[games_3[\"id\"] == 391220]\n",
    "g_3 = games_3[games_3[\"id\"] == 1659180]\n",
    "g_1['desc_genres_embeddings'] = [get_sentence_embeddings(g_1['desc_genres'].values[0], tokenizer, model)]\n",
    "g_2['desc_genres_embeddings'] = [get_sentence_embeddings(g_2['desc_genres'].values[0], tokenizer, model)]\n",
    "g_3['desc_genres_embeddings'] = [get_sentence_embeddings(g_3['desc_genres'].values[0], tokenizer, model)]\n",
    "g_1"
   ],
   "metadata": {
    "collapsed": false,
    "ExecuteTime": {
     "end_time": "2024-11-15T15:36:15.253950Z",
     "start_time": "2024-11-15T15:36:14.923985Z"
    }
   },
   "id": "1437c852ce9e0072"
  },
  {
   "cell_type": "code",
   "execution_count": 26,
   "outputs": [
    {
     "name": "stdout",
     "output_type": "stream",
     "text": [
      "Similarity between Shadow of the Tomb Raider: Definitive Edition and Rise of the Tomb Raider™: 0.8586603999137878 -> should be high\n",
      "Similarity between Shadow of the Tomb Raider: Definitive Edition and TD Worlds: 0.35067635774612427 -> should be low\n"
     ]
    }
   ],
   "source": [
    "desc_gen_sim_1_2 = model.similarity(g_1['desc_genres_embeddings'].values[0], g_2['desc_genres_embeddings'].values[0])\n",
    "desc_gen_sim_1_3 = model.similarity(g_1['desc_genres_embeddings'].values[0], g_3['desc_genres_embeddings'].values[0])\n",
    "print(f\"Similarity between {g_1['name'].values[0]} and {g_2['name'].values[0]}: {desc_gen_sim_1_2[0][0]} -> should be high\")\n",
    "print(f\"Similarity between {g_1['name'].values[0]} and {g_3['name'].values[0]}: {desc_gen_sim_1_3[0][0]} -> should be low\")"
   ],
   "metadata": {
    "collapsed": false,
    "ExecuteTime": {
     "end_time": "2024-10-27T17:21:45.387006Z",
     "start_time": "2024-10-27T17:21:45.383324Z"
    }
   },
   "id": "183532b3ee143f97"
  },
  {
   "cell_type": "markdown",
   "source": [
    "## Compare all three approaches"
   ],
   "metadata": {
    "collapsed": false
   },
   "id": "59d3a3e72d3108e"
  },
  {
   "cell_type": "code",
   "execution_count": 40,
   "outputs": [
    {
     "data": {
      "text/plain": "<Figure size 640x480 with 1 Axes>",
      "image/png": "[encoded data removed]"
     },
     "metadata": {},
     "output_type": "display_data"
    }
   ],
   "source": [
    "similarities = {\n",
    "    'description': [desc_sim_1_2[0][0], desc_sim_1_3[0][0]],\n",
    "    'weighted': [weighted_sim_1_2[0][0], weighted_sim_1_3[0][0]],\n",
    "    'desc_genres': [desc_gen_sim_1_2[0][0], desc_gen_sim_1_3[0][0]]\n",
    "}\n",
    "\n",
    "fig, ax = plt.subplots()\n",
    "\n",
    "for i, (name, values) in enumerate(similarities.items()):\n",
    "    ax.scatter(i, values[0], color='blue', label='tomb_tomb' if i == 0 else \"\")\n",
    "    ax.scatter(i, values[1], color='orange', label='tomb_td' if i == 0 else \"\")\n",
    "\n",
    "# Set x-ticks and labels\n",
    "ax.set_xticks(range(len(similarities)))\n",
    "ax.set_xticklabels(similarities.keys())\n",
    "ax.set_ylim(0, 1)\n",
    "ax.legend(bbox_to_anchor=(1.01, 1))\n",
    "plt.show()"
   ],
   "metadata": {
    "collapsed": false,
    "ExecuteTime": {
     "end_time": "2024-10-27T17:36:11.472691Z",
     "start_time": "2024-10-27T17:36:11.413486Z"
    }
   },
   "id": "8e7da4a5b8391653"
  },
  {
   "cell_type": "code",
   "execution_count": null,
   "outputs": [],
   "source": [],
   "metadata": {
    "collapsed": false
   },
   "id": "6007bd7d74823ab0"
  }
 ],
 "metadata": {
  "kernelspec": {
   "display_name": "Python 3",
   "language": "python",
   "name": "python3"
  },
  "language_info": {
   "codemirror_mode": {
    "name": "ipython",
    "version": 2
   },
   "file_extension": ".py",
   "mimetype": "text/x-python",
   "name": "python",
   "nbconvert_exporter": "python",
   "pygments_lexer": "ipython2",
   "version": "2.7.6"
  }
 },
 "nbformat": 4,
 "nbformat_minor": 5
}
