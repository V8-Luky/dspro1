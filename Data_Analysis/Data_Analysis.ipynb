{
 "cells": [
  {
   "cell_type": "code",
   "execution_count": 2,
   "id": "0f9baf6a-00d9-43a0-8f45-187305cc729d",
   "metadata": {},
   "outputs": [
    {
     "data": {
      "text/plain": [
       "Index(['AppID', 'Name', 'Release date', 'Estimated owners', 'Peak CCU',\n",
       "       'Required age', 'Price', 'Discount', 'DLC count', 'About the game',\n",
       "       'Supported languages', 'Full audio languages', 'Reviews',\n",
       "       'Header image', 'Website', 'Support url', 'Support email', 'Windows',\n",
       "       'Mac', 'Linux', 'Metacritic score', 'Metacritic url', 'User score',\n",
       "       'Positive', 'Negative', 'Score rank', 'Achievements', 'Recommendations',\n",
       "       'Notes', 'Average playtime forever', 'Average playtime two weeks',\n",
       "       'Median playtime forever', 'Median playtime two weeks', 'Developers',\n",
       "       'Publishers', 'Categories', 'Genres', 'Tags', 'Screenshots', 'Movies'],\n",
       "      dtype='object')"
      ]
     },
     "execution_count": 2,
     "metadata": {},
     "output_type": "execute_result"
    }
   ],
   "source": [
    "import pandas as pd\n",
    "\n",
    "df = pd.read_csv('Data_Games/games.csv')\n",
    "\n",
    "df.columns"
   ]
  },
  {
   "cell_type": "code",
   "execution_count": 7,
   "id": "39bf67b9-9d54-482f-9dea-174cc083adc0",
   "metadata": {},
   "outputs": [
    {
     "name": "stdout",
     "output_type": "stream",
     "text": [
      "Specified columns removed successfully.\n"
     ]
    }
   ],
   "source": [
    "# Load your CSV file into a DataFrame\n",
    "file_path = 'Data_Games/games.csv'\n",
    "df = pd.read_csv(file_path)\n",
    "\n",
    "# List of columns to remove\n",
    "columns_to_remove = ['Discount', 'Full audio languages', 'Header image', 'Website', 'Support url', \n",
    "                     'Support email', 'Windows', 'Mac', 'Linux', 'Metacritic url', \n",
    "                     'Average playtime forever', 'Average playtime two weeks', \n",
    "                     'Median playtime forever', 'Median playtime two weeks', 'Screenshots', 'Movies']\n",
    "\n",
    "# Drop the specified columns\n",
    "df = df.drop(columns=columns_to_remove)\n",
    "\n",
    "# Save the cleaned DataFrame to a new CSV file\n",
    "df.to_csv('Data_Games/data_after_removing_useless_columns.csv', index=False)\n",
    "\n",
    "print(\"Specified columns removed successfully.\")"
   ]
  },
  {
   "cell_type": "code",
   "execution_count": 13,
   "id": "1acb2a83-0dca-4e95-b68f-d3f83b936a5d",
   "metadata": {},
   "outputs": [
    {
     "name": "stdout",
     "output_type": "stream",
     "text": [
      "nan\n"
     ]
    }
   ],
   "source": [
    "df_after_removing_useless_columns = pd.read_csv('Data_Games/data_after_removing_useless_columns.csv')"
   ]
  },
  {
   "cell_type": "code",
   "execution_count": 14,
   "id": "c66eba0f-95da-41d4-b404-36942091cc5b",
   "metadata": {},
   "outputs": [
    {
     "data": {
      "text/plain": [
       "Index(['AppID', 'Name', 'Release date', 'Estimated owners', 'Peak CCU',\n",
       "       'Required age', 'Price', 'DLC count', 'About the game',\n",
       "       'Supported languages', 'Reviews', 'Metacritic score', 'User score',\n",
       "       'Positive', 'Negative', 'Score rank', 'Achievements', 'Recommendations',\n",
       "       'Notes', 'Developers', 'Publishers', 'Categories', 'Genres', 'Tags'],\n",
       "      dtype='object')"
      ]
     },
     "execution_count": 14,
     "metadata": {},
     "output_type": "execute_result"
    }
   ],
   "source": [
    "df_after_removing_useless_columns.columns"
   ]
  },
  {
   "cell_type": "code",
   "execution_count": 20,
   "id": "4282efd2-748e-455e-ac40-bd64bcb17810",
   "metadata": {},
   "outputs": [
    {
     "name": "stdout",
     "output_type": "stream",
     "text": [
      "0        False\n",
      "1        False\n",
      "2        False\n",
      "3        False\n",
      "4        False\n",
      "         ...  \n",
      "97405    False\n",
      "97406    False\n",
      "97407    False\n",
      "97408    False\n",
      "97409    False\n",
      "Name: Score rank, Length: 97410, dtype: bool\n"
     ]
    }
   ],
   "source": [
    "notes_column = df_after_removing_useless_columns['Score rank']\n",
    "\n",
    "print(notes_column)"
   ]
  },
  {
   "cell_type": "code",
   "execution_count": 15,
   "id": "b57f8bfd-81f9-408a-8698-03e54d49c03b",
   "metadata": {},
   "outputs": [
    {
     "name": "stdout",
     "output_type": "stream",
     "text": [
      "AppID                      0\n",
      "Name                       6\n",
      "Release date               0\n",
      "Estimated owners           0\n",
      "Peak CCU                   0\n",
      "Required age               0\n",
      "Price                      0\n",
      "DLC count                  0\n",
      "About the game          4870\n",
      "Supported languages        0\n",
      "Reviews                87285\n",
      "Metacritic score           0\n",
      "User score                 0\n",
      "Positive                   0\n",
      "Negative                   0\n",
      "Score rank             97366\n",
      "Achievements               0\n",
      "Recommendations            0\n",
      "Notes                  81936\n",
      "Developers              4876\n",
      "Publishers              5136\n",
      "Categories              5913\n",
      "Genres                  4841\n",
      "Tags                   29763\n",
      "dtype: int64\n"
     ]
    }
   ],
   "source": [
    "# Check for missing values\n",
    "missing_values = df.isna().sum()\n",
    "print(missing_values)"
   ]
  },
  {
   "cell_type": "code",
   "execution_count": 27,
   "id": "ff9ea2f9-54ef-4fbb-a66f-0c51449e896e",
   "metadata": {},
   "outputs": [
    {
     "data": {
      "text/plain": [
       "10       “New WW2 Strategy Game Offers A Harrowing Look...\n",
       "11       “The art in Cthulhu Realms is hilarious and be...\n",
       "17       “Hero of the Kingdom II is a title that casual...\n",
       "33       “Unhappy Ever After is the result of a wicked ...\n",
       "44       “Reigns: Game of Thrones is so much better tha...\n",
       "                               ...                        \n",
       "97250    “One of my personal favorite JRPGs in years” 8...\n",
       "97255    “With the game's semi-official motto being 'Wo...\n",
       "97258    “Next of Kin may very well be named the 'surpr...\n",
       "97314    “A phenomenally-replayable time-trial racer wi...\n",
       "97346    “Preserve sees you encourage natural symbiosis...\n",
       "Name: Reviews, Length: 10125, dtype: object"
      ]
     },
     "execution_count": 27,
     "metadata": {},
     "output_type": "execute_result"
    }
   ],
   "source": [
    "score_rank_non_null = df[df['Reviews'].notna()]\n",
    "score_rank_non_null['Reviews']"
   ]
  },
  {
   "cell_type": "code",
   "execution_count": 28,
   "id": "7f647b85-4e2e-4d31-bc7a-26714eecba43",
   "metadata": {},
   "outputs": [],
   "source": [
    "df = df.drop(columns=['Score rank'])\n",
    "\n",
    "# Save the cleaned DataFrame to a new CSV file\n",
    "df.to_csv('Data_Games/data_after_removing_score_rank_column.csv', index=False)"
   ]
  },
  {
   "cell_type": "code",
   "execution_count": 30,
   "id": "6e347069-4bfe-4ae0-94ae-94aff19bdfb9",
   "metadata": {},
   "outputs": [
    {
     "name": "stdout",
     "output_type": "stream",
     "text": [
      "Missing values handled successfully.\n"
     ]
    }
   ],
   "source": [
    "# Load your CSV file into a DataFrame\n",
    "file_path = 'Data_Games/data_after_removing_score_rank_column.csv' \n",
    "df = pd.read_csv(file_path)\n",
    "\n",
    "# Drop rows with missing 'Name' values\n",
    "df = df.dropna(subset=['Name'])\n",
    "\n",
    "# Fill missing values with appropriate placeholders or zeros\n",
    "df['About the game'] = df['About the game'].fillna('No description available')\n",
    "df['Reviews'] = df['Reviews'].fillna(0)\n",
    "df['Notes'] = df['Notes'].fillna('No additional notes')\n",
    "df['Developers'] = df['Developers'].fillna('Unknown')\n",
    "df['Publishers'] = df['Publishers'].fillna('Unknown')\n",
    "df['Categories'] = df['Categories'].fillna('Unknown')\n",
    "df['Genres'] = df['Genres'].fillna('Unknown')\n",
    "df['Tags'] = df['Tags'].fillna('No tags available')\n",
    "\n",
    "# Save the cleaned DataFrame to a new CSV file\n",
    "df.to_csv('Data_Games/data_filled_missing_values.csv', index=False)\n",
    "\n",
    "print(\"Missing values handled successfully.\")"
   ]
  },
  {
   "cell_type": "code",
   "execution_count": 31,
   "id": "7e18868f-ef94-4bd2-8532-37cd9c559efd",
   "metadata": {},
   "outputs": [
    {
     "name": "stdout",
     "output_type": "stream",
     "text": [
      "AppID                  0\n",
      "Name                   0\n",
      "Release date           0\n",
      "Estimated owners       0\n",
      "Peak CCU               0\n",
      "Required age           0\n",
      "Price                  0\n",
      "DLC count              0\n",
      "About the game         0\n",
      "Supported languages    0\n",
      "Reviews                0\n",
      "Metacritic score       0\n",
      "User score             0\n",
      "Positive               0\n",
      "Negative               0\n",
      "Achievements           0\n",
      "Recommendations        0\n",
      "Notes                  0\n",
      "Developers             0\n",
      "Publishers             0\n",
      "Categories             0\n",
      "Genres                 0\n",
      "Tags                   0\n",
      "dtype: int64\n"
     ]
    }
   ],
   "source": [
    "missing_values = df.isna().sum()\n",
    "print(missing_values)"
   ]
  },
  {
   "cell_type": "code",
   "execution_count": 36,
   "id": "2283df9a-eea0-405d-9c41-8291e39c93bf",
   "metadata": {},
   "outputs": [],
   "source": [
    "# Sample data path (replace with actual path if running locally)\n",
    "file_path = 'Data_Games/data_filled_missing_values.csv' \n",
    "\n",
    "# Load the CSV file into a DataFrame\n",
    "df = pd.read_csv(file_path)\n",
    "\n",
    "# Convert 'Release date' to datetime\n",
    "df['Release date'] = pd.to_datetime(df['Release date'], errors='coerce')\n",
    "\n",
    "# Save the cleaned DataFrame to a new CSV file\n",
    "df.to_csv('Data_Games/data_verified_data_types.csv', index=False)"
   ]
  },
  {
   "cell_type": "code",
   "execution_count": 57,
   "id": "5603e00a-5c48-4cd2-87ab-4bcd4f94601a",
   "metadata": {},
   "outputs": [],
   "source": [
    "import ast\n",
    "\n",
    "# Sample data path (replace with actual path if running locally)\n",
    "file_path = 'Data_Games/data_verified_data_types.csv' \n",
    "\n",
    "# Load the CSV file into a DataFrame\n",
    "df = pd.read_csv(file_path)\n",
    "\n",
    "# Function to convert the string representation of a list into an actual list\n",
    "def parse_languages(languages):\n",
    "    try:\n",
    "        # Convert string to list\n",
    "        return ast.literal_eval(languages)\n",
    "    except (ValueError, SyntaxError):\n",
    "        # Return an empty list if conversion fails\n",
    "        return []\n",
    "\n",
    "# Apply the function to the 'Supported languages' column\n",
    "df['Supported languages'] = df['Supported languages'].apply(parse_languages)\n",
    "\n",
    "\n",
    "# Drop games that support only Japanese or only Simplified Chinese\n",
    "df_cleaned = df[~df['Supported languages'].apply(lambda x: x == ['Japanese'] or x == ['Simplified Chinese'])]\n",
    "\n",
    "# Save the cleaned DataFrame to a new CSV file\n",
    "df.to_csv('Data_Games/data_removed_jap_chin_games.csv', index=False)"
   ]
  },
  {
   "cell_type": "code",
   "execution_count": 58,
   "id": "6cf893c1-b485-4390-a5d1-b26c5c6ea5a4",
   "metadata": {},
   "outputs": [],
   "source": [
    "# Sample data path (replace with actual path if running locally)\n",
    "file_path = 'Data_Games/data_removed_jap_chin_games.csv' \n",
    "\n",
    "# Load the CSV file into a DataFrame\n",
    "df = pd.read_csv(file_path)\n",
    "\n",
    "# Remove rows that contain 'Utilities' in the 'Tags' column\n",
    "df = df[~df['Tags'].str.contains('Utilities', case=False, na=False)]\n",
    "\n",
    "# Save the cleaned DataFrame to a new CSV file\n",
    "df.to_csv('Data_Games/data_removed_utility_software.csv', index=False)"
   ]
  },
  {
   "cell_type": "code",
   "execution_count": 3,
   "id": "6548b5b4-a6e2-4741-8101-054342b26b89",
   "metadata": {},
   "outputs": [],
   "source": [
    "# Sample data path (replace with actual path if running locally)\n",
    "file_path = 'Data_Games/data_removed_utility_software.csv' \n",
    "\n",
    "# Load the CSV file into a DataFrame\n",
    "df = pd.read_csv(file_path)\n",
    "\n",
    "# Remove duplicate games based on 'Name' and 'Release date'\n",
    "df = df[~df.duplicated(subset=['Name', 'Release date'], keep=False)]\n",
    "\n",
    "# Save the cleaned DataFrame to a new CSV file\n",
    "df.to_csv('Data_Games/data_removed_duplicates.csv', index=False)"
   ]
  },
  {
   "cell_type": "code",
   "execution_count": 4,
   "id": "10628490-da22-4b1b-bf0b-643efd661801",
   "metadata": {},
   "outputs": [
    {
     "name": "stdout",
     "output_type": "stream",
     "text": [
      "              AppID      Peak CCU  Required age         Price     DLC count  \\\n",
      "count  9.635500e+04  9.635500e+04  96355.000000  96355.000000  96355.000000   \n",
      "mean   1.529780e+06  1.582429e+02      0.272721      7.017980      0.405584   \n",
      "std    7.992565e+05  7.680976e+03      2.106184     12.257883      6.643396   \n",
      "min    1.000000e+01  0.000000e+00      0.000000      0.000000      0.000000   \n",
      "25%    8.526900e+05  0.000000e+00      0.000000      0.990000      0.000000   \n",
      "50%    1.496240e+06  0.000000e+00      0.000000      4.000000      0.000000   \n",
      "75%    2.184550e+06  1.000000e+00      0.000000      9.990000      0.000000   \n",
      "max    3.199580e+06  1.284268e+06     21.000000    999.980000   1555.000000   \n",
      "\n",
      "       Metacritic score    User score      Positive       Negative  \\\n",
      "count      96355.000000  96355.000000  9.635500e+04   96355.000000   \n",
      "mean           2.898417      0.035172  8.017267e+02     133.397582   \n",
      "std           14.380895      1.683241  2.259698e+04    4253.400920   \n",
      "min            0.000000      0.000000  0.000000e+00       0.000000   \n",
      "25%            0.000000      0.000000  0.000000e+00       0.000000   \n",
      "50%            0.000000      0.000000  4.000000e+00       1.000000   \n",
      "75%            0.000000      0.000000  3.500000e+01      10.000000   \n",
      "max           97.000000    100.000000  5.764420e+06  895978.000000   \n",
      "\n",
      "       Achievements  Recommendations  \n",
      "count  96355.000000     9.635500e+04  \n",
      "mean      18.563686     6.109914e+02  \n",
      "std      160.446096     1.545527e+04  \n",
      "min        0.000000     0.000000e+00  \n",
      "25%        0.000000     0.000000e+00  \n",
      "50%        0.000000     0.000000e+00  \n",
      "75%       17.000000     0.000000e+00  \n",
      "max     9821.000000     3.441592e+06  \n"
     ]
    }
   ],
   "source": [
    "# Display summary statistics for numeric columns\n",
    "print(df.describe())"
   ]
  },
  {
   "cell_type": "code",
   "execution_count": 17,
   "id": "053a7d65-06a0-468e-bbe6-16eaabae5492",
   "metadata": {},
   "outputs": [
    {
     "data": {
      "text/html": [
       "<div>\n",
       "<style scoped>\n",
       "    .dataframe tbody tr th:only-of-type {\n",
       "        vertical-align: middle;\n",
       "    }\n",
       "\n",
       "    .dataframe tbody tr th {\n",
       "        vertical-align: top;\n",
       "    }\n",
       "\n",
       "    .dataframe thead th {\n",
       "        text-align: right;\n",
       "    }\n",
       "</style>\n",
       "<table border=\"1\" class=\"dataframe\">\n",
       "  <thead>\n",
       "    <tr style=\"text-align: right;\">\n",
       "      <th></th>\n",
       "      <th>AppID</th>\n",
       "      <th>Name</th>\n",
       "      <th>Release date</th>\n",
       "      <th>Estimated owners</th>\n",
       "      <th>Peak CCU</th>\n",
       "      <th>Required age</th>\n",
       "      <th>Price</th>\n",
       "      <th>DLC count</th>\n",
       "      <th>About the game</th>\n",
       "      <th>Supported languages</th>\n",
       "      <th>...</th>\n",
       "      <th>Positive</th>\n",
       "      <th>Negative</th>\n",
       "      <th>Achievements</th>\n",
       "      <th>Recommendations</th>\n",
       "      <th>Notes</th>\n",
       "      <th>Developers</th>\n",
       "      <th>Publishers</th>\n",
       "      <th>Categories</th>\n",
       "      <th>Genres</th>\n",
       "      <th>Tags</th>\n",
       "    </tr>\n",
       "  </thead>\n",
       "  <tbody>\n",
       "    <tr>\n",
       "      <th>1615</th>\n",
       "      <td>814380</td>\n",
       "      <td>Sekiro™: Shadows Die Twice - GOTY Edition</td>\n",
       "      <td>2019-03-21</td>\n",
       "      <td>5000000 - 10000000</td>\n",
       "      <td>6168</td>\n",
       "      <td>17</td>\n",
       "      <td>59.99</td>\n",
       "      <td>0</td>\n",
       "      <td>This Game of the Year Edition now includes bon...</td>\n",
       "      <td>['English', 'French', 'Italian', 'German', 'Sp...</td>\n",
       "      <td>...</td>\n",
       "      <td>179498</td>\n",
       "      <td>9339</td>\n",
       "      <td>34</td>\n",
       "      <td>134041</td>\n",
       "      <td>No additional notes</td>\n",
       "      <td>FromSoftware</td>\n",
       "      <td>Activision (Excluding Japan and Asia),FromSoft...</td>\n",
       "      <td>Single-player,Steam Achievements,Full controll...</td>\n",
       "      <td>Action,Adventure</td>\n",
       "      <td>Souls-like,Difficult,Action,Singleplayer,Ninja...</td>\n",
       "    </tr>\n",
       "  </tbody>\n",
       "</table>\n",
       "<p>1 rows × 23 columns</p>\n",
       "</div>"
      ],
      "text/plain": [
       "       AppID                                       Name Release date  \\\n",
       "1615  814380  Sekiro™: Shadows Die Twice - GOTY Edition   2019-03-21   \n",
       "\n",
       "        Estimated owners  Peak CCU  Required age  Price  DLC count  \\\n",
       "1615  5000000 - 10000000      6168            17  59.99          0   \n",
       "\n",
       "                                         About the game  \\\n",
       "1615  This Game of the Year Edition now includes bon...   \n",
       "\n",
       "                                    Supported languages  ... Positive  \\\n",
       "1615  ['English', 'French', 'Italian', 'German', 'Sp...  ...   179498   \n",
       "\n",
       "      Negative  Achievements  Recommendations                Notes  \\\n",
       "1615      9339            34           134041  No additional notes   \n",
       "\n",
       "        Developers                                         Publishers  \\\n",
       "1615  FromSoftware  Activision (Excluding Japan and Asia),FromSoft...   \n",
       "\n",
       "                                             Categories            Genres  \\\n",
       "1615  Single-player,Steam Achievements,Full controll...  Action,Adventure   \n",
       "\n",
       "                                                   Tags  \n",
       "1615  Souls-like,Difficult,Action,Singleplayer,Ninja...  \n",
       "\n",
       "[1 rows x 23 columns]"
      ]
     },
     "execution_count": 17,
     "metadata": {},
     "output_type": "execute_result"
    }
   ],
   "source": [
    "file_path = 'Data_Games/data_removed_duplicates.csv' \n",
    "\n",
    "# Load the CSV file into a DataFrame\n",
    "df = pd.read_csv(file_path)\n",
    "df[df['AppID'] == 814380]"
   ]
  },
  {
   "cell_type": "code",
   "execution_count": 6,
   "id": "62aba929-cd5c-4a6f-84ea-a341386dda13",
   "metadata": {},
   "outputs": [
    {
     "name": "stdout",
     "output_type": "stream",
     "text": [
      "         AppID                      Name Release date   Estimated owners  \\\n",
      "10     1026420                    WARSAW   2019-10-02      20000 - 50000   \n",
      "15       22670    Alien Breed 3: Descent   2010-11-17    200000 - 500000   \n",
      "41      231330       Deadfall Adventures   2013-11-15    100000 - 200000   \n",
      "43      897820   Reigns: Game of Thrones   2018-10-18     50000 - 100000   \n",
      "46      552520                Far Cry® 5   2018-03-26  2000000 - 5000000   \n",
      "...        ...                       ...          ...                ...   \n",
      "96379  2490990           Visions of Mana   2024-08-29      20000 - 50000   \n",
      "96409  1299690      Gori: Cuddly Carnage   2024-08-29          0 - 20000   \n",
      "96443  1924180             Phantom Spark   2024-08-15          0 - 20000   \n",
      "96459  3079440       3D PUZZLE - Bedroom   2024-08-15              0 - 0   \n",
      "96490  3120300  3D PUZZLE - Pizza Shop 1   2024-08-19              0 - 0   \n",
      "\n",
      "       Peak CCU  Required age   Price  DLC count  \\\n",
      "10            5             0   23.99          0   \n",
      "15            3             0    9.99          0   \n",
      "41            4             0   19.99          0   \n",
      "43            2             0    3.99          0   \n",
      "46         2164            17   59.99          5   \n",
      "...         ...           ...     ...        ...   \n",
      "96379      5276             0   59.99          3   \n",
      "96409         0             0   17.59          8   \n",
      "96443         4             0   19.99          1   \n",
      "96459         0             0  199.99          0   \n",
      "96490         0             0  119.99          0   \n",
      "\n",
      "                                          About the game  \\\n",
      "10     Use everything at your disposal to help a team...   \n",
      "15     Alien Breed™ 3: Descent is the final explosive...   \n",
      "41     Deadfall Adventures is an action-driven first-...   \n",
      "43     Reigns: Game of Thrones is the heir to the awa...   \n",
      "46     Far Cry comes to America in the latest install...   \n",
      "...                                                  ...   \n",
      "96379  Visions of Mana is a brand new title in this s...   \n",
      "96409  Humanity has been destroyed - and it's up to G...   \n",
      "96443  Phantom Spark is an exhilarating high-speed ra...   \n",
      "96459  Collect a 3D puzzle, transferring things to th...   \n",
      "96490  Collect a 3D puzzle, transferring things to th...   \n",
      "\n",
      "                                     Supported languages  ... Positive  \\\n",
      "10     ['English', 'French', 'German', 'Polish', 'Rus...  ...      589   \n",
      "15     ['English', 'French', 'German', 'Italian', 'Ja...  ...      349   \n",
      "41     ['English', 'German', 'Polish', 'French', 'Rus...  ...     1716   \n",
      "43     ['English', 'French', 'German', 'Spanish - Spa...  ...      698   \n",
      "46     ['English', 'French', 'Italian', 'German', 'Sp...  ...   100620   \n",
      "...                                                  ...  ...      ...   \n",
      "96379  ['English', 'French', 'German', 'Spanish - Spa...  ...      448   \n",
      "96409  ['English', 'French', 'Italian', 'German', 'Sp...  ...      229   \n",
      "96443  ['English', 'French', 'Italian', 'German', 'Sp...  ...       79   \n",
      "96459                                                 []  ...        0   \n",
      "96490                                                 []  ...        0   \n",
      "\n",
      "       Negative  Achievements  Recommendations  \\\n",
      "10          212            34              427   \n",
      "15          134            13              285   \n",
      "41          628            50             1140   \n",
      "43          203            10              815   \n",
      "46        25286             0           114588   \n",
      "...         ...           ...              ...   \n",
      "96379        67            45              488   \n",
      "96409         5            34              249   \n",
      "96443         1            24                0   \n",
      "96459         0             6                0   \n",
      "96490         0             6                0   \n",
      "\n",
      "                                                   Notes  \\\n",
      "10                                   No additional notes   \n",
      "15                                   No additional notes   \n",
      "41                                   No additional notes   \n",
      "43                                   No additional notes   \n",
      "46                                   No additional notes   \n",
      "...                                                  ...   \n",
      "96379                                No additional notes   \n",
      "96409  The game contains semi-realistic, excessive go...   \n",
      "96443                                No additional notes   \n",
      "96459                                No additional notes   \n",
      "96490                                No additional notes   \n",
      "\n",
      "                                              Developers  \\\n",
      "10                                        Pixelated Milk   \n",
      "15                                    Team17 Digital Ltd   \n",
      "41                                           The Farm 51   \n",
      "43                                                Nerial   \n",
      "46     Ubisoft Montreal,Red Storm,Ubisoft Shanghai,Ub...   \n",
      "...                                                  ...   \n",
      "96379                                        Square Enix   \n",
      "96409                                 Angry Demon Studio   \n",
      "96443                                             Ghosts   \n",
      "96459                                       PUZZLE Games   \n",
      "96490                                       PUZZLE Games   \n",
      "\n",
      "                                              Publishers  \\\n",
      "10                         Pixelated Milk,gaming company   \n",
      "15                                    Team17 Digital Ltd   \n",
      "41                                            THQ Nordic   \n",
      "43                                      Devolver Digital   \n",
      "46                                               Ubisoft   \n",
      "...                                                  ...   \n",
      "96379                                        Square Enix   \n",
      "96409  Wired Productions,CouchPlay Interactive (Great...   \n",
      "96443                                Coatsink,Thunderful   \n",
      "96459                                               Hede   \n",
      "96490                                               Hede   \n",
      "\n",
      "                                              Categories  \\\n",
      "10     Single-player,Steam Achievements,Steam Trading...   \n",
      "15     Single-player,Multi-player,Co-op,Steam Achieve...   \n",
      "41     Single-player,Multi-player,Co-op,Steam Achieve...   \n",
      "43     Single-player,Steam Achievements,Full controll...   \n",
      "46     Single-player,Multi-player,Co-op,Online Co-op,...   \n",
      "...                                                  ...   \n",
      "96379  Single-player,Steam Achievements,Steam Trading...   \n",
      "96409  Single-player,Steam Achievements,Full controll...   \n",
      "96443  Single-player,Multi-player,PvP,Online PvP,Shar...   \n",
      "96459  Single-player,Steam Achievements,Steam Leaderb...   \n",
      "96490  Single-player,Steam Achievements,Steam Leaderb...   \n",
      "\n",
      "                                                  Genres  \\\n",
      "10                                             Indie,RPG   \n",
      "15                                                Action   \n",
      "41                                      Action,Adventure   \n",
      "43                                   Adventure,Indie,RPG   \n",
      "46                                      Action,Adventure   \n",
      "...                                                  ...   \n",
      "96379                                         Action,RPG   \n",
      "96409                             Action,Adventure,Indie   \n",
      "96443                         Casual,Indie,Racing,Sports   \n",
      "96459                                Action,Casual,Indie   \n",
      "96490  Action,Adventure,Casual,Indie,Racing,RPG,Simul...   \n",
      "\n",
      "                                                    Tags  \n",
      "10     Tactical RPG,Turn-Based Strategy,Wargame,Histo...  \n",
      "15     Action,Shooter,Sci-fi,Aliens,Third Person,Isom...  \n",
      "41     Adventure,Action,FPS,Shooter,Multiplayer,First...  \n",
      "43     RPG,Indie,Card Game,Adventure,Choices Matter,2...  \n",
      "46     Open World,Co-op,Action,Multiplayer,FPS,Shoote...  \n",
      "...                                                  ...  \n",
      "96379  RPG,JRPG,Party-Based RPG,Action RPG,3D,Cute,Ac...  \n",
      "96409  Controller,Combat,Cyberpunk,Horror,Comedy,Bloo...  \n",
      "96443  Sports,PvP,Flight,Racing,Atmospheric,Driving,C...  \n",
      "96459                                  No tags available  \n",
      "96490                                  No tags available  \n",
      "\n",
      "[4744 rows x 23 columns]\n"
     ]
    }
   ],
   "source": [
    "from scipy import stats\n",
    "\n",
    "# Calculate z-scores for numeric columns\n",
    "numeric_columns = ['Price', 'User score', 'Metacritic score', 'Positive', 'Negative']\n",
    "z_scores = stats.zscore(df[numeric_columns])\n",
    "\n",
    "# Identify outliers with z-scores greater than 3 or less than -3\n",
    "outliers = df[(z_scores > 3) | (z_scores < -3)].any(axis=1)\n",
    "\n",
    "# Display the outliers\n",
    "outlier_data = df[outliers]\n",
    "print(outlier_data)\n"
   ]
  },
  {
   "cell_type": "code",
   "execution_count": 8,
   "id": "26cbafc4-43d0-49aa-b14a-6a91b7cf5aca",
   "metadata": {},
   "outputs": [
    {
     "name": "stdout",
     "output_type": "stream",
     "text": [
      "Unique Categories: ['Single-player,Multi-player,Steam Achievements,Partial Controller Support'\n",
      " 'Single-player,Steam Achievements,Full controller support,Steam Leaderboards,Remote Play on Phone,Remote Play on Tablet,Remote Play on TV'\n",
      " 'Single-player' ...\n",
      " 'Single-player,Multi-player,PvP,Online PvP,Steam Achievements,Steam Workshop,Steam Cloud,Family Sharing'\n",
      " 'Multi-player,PvP,Online PvP,Co-op,Online Co-op,Steam Achievements,Steam Cloud,Family Sharing'\n",
      " 'Single-player,Steam Achievements,Full controller support,Steam Cloud,Steam Leaderboards,Remote Play on Phone,Remote Play on TV,Family Sharing']\n",
      "Unique Genres: ['Casual,Indie,Sports' 'Action,Indie' 'Action,Adventure,Indie,Strategy'\n",
      " ... 'Casual,Indie,Racing,Free To Play'\n",
      " 'Adventure,Free To Play,Early Access'\n",
      " 'Casual,Massively Multiplayer,RPG,Simulation,Strategy,Free To Play']\n",
      "Unique Tags: ['Indie,Casual,Sports,Bowling'\n",
      " 'Indie,Action,Pixel Graphics,2D,Retro,Arcade,Score Attack,Minimalist,Comedy,Singleplayer,Fast-Paced,Casual,Funny,Parody,Difficult,Gore,Violent,Western,Controller,Blood'\n",
      " 'No tags available' ...\n",
      " 'Traditional Roguelike,Exploration,Crafting,Immersive,Rogue-like,Dark Fantasy,Atmospheric,Procedural Generation,Turn-Based Combat,RPG,2D,Top-Down,Lore-Rich,Nonlinear,Story Rich,Fantasy,Medieval,Combat,Singleplayer,Early Access'\n",
      " 'Dungeon Crawler,RPG,Fantasy,Grid-Based Movement,Exploration,Adventure,First-Person,CRPG,Turn-Based Combat,JRPG,Atmospheric,Anime,Action RPG,3D,Magic,Rogue-lite,Rogue-like,Gun Customization,Action-Adventure,Turn-Based'\n",
      " 'Casual,Puzzle,Point & Click,Puzzle-Platformer,2D,Cute,Colorful,Pixel Graphics,Fantasy,Relaxing,Retro,Singleplayer']\n",
      "Unique Developers: ['Perpetual FX Creative' 'Rusty Moyher' 'Campião Games' ... 'Spellweaver'\n",
      " 'Maximan' 'Carlos Garrido']\n",
      "Unique Publishers: ['Perpetual FX Creative' 'Wild Rooster' 'Campião Games' ... 'Spellweaver'\n",
      " 'Maximan' 'DigiPen Intsitute of Technology']\n"
     ]
    }
   ],
   "source": [
    "# Check unique values in categorical columns\n",
    "print(\"Unique Categories:\", df['Categories'].unique())\n",
    "print(\"Unique Genres:\", df['Genres'].unique())\n",
    "print(\"Unique Tags:\", df['Tags'].unique())\n",
    "print(\"Unique Developers:\", df['Developers'].unique())\n",
    "print(\"Unique Publishers:\", df['Publishers'].unique())\n"
   ]
  },
  {
   "cell_type": "code",
   "execution_count": 21,
   "id": "45a70fd2-48b9-4973-8ec4-dcec12d0eb71",
   "metadata": {},
   "outputs": [],
   "source": [
    "# Load and save as UTF-16, which Excel typically handles better for special characters\n",
    "df = df.sort_values(by='Estimated owners', ascending=False)\n",
    "df.to_csv('Data_Games/data_after_encoding_change.csv', index=False, encoding='utf-16')\n"
   ]
  }
 ],
 "metadata": {
  "kernelspec": {
   "display_name": "Python 3 (ipykernel)",
   "language": "python",
   "name": "python3"
  },
  "language_info": {
   "codemirror_mode": {
    "name": "ipython",
    "version": 3
   },
   "file_extension": ".py",
   "mimetype": "text/x-python",
   "name": "python",
   "nbconvert_exporter": "python",
   "pygments_lexer": "ipython3",
   "version": "3.10.7"
  }
 },
 "nbformat": 4,
 "nbformat_minor": 5
}
