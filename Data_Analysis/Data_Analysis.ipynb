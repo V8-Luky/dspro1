{
 "cells": [
  {
   "cell_type": "code",
   "execution_count": 6,
   "id": "0f9baf6a-00d9-43a0-8f45-187305cc729d",
   "metadata": {},
   "outputs": [
    {
     "data": {
      "text/plain": [
       "Index(['AppID', 'Name', 'Release date', 'Estimated owners', 'Peak CCU',\n",
       "       'Required age', 'Price', 'Discount', 'DLC count', 'About the game',\n",
       "       'Supported languages', 'Full audio languages', 'Reviews',\n",
       "       'Header image', 'Website', 'Support url', 'Support email', 'Windows',\n",
       "       'Mac', 'Linux', 'Metacritic score', 'Metacritic url', 'User score',\n",
       "       'Positive', 'Negative', 'Score rank', 'Achievements', 'Recommendations',\n",
       "       'Notes', 'Average playtime forever', 'Average playtime two weeks',\n",
       "       'Median playtime forever', 'Median playtime two weeks', 'Developers',\n",
       "       'Publishers', 'Categories', 'Genres', 'Tags', 'Screenshots', 'Movies'],\n",
       "      dtype='object')"
      ]
     },
     "execution_count": 6,
     "metadata": {},
     "output_type": "execute_result"
    }
   ],
   "source": [
    "import pandas as pd\n",
    "\n",
    "df = pd.read_csv('Data_Games/games.csv')\n",
    "\n",
    "df.columns"
   ]
  },
  {
   "cell_type": "code",
   "execution_count": 7,
   "id": "39bf67b9-9d54-482f-9dea-174cc083adc0",
   "metadata": {},
   "outputs": [
    {
     "name": "stdout",
     "output_type": "stream",
     "text": [
      "Specified columns removed successfully.\n"
     ]
    }
   ],
   "source": [
    "# Load your CSV file into a DataFrame\n",
    "file_path = 'Data_Games/games.csv'\n",
    "df = pd.read_csv(file_path)\n",
    "\n",
    "# List of columns to remove\n",
    "columns_to_remove = ['Discount', 'Full audio languages', 'Header image', 'Website', 'Support url', \n",
    "                     'Support email', 'Windows', 'Mac', 'Linux', 'Metacritic url', \n",
    "                     'Average playtime forever', 'Average playtime two weeks', \n",
    "                     'Median playtime forever', 'Median playtime two weeks', 'Screenshots', 'Movies']\n",
    "\n",
    "# Drop the specified columns\n",
    "df = df.drop(columns=columns_to_remove)\n",
    "\n",
    "# Save the cleaned DataFrame to a new CSV file\n",
    "df.to_csv('Data_Games/data_after_removing_useless_columns.csv', index=False)\n",
    "\n",
    "print(\"Specified columns removed successfully.\")"
   ]
  },
  {
   "cell_type": "code",
   "execution_count": 13,
   "id": "1acb2a83-0dca-4e95-b68f-d3f83b936a5d",
   "metadata": {},
   "outputs": [
    {
     "name": "stdout",
     "output_type": "stream",
     "text": [
      "nan\n"
     ]
    }
   ],
   "source": [
    "df_after_removing_useless_columns = pd.read_csv('Data_Games/data_after_removing_useless_columns.csv')"
   ]
  },
  {
   "cell_type": "code",
   "execution_count": 14,
   "id": "c66eba0f-95da-41d4-b404-36942091cc5b",
   "metadata": {},
   "outputs": [
    {
     "data": {
      "text/plain": [
       "Index(['AppID', 'Name', 'Release date', 'Estimated owners', 'Peak CCU',\n",
       "       'Required age', 'Price', 'DLC count', 'About the game',\n",
       "       'Supported languages', 'Reviews', 'Metacritic score', 'User score',\n",
       "       'Positive', 'Negative', 'Score rank', 'Achievements', 'Recommendations',\n",
       "       'Notes', 'Developers', 'Publishers', 'Categories', 'Genres', 'Tags'],\n",
       "      dtype='object')"
      ]
     },
     "execution_count": 14,
     "metadata": {},
     "output_type": "execute_result"
    }
   ],
   "source": [
    "df_after_removing_useless_columns.columns"
   ]
  },
  {
   "cell_type": "code",
   "execution_count": 20,
   "id": "4282efd2-748e-455e-ac40-bd64bcb17810",
   "metadata": {},
   "outputs": [
    {
     "name": "stdout",
     "output_type": "stream",
     "text": [
      "0        False\n",
      "1        False\n",
      "2        False\n",
      "3        False\n",
      "4        False\n",
      "         ...  \n",
      "97405    False\n",
      "97406    False\n",
      "97407    False\n",
      "97408    False\n",
      "97409    False\n",
      "Name: Score rank, Length: 97410, dtype: bool\n"
     ]
    }
   ],
   "source": [
    "notes_column = df_after_removing_useless_columns['Score rank']\n",
    "\n",
    "print(notes_column)"
   ]
  },
  {
   "cell_type": "code",
   "execution_count": 15,
   "id": "b57f8bfd-81f9-408a-8698-03e54d49c03b",
   "metadata": {},
   "outputs": [
    {
     "name": "stdout",
     "output_type": "stream",
     "text": [
      "AppID                      0\n",
      "Name                       6\n",
      "Release date               0\n",
      "Estimated owners           0\n",
      "Peak CCU                   0\n",
      "Required age               0\n",
      "Price                      0\n",
      "DLC count                  0\n",
      "About the game          4870\n",
      "Supported languages        0\n",
      "Reviews                87285\n",
      "Metacritic score           0\n",
      "User score                 0\n",
      "Positive                   0\n",
      "Negative                   0\n",
      "Score rank             97366\n",
      "Achievements               0\n",
      "Recommendations            0\n",
      "Notes                  81936\n",
      "Developers              4876\n",
      "Publishers              5136\n",
      "Categories              5913\n",
      "Genres                  4841\n",
      "Tags                   29763\n",
      "dtype: int64\n"
     ]
    }
   ],
   "source": [
    "# Check for missing values\n",
    "missing_values = df.isna().sum()\n",
    "print(missing_values)"
   ]
  },
  {
   "cell_type": "code",
   "execution_count": 27,
   "id": "ff9ea2f9-54ef-4fbb-a66f-0c51449e896e",
   "metadata": {},
   "outputs": [
    {
     "data": {
      "text/plain": [
       "10       “New WW2 Strategy Game Offers A Harrowing Look...\n",
       "11       “The art in Cthulhu Realms is hilarious and be...\n",
       "17       “Hero of the Kingdom II is a title that casual...\n",
       "33       “Unhappy Ever After is the result of a wicked ...\n",
       "44       “Reigns: Game of Thrones is so much better tha...\n",
       "                               ...                        \n",
       "97250    “One of my personal favorite JRPGs in years” 8...\n",
       "97255    “With the game's semi-official motto being 'Wo...\n",
       "97258    “Next of Kin may very well be named the 'surpr...\n",
       "97314    “A phenomenally-replayable time-trial racer wi...\n",
       "97346    “Preserve sees you encourage natural symbiosis...\n",
       "Name: Reviews, Length: 10125, dtype: object"
      ]
     },
     "execution_count": 27,
     "metadata": {},
     "output_type": "execute_result"
    }
   ],
   "source": [
    "score_rank_non_null = df[df['Reviews'].notna()]\n",
    "score_rank_non_null['Reviews']"
   ]
  },
  {
   "cell_type": "code",
   "execution_count": 28,
   "id": "7f647b85-4e2e-4d31-bc7a-26714eecba43",
   "metadata": {},
   "outputs": [],
   "source": [
    "df = df.drop(columns=['Score rank'])\n",
    "\n",
    "# Save the cleaned DataFrame to a new CSV file\n",
    "df.to_csv('Data_Games/data_after_removing_score_rank_column.csv', index=False)"
   ]
  },
  {
   "cell_type": "code",
   "execution_count": 30,
   "id": "6e347069-4bfe-4ae0-94ae-94aff19bdfb9",
   "metadata": {},
   "outputs": [
    {
     "name": "stdout",
     "output_type": "stream",
     "text": [
      "Missing values handled successfully.\n"
     ]
    }
   ],
   "source": [
    "# Load your CSV file into a DataFrame\n",
    "file_path = 'Data_Games/data_after_removing_score_rank_column.csv' \n",
    "df = pd.read_csv(file_path)\n",
    "\n",
    "# Drop rows with missing 'Name' values\n",
    "df = df.dropna(subset=['Name'])\n",
    "\n",
    "# Fill missing values with appropriate placeholders or zeros\n",
    "df['About the game'] = df['About the game'].fillna('No description available')\n",
    "df['Reviews'] = df['Reviews'].fillna(0)\n",
    "df['Notes'] = df['Notes'].fillna('No additional notes')\n",
    "df['Developers'] = df['Developers'].fillna('Unknown')\n",
    "df['Publishers'] = df['Publishers'].fillna('Unknown')\n",
    "df['Categories'] = df['Categories'].fillna('Unknown')\n",
    "df['Genres'] = df['Genres'].fillna('Unknown')\n",
    "df['Tags'] = df['Tags'].fillna('No tags available')\n",
    "\n",
    "# Save the cleaned DataFrame to a new CSV file\n",
    "df.to_csv('Data_Games/data_filled_missing_values.csv', index=False)\n",
    "\n",
    "print(\"Missing values handled successfully.\")"
   ]
  },
  {
   "cell_type": "code",
   "execution_count": 31,
   "id": "7e18868f-ef94-4bd2-8532-37cd9c559efd",
   "metadata": {},
   "outputs": [
    {
     "name": "stdout",
     "output_type": "stream",
     "text": [
      "AppID                  0\n",
      "Name                   0\n",
      "Release date           0\n",
      "Estimated owners       0\n",
      "Peak CCU               0\n",
      "Required age           0\n",
      "Price                  0\n",
      "DLC count              0\n",
      "About the game         0\n",
      "Supported languages    0\n",
      "Reviews                0\n",
      "Metacritic score       0\n",
      "User score             0\n",
      "Positive               0\n",
      "Negative               0\n",
      "Achievements           0\n",
      "Recommendations        0\n",
      "Notes                  0\n",
      "Developers             0\n",
      "Publishers             0\n",
      "Categories             0\n",
      "Genres                 0\n",
      "Tags                   0\n",
      "dtype: int64\n"
     ]
    }
   ],
   "source": [
    "missing_values = df.isna().sum()\n",
    "print(missing_values)"
   ]
  },
  {
   "cell_type": "code",
   "execution_count": 36,
   "id": "2283df9a-eea0-405d-9c41-8291e39c93bf",
   "metadata": {},
   "outputs": [],
   "source": [
    "# Sample data path (replace with actual path if running locally)\n",
    "file_path = 'Data_Games/data_filled_missing_values.csv' \n",
    "\n",
    "# Load the CSV file into a DataFrame\n",
    "df = pd.read_csv(file_path)\n",
    "\n",
    "# Convert 'Release date' to datetime\n",
    "df['Release date'] = pd.to_datetime(df['Release date'], errors='coerce')\n",
    "\n",
    "# Save the cleaned DataFrame to a new CSV file\n",
    "df.to_csv('Data_Games/data_verified_data_types.csv', index=False)"
   ]
  },
  {
   "cell_type": "code",
   "execution_count": 57,
   "id": "5603e00a-5c48-4cd2-87ab-4bcd4f94601a",
   "metadata": {},
   "outputs": [],
   "source": [
    "import ast\n",
    "\n",
    "# Sample data path (replace with actual path if running locally)\n",
    "file_path = 'Data_Games/data_verified_data_types.csv' \n",
    "\n",
    "# Load the CSV file into a DataFrame\n",
    "df = pd.read_csv(file_path)\n",
    "\n",
    "# Function to convert the string representation of a list into an actual list\n",
    "def parse_languages(languages):\n",
    "    try:\n",
    "        # Convert string to list\n",
    "        return ast.literal_eval(languages)\n",
    "    except (ValueError, SyntaxError):\n",
    "        # Return an empty list if conversion fails\n",
    "        return []\n",
    "\n",
    "# Apply the function to the 'Supported languages' column\n",
    "df['Supported languages'] = df['Supported languages'].apply(parse_languages)\n",
    "\n",
    "\n",
    "# Drop games that support only Japanese or only Simplified Chinese\n",
    "df_cleaned = df[~df['Supported languages'].apply(lambda x: x == ['Japanese'] or x == ['Simplified Chinese'])]\n",
    "\n",
    "# Save the cleaned DataFrame to a new CSV file\n",
    "df.to_csv('Data_Games/data_removed_jap_chin_games.csv', index=False)"
   ]
  },
  {
   "cell_type": "code",
   "execution_count": 58,
   "id": "6cf893c1-b485-4390-a5d1-b26c5c6ea5a4",
   "metadata": {},
   "outputs": [],
   "source": [
    "# Sample data path (replace with actual path if running locally)\n",
    "file_path = 'Data_Games/data_removed_jap_chin_games.csv' \n",
    "\n",
    "# Load the CSV file into a DataFrame\n",
    "df = pd.read_csv(file_path)\n",
    "\n",
    "# Remove rows that contain 'Utilities' in the 'Tags' column\n",
    "df = df[~df['Tags'].str.contains('Utilities', case=False, na=False)]\n",
    "\n",
    "# Save the cleaned DataFrame to a new CSV file\n",
    "df.to_csv('Data_Games/data_removed_utility_software.csv', index=False)"
   ]
  },
  {
   "cell_type": "code",
   "execution_count": 71,
   "id": "6548b5b4-a6e2-4741-8101-054342b26b89",
   "metadata": {},
   "outputs": [],
   "source": [
    "# Sample data path (replace with actual path if running locally)\n",
    "file_path = 'Data_Games/data_removed_utility_software.csv' \n",
    "\n",
    "# Load the CSV file into a DataFrame\n",
    "df = pd.read_csv(file_path)\n",
    "\n",
    "# Remove duplicate games based on 'Name' and 'Release date'\n",
    "df_no_duplicates = df[~df.duplicated(subset=['Name', 'Release date'], keep=False)]\n",
    "\n",
    "# Save the cleaned DataFrame to a new CSV file\n",
    "df_no_duplicates.to_csv('Data_Games/data_removed_duplicates.csv', index=False)"
   ]
  }
 ],
 "metadata": {
  "kernelspec": {
   "display_name": "Python 3 (ipykernel)",
   "language": "python",
   "name": "python3"
  },
  "language_info": {
   "codemirror_mode": {
    "name": "ipython",
    "version": 3
   },
   "file_extension": ".py",
   "mimetype": "text/x-python",
   "name": "python",
   "nbconvert_exporter": "python",
   "pygments_lexer": "ipython3",
   "version": "3.10.7"
  }
 },
 "nbformat": 4,
 "nbformat_minor": 5
}
