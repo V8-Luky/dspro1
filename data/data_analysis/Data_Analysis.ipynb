{
 "cells": [
  {
   "cell_type": "code",
   "execution_count": 20,
   "id": "0f9baf6a-00d9-43a0-8f45-187305cc729d",
   "metadata": {},
   "outputs": [
    {
     "data": {
      "text/plain": [
       "Index(['AppID', 'Name', 'Release date', 'Estimated owners', 'Peak CCU',\n",
       "       'Required age', 'Price', 'Discount', 'DLC count', 'About the game',\n",
       "       'Supported languages', 'Full audio languages', 'Reviews',\n",
       "       'Header image', 'Website', 'Support url', 'Support email', 'Windows',\n",
       "       'Mac', 'Linux', 'Metacritic score', 'Metacritic url', 'User score',\n",
       "       'Positive', 'Negative', 'Score rank', 'Achievements', 'Recommendations',\n",
       "       'Notes', 'Average playtime forever', 'Average playtime two weeks',\n",
       "       'Median playtime forever', 'Median playtime two weeks', 'Developers',\n",
       "       'Publishers', 'Categories', 'Genres', 'Tags', 'Screenshots', 'Movies'],\n",
       "      dtype='object')"
      ]
     },
     "execution_count": 20,
     "metadata": {},
     "output_type": "execute_result"
    }
   ],
   "source": [
    "import pandas as pd\n",
    "import ast\n",
    "\n",
    "# Verify that there is no column 'DiscountDLC count'\n",
    "df = pd.read_csv('data_games/games.csv')\n",
    "\n",
    "df.columns"
   ]
  },
  {
   "cell_type": "code",
   "execution_count": 21,
   "id": "39bf67b9-9d54-482f-9dea-174cc083adc0",
   "metadata": {},
   "outputs": [
    {
     "name": "stdout",
     "output_type": "stream",
     "text": [
      "Specified columns removed successfully.\n"
     ]
    }
   ],
   "source": [
    "# 1. Removal of unecessary columns\n",
    "\n",
    "# Load the CSV file into a DataFrame\n",
    "file_path = 'data_games/games.csv'\n",
    "df = pd.read_csv(file_path)\n",
    "\n",
    "# List of columns to remove\n",
    "columns_to_remove = ['AppID', 'Peak CCU', 'Required age', 'Price', 'DLC count', 'Reviews', \n",
    "                     'Metacritic score', 'User score', 'Discount', 'Full audio languages', \n",
    "                     'Header image', 'Website', 'Support url', \n",
    "                     'Support email', 'Windows', 'Mac', 'Linux', 'Metacritic url', \n",
    "                     'Average playtime forever', 'Average playtime two weeks', \n",
    "                     'Median playtime forever', 'Median playtime two weeks', 'Screenshots', 'Movies', \n",
    "                     'Achievements', 'Recommendations', 'Notes', 'Score rank']\n",
    "\n",
    "# Drop the specified columns\n",
    "df = df.drop(columns=columns_to_remove)\n",
    "\n",
    "# Save the cleaned DataFrame to a new CSV file\n",
    "df.to_csv('data_games/data_after_removing_useless_columns.csv', index=False)\n",
    "\n",
    "print(\"Specified columns removed successfully.\")"
   ]
  },
  {
   "cell_type": "code",
   "execution_count": 22,
   "id": "c66eba0f-95da-41d4-b404-36942091cc5b",
   "metadata": {},
   "outputs": [
    {
     "data": {
      "text/plain": [
       "Index(['Name', 'Release date', 'Estimated owners', 'About the game',\n",
       "       'Supported languages', 'Positive', 'Negative', 'Developers',\n",
       "       'Publishers', 'Categories', 'Genres', 'Tags'],\n",
       "      dtype='object')"
      ]
     },
     "execution_count": 22,
     "metadata": {},
     "output_type": "execute_result"
    }
   ],
   "source": [
    "# 2. Verify columns\n",
    "df = pd.read_csv('data_games/data_after_removing_useless_columns.csv')\n",
    "df.columns"
   ]
  },
  {
   "cell_type": "code",
   "execution_count": 23,
   "id": "b57f8bfd-81f9-408a-8698-03e54d49c03b",
   "metadata": {},
   "outputs": [
    {
     "name": "stdout",
     "output_type": "stream",
     "text": [
      "Name                       6\n",
      "Release date               0\n",
      "Estimated owners           0\n",
      "About the game          4870\n",
      "Supported languages        0\n",
      "Positive                   0\n",
      "Negative                   0\n",
      "Developers              4876\n",
      "Publishers              5136\n",
      "Categories              5913\n",
      "Genres                  4841\n",
      "Tags                   29763\n",
      "dtype: int64\n"
     ]
    }
   ],
   "source": [
    "# 3. Check for missing values\n",
    "df = pd.read_csv('data_games/data_after_removing_useless_columns.csv')\n",
    "missing_values = df.isna().sum()\n",
    "print(missing_values)"
   ]
  },
  {
   "cell_type": "code",
   "execution_count": 24,
   "id": "6e347069-4bfe-4ae0-94ae-94aff19bdfb9",
   "metadata": {},
   "outputs": [
    {
     "name": "stdout",
     "output_type": "stream",
     "text": [
      "Name                   0\n",
      "Release date           0\n",
      "Estimated owners       0\n",
      "About the game         0\n",
      "Supported languages    0\n",
      "Positive               0\n",
      "Negative               0\n",
      "Developers             0\n",
      "Publishers             0\n",
      "Categories             0\n",
      "Genres                 0\n",
      "Tags                   0\n",
      "dtype: int64\n",
      "Missing values handled successfully.\n"
     ]
    }
   ],
   "source": [
    "# 4. Handle missing values\n",
    "\n",
    "# Load the CSV file into a DataFrame\n",
    "df = pd.read_csv('data_games/data_after_removing_useless_columns.csv')\n",
    "\n",
    "# Drop rows with missing 'Name' values\n",
    "df = df.dropna(subset=['Name'])\n",
    "\n",
    "# Fill missing values with placeholders\n",
    "df['About the game'] = df['About the game'].fillna('No description available')\n",
    "df['Developers'] = df['Developers'].fillna('Unknown')\n",
    "df['Publishers'] = df['Publishers'].fillna('Unknown')\n",
    "df['Categories'] = df['Categories'].fillna('Unknown')\n",
    "df['Genres'] = df['Genres'].fillna('Unknown')\n",
    "df['Tags'] = df['Tags'].fillna('No tags available')\n",
    "\n",
    "# Save the cleaned DataFrame to a new CSV file\n",
    "df.to_csv('Data_Games/data_filled_missing_values.csv', index=False)\n",
    "\n",
    "missing_values = df.isna().sum()\n",
    "print(missing_values)\n",
    "print(\"Missing values handled successfully.\")"
   ]
  },
  {
   "cell_type": "code",
   "execution_count": 25,
   "id": "2283df9a-eea0-405d-9c41-8291e39c93bf",
   "metadata": {},
   "outputs": [
    {
     "name": "stdout",
     "output_type": "stream",
     "text": [
      "Data types verified successfully\n"
     ]
    }
   ],
   "source": [
    "# 5. Verifying data types\n",
    "df = pd.read_csv('data_games/data_filled_missing_values.csv')\n",
    "\n",
    "# Convert 'Release date' to datetime\n",
    "df['Release date'] = pd.to_datetime(df['Release date'], errors='coerce')\n",
    "\n",
    "# Save the cleaned DataFrame to a new CSV file\n",
    "df.to_csv('data_games/data_verified_data_types.csv', index=False)\n",
    "print(\"Data types verified successfully\")"
   ]
  },
  {
   "cell_type": "code",
   "execution_count": 55,
   "id": "5603e00a-5c48-4cd2-87ab-4bcd4f94601a",
   "metadata": {},
   "outputs": [
    {
     "name": "stdout",
     "output_type": "stream",
     "text": [
      "Removed japanese and chinese only games successfully\n"
     ]
    }
   ],
   "source": [
    "# 6. Removing japanese and chinese only games\n",
    "\n",
    "# Load the CSV file into a DataFrame\n",
    "df = pd.read_csv('data_games/data_verified_data_types.csv')\n",
    "\n",
    "# Function to convert the string representation of a list into an actual list\n",
    "def parse_languages(languages):\n",
    "    try:\n",
    "        # Convert string to list\n",
    "        return ast.literal_eval(languages)\n",
    "    except (ValueError, SyntaxError):\n",
    "        # Return an empty list if conversion fails\n",
    "        return []\n",
    "\n",
    "# Apply the function to the 'Supported languages' column\n",
    "df['Supported languages'] = df['Supported languages'].apply(parse_languages)\n",
    "\n",
    "# Drop games that support only Japanese or only Simplified Chinese\n",
    "df = df[~df['Supported languages'].apply(lambda x: x == ['Japanese'] or x == ['Simplified Chinese'])]\n",
    "\n",
    "# Column to remove\n",
    "column_to_remove = ['Supported languages']\n",
    "\n",
    "# Drop the specified columns\n",
    "df = df.drop(columns=column_to_remove)\n",
    "\n",
    "# Save the cleaned DataFrame to a new CSV file\n",
    "df.to_csv('data_games/data_removed_jap_chin_games.csv', index=False)\n",
    "print(\"Removed japanese and chinese only games successfully\")"
   ]
  },
  {
   "cell_type": "code",
   "execution_count": 56,
   "id": "6cf893c1-b485-4390-a5d1-b26c5c6ea5a4",
   "metadata": {},
   "outputs": [
    {
     "name": "stdout",
     "output_type": "stream",
     "text": [
      "Removed utility software successfully\n"
     ]
    }
   ],
   "source": [
    "# 7. Removal of utility software\n",
    "\n",
    "# Load the CSV file into a DataFrame\n",
    "df = pd.read_csv('data_games/data_removed_jap_chin_games.csv')\n",
    "\n",
    "# Remove rows that contain 'Utilities' in the 'Tags' column\n",
    "df = df[~df['Tags'].str.contains('Utilities', case=False, na=False)]\n",
    "\n",
    "# Save the cleaned DataFrame to a new CSV file\n",
    "df.to_csv('data_games/data_removed_utility_software.csv', index=False)\n",
    "print(\"Removed utility software successfully\")"
   ]
  },
  {
   "cell_type": "code",
   "execution_count": 57,
   "id": "6548b5b4-a6e2-4741-8101-054342b26b89",
   "metadata": {},
   "outputs": [
    {
     "name": "stdout",
     "output_type": "stream",
     "text": [
      "Removed duplicates successfully\n"
     ]
    }
   ],
   "source": [
    "# 8. Duplicates removal\n",
    "\n",
    "# Load the CSV file into a DataFrame\n",
    "df = pd.read_csv('data_games/data_removed_utility_software.csv')\n",
    "\n",
    "# Remove duplicate games based on 'Name' and 'Release date'\n",
    "df = df[~df.duplicated(subset=['Name', 'Release date'], keep=False)]\n",
    "\n",
    "# Save the cleaned DataFrame to a new CSV file\n",
    "df.to_csv('data_games/data_removed_duplicates.csv', index=False)\n",
    "print(\"Removed duplicates successfully\")"
   ]
  },
  {
   "cell_type": "code",
   "execution_count": 36,
   "id": "10628490-da22-4b1b-bf0b-643efd661801",
   "metadata": {},
   "outputs": [
    {
     "name": "stdout",
     "output_type": "stream",
     "text": [
      "           Positive       Negative\n",
      "count  9.635500e+04   96355.000000\n",
      "mean   8.017267e+02     133.397582\n",
      "std    2.259698e+04    4253.400920\n",
      "min    0.000000e+00       0.000000\n",
      "25%    0.000000e+00       0.000000\n",
      "50%    4.000000e+00       1.000000\n",
      "75%    3.500000e+01      10.000000\n",
      "max    5.764420e+06  895978.000000\n"
     ]
    }
   ],
   "source": [
    "# 9. Checking data distribution\n",
    "\n",
    "# Load the CSV file into a DataFrame\n",
    "df = pd.read_csv('data_games/data_removed_duplicates.csv')\n",
    "\n",
    "print(df.describe())"
   ]
  },
  {
   "cell_type": "code",
   "execution_count": 34,
   "id": "62aba929-cd5c-4a6f-84ea-a341386dda13",
   "metadata": {},
   "outputs": [
    {
     "name": "stdout",
     "output_type": "stream",
     "text": [
      "                           Name Release date      Estimated owners  \\\n",
      "46                   Far Cry® 5   2018-03-26     2000000 - 5000000   \n",
      "56              Forza Horizon 4   2021-03-09     2000000 - 5000000   \n",
      "95          Oxygen Not Included   2019-07-30     2000000 - 5000000   \n",
      "726               Apex Legends™   2020-11-04   20000000 - 50000000   \n",
      "816    American Truck Simulator   2016-02-02     2000000 - 5000000   \n",
      "...                         ...          ...                   ...   \n",
      "82026       Cities: Skylines II   2023-10-24     1000000 - 2000000   \n",
      "82502                  PAYDAY 3   2023-09-21     1000000 - 2000000   \n",
      "82774            The Day Before   2023-12-07    5000000 - 10000000   \n",
      "87659          Dragon's Dogma 2   2024-03-21     1000000 - 2000000   \n",
      "95893        Black Myth: Wukong   2024-08-19  50000000 - 100000000   \n",
      "\n",
      "                                          About the game  \\\n",
      "46     Far Cry comes to America in the latest install...   \n",
      "56     Dynamic seasons change everything at the world...   \n",
      "95     In the space-colony simulation game Oxygen Not...   \n",
      "726    Conquer with character in Apex Legends, a free...   \n",
      "816    Experience legendary American trucks and deliv...   \n",
      "...                                                  ...   \n",
      "82026  Raise a city from the ground up and transform ...   \n",
      "82502  Step out of retirement back into the life of c...   \n",
      "82774  The Day Before offers players a uniquely reima...   \n",
      "87659  Note: There are other sets that include this i...   \n",
      "95893  Black Myth: Wukong is an action RPG rooted in ...   \n",
      "\n",
      "                                     Supported languages  Positive  Negative  \\\n",
      "46     ['English', 'French', 'Italian', 'German', 'Sp...    100620     25286   \n",
      "56     ['English', 'French', 'Italian', 'German', 'Sp...    122539     15095   \n",
      "95     ['English', 'Simplified Chinese', 'Korean', 'R...     82902      3014   \n",
      "726    ['English', 'French', 'Italian', 'German', 'Sp...    415524     66608   \n",
      "816    ['English', 'French', 'Italian', 'German', 'Sp...    104521      3859   \n",
      "...                                                  ...       ...       ...   \n",
      "82026  ['English', 'French', 'Italian', 'German', 'Ja...     23875     15425   \n",
      "82502  ['English', 'French', 'Italian', 'German', 'Sp...     19553     26511   \n",
      "82774  ['English', 'French', 'Italian', 'German', 'Sp...      3506     14077   \n",
      "87659  ['English', 'French', 'Italian', 'German', 'Sp...     24305     23379   \n",
      "95893  ['English', 'French', 'German', 'Spanish - Spa...    663109     28700   \n",
      "\n",
      "                                              Developers           Publishers  \\\n",
      "46     Ubisoft Montreal,Red Storm,Ubisoft Shanghai,Ub...              Ubisoft   \n",
      "56                                      Playground Games    Xbox Game Studios   \n",
      "95                                    Klei Entertainment   Klei Entertainment   \n",
      "726                                Respawn Entertainment      Electronic Arts   \n",
      "816                                         SCS Software         SCS Software   \n",
      "...                                                  ...                  ...   \n",
      "82026                                Colossal Order Ltd.  Paradox Interactive   \n",
      "82502                                 Starbreeze Studios          Deep Silver   \n",
      "82774                                           FNTASTIC      Mytona Fntastic   \n",
      "87659                                   CAPCOM Co., Ltd.     CAPCOM Co., Ltd.   \n",
      "95893                                       Game Science         Game Science   \n",
      "\n",
      "                                              Categories  \\\n",
      "46     Single-player,Multi-player,Co-op,Online Co-op,...   \n",
      "56     Single-player,Multi-player,PvP,Online PvP,Co-o...   \n",
      "95                     Single-player,Steam Trading Cards   \n",
      "726    Multi-player,PvP,Online PvP,Co-op,Online Co-op...   \n",
      "816    Single-player,Multi-player,Co-op,Online Co-op,...   \n",
      "...                                                  ...   \n",
      "82026  Single-player,Steam Achievements,Full controll...   \n",
      "82502  Single-player,Multi-player,Co-op,Online Co-op,...   \n",
      "82774  Multi-player,MMO,PvP,Online PvP,Co-op,Online C...   \n",
      "87659  Single-player,Steam Achievements,Steam Trading...   \n",
      "95893  Single-player,Steam Achievements,Full controll...   \n",
      "\n",
      "                                                  Genres  \\\n",
      "46                                      Action,Adventure   \n",
      "56                                                Racing   \n",
      "95                                      Indie,Simulation   \n",
      "726                        Action,Adventure,Free to Play   \n",
      "816                                     Indie,Simulation   \n",
      "...                                                  ...   \n",
      "82026                                         Simulation   \n",
      "82502                               Action,Adventure,RPG   \n",
      "82774  Action,Adventure,Massively Multiplayer,Early A...   \n",
      "87659                                         Action,RPG   \n",
      "95893                               Action,Adventure,RPG   \n",
      "\n",
      "                                                    Tags  \n",
      "46     Open World,Co-op,Action,Multiplayer,FPS,Shoote...  \n",
      "56     Racing,Open World,Driving,Multiplayer,Online C...  \n",
      "95     Colony Sim,Base-Building,Survival,Resource Man...  \n",
      "726    Free to Play,Multiplayer,Battle Royale,Shooter...  \n",
      "816    Automobile Sim,Driving,Transportation,Open Wor...  \n",
      "...                                                  ...  \n",
      "82026  Simulation,City Builder,Building,Singleplayer,...  \n",
      "82502  Heist,Co-op,Action,Crime,FPS,Multiplayer,Shoot...  \n",
      "82774  Early Access,Multiplayer,Zombies,Post-apocalyp...  \n",
      "87659  RPG,Open World,Action,Action RPG,Adventure,Dra...  \n",
      "95893  Mythology,Action RPG,Action,RPG,Souls-like,Com...  \n",
      "\n",
      "[221 rows x 12 columns]\n"
     ]
    }
   ],
   "source": [
    "# 10. Checking outliers with z-score\n",
    "\n",
    "from scipy import stats\n",
    "\n",
    "# Calculate z-scores for numeric columns\n",
    "numeric_columns = ['Positive', 'Negative']\n",
    "z_scores = stats.zscore(df[numeric_columns])\n",
    "\n",
    "# Identify outliers with z-scores greater than 3 or less than -3\n",
    "outliers = df[(z_scores > 3) | (z_scores < -3)].any(axis=1)\n",
    "\n",
    "# Display the outliers\n",
    "outlier_data = df[outliers]\n",
    "print(outlier_data)"
   ]
  },
  {
   "cell_type": "code",
   "execution_count": 58,
   "id": "9b7e7b63-19ee-4fd0-96ee-d3d5959eca74",
   "metadata": {},
   "outputs": [],
   "source": [
    "# 11. Use max value for estimated owners\n",
    "\n",
    "# Load the CSV file into a DataFrame\n",
    "df = pd.read_csv('data_games/data_removed_duplicates.csv')\n",
    "\n",
    "# Function to extract the maximum value from the 'Estimated owners' range\n",
    "def extract_max_value(range_str):\n",
    "    try:\n",
    "        # Split the range (e.g., \"500000 - 1000000\") and take the max value\n",
    "        max_value = int(range_str.split('-')[-1].strip().replace(',', ''))\n",
    "        return max_value\n",
    "    except Exception:\n",
    "        return 0  # Return 0 for entries like \"0 - 0\" or if parsing fails\n",
    "\n",
    "# Apply the function to the 'Estimated owners' column\n",
    "df['Estimated owners'] = df['Estimated owners'].apply(extract_max_value)\n",
    "\n",
    "df.to_csv('data_games/data_after_estimated_owners_change.csv', index=False)"
   ]
  },
  {
   "cell_type": "code",
   "execution_count": 59,
   "id": "8fcd18c5-a8e3-4cec-aa7f-35dc74c88dfe",
   "metadata": {},
   "outputs": [],
   "source": [
    "# 12. Create popularity feature\n",
    "\n",
    "from sklearn.preprocessing import MinMaxScaler\n",
    "\n",
    "# Load the CSV file into a DataFrame\n",
    "df = pd.read_csv('data_games/data_after_estimated_owners_change.csv')\n",
    "\n",
    "# Define the features for the \"popularity\" calculation\n",
    "features = ['Estimated owners', 'Positive', 'Negative']\n",
    "\n",
    "# Normalize the features using MinMaxScaler\n",
    "scaler = MinMaxScaler()\n",
    "normalized_features = scaler.fit_transform(df[features])\n",
    "\n",
    "# Assign normalized values back to the DataFrame\n",
    "for i, feature in enumerate(features):\n",
    "    df[f'normalized_{feature}'] = normalized_features[:, i]\n",
    "\n",
    "# Calculate the \"popularity\" score using the specified weights\n",
    "df['Popularity'] = (\n",
    "    0.5 * df['normalized_Estimated owners'] +\n",
    "    0.3 * df['normalized_Positive'] +\n",
    "    0.2 * df['normalized_Negative']\n",
    ")\n",
    "\n",
    "# Remove normalized columns\n",
    "columns_to_remove = ['normalized_Estimated owners', 'normalized_Positive', 'normalized_Negative']\n",
    "\n",
    "# Drop the specified columns\n",
    "df = df.drop(columns=columns_to_remove)\n",
    "\n",
    "# Sorting by popularity\n",
    "df = df.sort_values(by='Popularity', ascending=False)\n",
    "\n",
    "# Save the updated DataFrame with the new \"Popularity\" feature\n",
    "df.to_csv('data_games/data_with_popularity.csv', index=False)"
   ]
  },
  {
   "cell_type": "code",
   "execution_count": 60,
   "id": "5606bb83-7638-4eb6-873d-ed9b3a8e4100",
   "metadata": {},
   "outputs": [],
   "source": [
    "# 13. Filtering for Top 10% of all games\n",
    "\n",
    "# Load the CSV file into a DataFrame\n",
    "df = pd.read_csv('data_games/data_with_popularity.csv')\n",
    "\n",
    "# Calculate the top 10% rows\n",
    "top_10_percent_count = int(len(df) * 0.1)\n",
    "df_top_10_percent = df.head(top_10_percent_count)\n",
    "\n",
    "# Save the filtered dataset\n",
    "df_top_10_percent.to_csv('data_games/top_10_percent.csv', index=False)"
   ]
  },
  {
   "cell_type": "code",
   "execution_count": 18,
   "id": "0bb6e2cc-7827-4fa0-ae61-cd965d93754f",
   "metadata": {},
   "outputs": [
    {
     "name": "stdout",
     "output_type": "stream",
     "text": [
      "Cleaned dataset saved to Data_Games/data_ascii_cleaned.csv\n"
     ]
    }
   ],
   "source": [
    "# 14. Removing non-ASCII charecters\n",
    "\n",
    "import re\n",
    "\n",
    "# Load the CSV file into a DataFrame\n",
    "df = pd.read_csv('data_games/top_10_percent.csv')\n",
    "\n",
    "# Function to remove non-ASCII characters from a string\n",
    "def remove_non_ascii(text):\n",
    "    if isinstance(text, str):\n",
    "        return re.sub(r'[^\\x00-\\x7F]+', '', text)\n",
    "    return text\n",
    "\n",
    "# Apply the function to the 'Name' and 'About the game' columns\n",
    "if 'Name' in df.columns:\n",
    "    df['Name'] = df['Name'].apply(remove_non_ascii)\n",
    "\n",
    "if 'About the game' in df.columns:\n",
    "    df['About the game'] = df['About the game'].apply(remove_non_ascii)\n",
    "\n",
    "# Save the cleaned dataset\n",
    "df.to_csv('data_games/data_ascii_cleaned.csv', index=False)"
   ]
  },
  {
   "cell_type": "code",
   "execution_count": 21,
   "id": "28408b45-6e24-4aaf-bccf-68d38e685a96",
   "metadata": {},
   "outputs": [
    {
     "name": "stdout",
     "output_type": "stream",
     "text": [
      "Cleaned dataset saved to Data_Games/data_no_empty_rows.csv\n"
     ]
    }
   ],
   "source": [
    "# 15. Remove new empty rows\n",
    "\n",
    "import pandas as pd\n",
    "\n",
    "# Load the CSV file into a DataFrame\n",
    "df = pd.read_csv('data_games/data_ascii_cleaned.csv')\n",
    "\n",
    "# Remove rows where 'Name' is empty or contains only whitespace\n",
    "if 'Name' in df.columns:\n",
    "    df = df[df['Name'].str.strip().ne('')]\n",
    "\n",
    "# Remove rows where 'About the game' is empty or contains only whitespace\n",
    "if 'About the game' in df.columns:\n",
    "    df = df[df['About the game'].str.strip().ne('')]\n",
    "\n",
    "# Save the cleaned dataset\n",
    "df.to_csv('data_games/data_no_empty_rows', index=False)"
   ]
  }
 ],
 "metadata": {
  "kernelspec": {
   "display_name": "Python 3 (ipykernel)",
   "language": "python",
   "name": "python3"
  },
  "language_info": {
   "codemirror_mode": {
    "name": "ipython",
    "version": 3
   },
   "file_extension": ".py",
   "mimetype": "text/x-python",
   "name": "python",
   "nbconvert_exporter": "python",
   "pygments_lexer": "ipython3",
   "version": "3.10.7"
  }
 },
 "nbformat": 4,
 "nbformat_minor": 5
}
