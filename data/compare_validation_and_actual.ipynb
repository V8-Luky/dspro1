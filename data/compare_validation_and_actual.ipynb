{
 "cells": [
  {
   "cell_type": "code",
   "execution_count": 16,
   "metadata": {},
   "outputs": [],
   "source": [
    "import pandas as pd"
   ]
  },
  {
   "cell_type": "code",
   "execution_count": 17,
   "metadata": {},
   "outputs": [],
   "source": [
    "PATH = r\"C:\\Users\\kybur\\OneDrive - Hochschule Luzern\\Projects\\DSPRO1\\Data\\clean_data.csv\"\n",
    "VALIDATION = r\"validation\\validation_data_top_10_percent.csv\""
   ]
  },
  {
   "cell_type": "code",
   "execution_count": 18,
   "metadata": {},
   "outputs": [],
   "source": [
    "df = pd.read_csv(PATH, delimiter=';', index_col=0) "
   ]
  },
  {
   "cell_type": "code",
   "execution_count": 19,
   "metadata": {},
   "outputs": [],
   "source": [
    "df_vl = pd.read_csv(VALIDATION, delimiter=';', index_col=0)"
   ]
  },
  {
   "cell_type": "code",
   "execution_count": 20,
   "metadata": {},
   "outputs": [],
   "source": [
    "for i in df_vl.index:\n",
    "    if not len(df.loc[i]):\n",
    "        print(\"Validation Name not found: \", i)\n",
    "    "
   ]
  },
  {
   "cell_type": "code",
   "execution_count": 21,
   "metadata": {},
   "outputs": [
    {
     "data": {
      "text/html": [
       "<div>\n",
       "<style scoped>\n",
       "    .dataframe tbody tr th:only-of-type {\n",
       "        vertical-align: middle;\n",
       "    }\n",
       "\n",
       "    .dataframe tbody tr th {\n",
       "        vertical-align: top;\n",
       "    }\n",
       "\n",
       "    .dataframe thead th {\n",
       "        text-align: right;\n",
       "    }\n",
       "</style>\n",
       "<table border=\"1\" class=\"dataframe\">\n",
       "  <thead>\n",
       "    <tr style=\"text-align: right;\">\n",
       "      <th></th>\n",
       "      <th>Release date</th>\n",
       "      <th>Estimated owners</th>\n",
       "      <th>About the game</th>\n",
       "      <th>Positive</th>\n",
       "      <th>Negative</th>\n",
       "      <th>Developers</th>\n",
       "      <th>Publishers</th>\n",
       "      <th>Categories</th>\n",
       "      <th>Genres</th>\n",
       "      <th>Tags</th>\n",
       "      <th>Popularity</th>\n",
       "    </tr>\n",
       "    <tr>\n",
       "      <th>Name</th>\n",
       "      <th></th>\n",
       "      <th></th>\n",
       "      <th></th>\n",
       "      <th></th>\n",
       "      <th></th>\n",
       "      <th></th>\n",
       "      <th></th>\n",
       "      <th></th>\n",
       "      <th></th>\n",
       "      <th></th>\n",
       "      <th></th>\n",
       "    </tr>\n",
       "  </thead>\n",
       "  <tbody>\n",
       "    <tr>\n",
       "      <th>A Total War Saga: TROY</th>\n",
       "      <td>02.09.2021</td>\n",
       "      <td>100000</td>\n",
       "      <td>In this legendary age, heroes walk the earth. ...</td>\n",
       "      <td>1419</td>\n",
       "      <td>551</td>\n",
       "      <td>CREATIVE ASSEMBLY,Feral Interactive (Mac)</td>\n",
       "      <td>SEGA,Feral Interactive (Mac)</td>\n",
       "      <td>Single-player,Multi-player,PvP,Online PvP,LAN ...</td>\n",
       "      <td>Action,Simulation,Strategy</td>\n",
       "      <td>Strategy,Simulation,Action,Historical,RTS,War,...</td>\n",
       "      <td>0.000401</td>\n",
       "    </tr>\n",
       "  </tbody>\n",
       "</table>\n",
       "</div>"
      ],
      "text/plain": [
       "                       Release date  Estimated owners  \\\n",
       "Name                                                    \n",
       "A Total War Saga: TROY   02.09.2021            100000   \n",
       "\n",
       "                                                           About the game  \\\n",
       "Name                                                                        \n",
       "A Total War Saga: TROY  In this legendary age, heroes walk the earth. ...   \n",
       "\n",
       "                        Positive  Negative  \\\n",
       "Name                                         \n",
       "A Total War Saga: TROY      1419       551   \n",
       "\n",
       "                                                       Developers  \\\n",
       "Name                                                                \n",
       "A Total War Saga: TROY  CREATIVE ASSEMBLY,Feral Interactive (Mac)   \n",
       "\n",
       "                                          Publishers  \\\n",
       "Name                                                   \n",
       "A Total War Saga: TROY  SEGA,Feral Interactive (Mac)   \n",
       "\n",
       "                                                               Categories  \\\n",
       "Name                                                                        \n",
       "A Total War Saga: TROY  Single-player,Multi-player,PvP,Online PvP,LAN ...   \n",
       "\n",
       "                                            Genres  \\\n",
       "Name                                                 \n",
       "A Total War Saga: TROY  Action,Simulation,Strategy   \n",
       "\n",
       "                                                                     Tags  \\\n",
       "Name                                                                        \n",
       "A Total War Saga: TROY  Strategy,Simulation,Action,Historical,RTS,War,...   \n",
       "\n",
       "                        Popularity  \n",
       "Name                                \n",
       "A Total War Saga: TROY    0.000401  "
      ]
     },
     "execution_count": 21,
     "metadata": {},
     "output_type": "execute_result"
    }
   ],
   "source": [
    "df[df.index.str.contains(\"A Total War Saga: TROY\")]"
   ]
  },
  {
   "cell_type": "code",
   "execution_count": 22,
   "metadata": {},
   "outputs": [
    {
     "data": {
      "text/html": [
       "<div>\n",
       "<style scoped>\n",
       "    .dataframe tbody tr th:only-of-type {\n",
       "        vertical-align: middle;\n",
       "    }\n",
       "\n",
       "    .dataframe tbody tr th {\n",
       "        vertical-align: top;\n",
       "    }\n",
       "\n",
       "    .dataframe thead th {\n",
       "        text-align: right;\n",
       "    }\n",
       "</style>\n",
       "<table border=\"1\" class=\"dataframe\">\n",
       "  <thead>\n",
       "    <tr style=\"text-align: right;\">\n",
       "      <th></th>\n",
       "      <th>Release date</th>\n",
       "      <th>Estimated owners</th>\n",
       "      <th>About the game</th>\n",
       "      <th>Positive</th>\n",
       "      <th>Negative</th>\n",
       "      <th>Developers</th>\n",
       "      <th>Publishers</th>\n",
       "      <th>Categories</th>\n",
       "      <th>Genres</th>\n",
       "      <th>Tags</th>\n",
       "      <th>Popularity</th>\n",
       "    </tr>\n",
       "    <tr>\n",
       "      <th>Name</th>\n",
       "      <th></th>\n",
       "      <th></th>\n",
       "      <th></th>\n",
       "      <th></th>\n",
       "      <th></th>\n",
       "      <th></th>\n",
       "      <th></th>\n",
       "      <th></th>\n",
       "      <th></th>\n",
       "      <th></th>\n",
       "      <th></th>\n",
       "    </tr>\n",
       "  </thead>\n",
       "  <tbody>\n",
       "    <tr>\n",
       "      <th>A Total War Saga: TROY</th>\n",
       "      <td>02.09.2021</td>\n",
       "      <td>100000</td>\n",
       "      <td>In this legendary age, heroes walk the earth. ...</td>\n",
       "      <td>1419</td>\n",
       "      <td>551</td>\n",
       "      <td>CREATIVE ASSEMBLY,Feral Interactive (Mac)</td>\n",
       "      <td>SEGA,Feral Interactive (Mac)</td>\n",
       "      <td>Single-player,Multi-player,PvP,Online PvP,LAN ...</td>\n",
       "      <td>Action,Simulation,Strategy</td>\n",
       "      <td>Strategy,Simulation,Action,Historical,RTS,War,...</td>\n",
       "      <td>0.000401</td>\n",
       "    </tr>\n",
       "  </tbody>\n",
       "</table>\n",
       "</div>"
      ],
      "text/plain": [
       "                       Release date  Estimated owners  \\\n",
       "Name                                                    \n",
       "A Total War Saga: TROY   02.09.2021            100000   \n",
       "\n",
       "                                                           About the game  \\\n",
       "Name                                                                        \n",
       "A Total War Saga: TROY  In this legendary age, heroes walk the earth. ...   \n",
       "\n",
       "                        Positive  Negative  \\\n",
       "Name                                         \n",
       "A Total War Saga: TROY      1419       551   \n",
       "\n",
       "                                                       Developers  \\\n",
       "Name                                                                \n",
       "A Total War Saga: TROY  CREATIVE ASSEMBLY,Feral Interactive (Mac)   \n",
       "\n",
       "                                          Publishers  \\\n",
       "Name                                                   \n",
       "A Total War Saga: TROY  SEGA,Feral Interactive (Mac)   \n",
       "\n",
       "                                                               Categories  \\\n",
       "Name                                                                        \n",
       "A Total War Saga: TROY  Single-player,Multi-player,PvP,Online PvP,LAN ...   \n",
       "\n",
       "                                            Genres  \\\n",
       "Name                                                 \n",
       "A Total War Saga: TROY  Action,Simulation,Strategy   \n",
       "\n",
       "                                                                     Tags  \\\n",
       "Name                                                                        \n",
       "A Total War Saga: TROY  Strategy,Simulation,Action,Historical,RTS,War,...   \n",
       "\n",
       "                        Popularity  \n",
       "Name                                \n",
       "A Total War Saga: TROY    0.000401  "
      ]
     },
     "execution_count": 22,
     "metadata": {},
     "output_type": "execute_result"
    }
   ],
   "source": [
    "df[df.index == \"A Total War Saga: TROY\"]"
   ]
  },
  {
   "cell_type": "code",
   "execution_count": 23,
   "metadata": {},
   "outputs": [
    {
     "data": {
      "text/plain": [
       "Release date                                               02.09.2021\n",
       "Estimated owners                                               100000\n",
       "About the game      In this legendary age, heroes walk the earth. ...\n",
       "Positive                                                         1419\n",
       "Negative                                                          551\n",
       "Developers                  CREATIVE ASSEMBLY,Feral Interactive (Mac)\n",
       "Publishers                               SEGA,Feral Interactive (Mac)\n",
       "Categories          Single-player,Multi-player,PvP,Online PvP,LAN ...\n",
       "Genres                                     Action,Simulation,Strategy\n",
       "Tags                Strategy,Simulation,Action,Historical,RTS,War,...\n",
       "Popularity                                                   0.000401\n",
       "Name: A Total War Saga: TROY, dtype: object"
      ]
     },
     "execution_count": 23,
     "metadata": {},
     "output_type": "execute_result"
    }
   ],
   "source": [
    "df.loc[\"A Total War Saga: TROY\"]"
   ]
  },
  {
   "cell_type": "code",
   "execution_count": 24,
   "metadata": {},
   "outputs": [
    {
     "data": {
      "text/plain": [
       "Release date                                               04.03.2009\n",
       "Estimated owners                                              5000000\n",
       "About the game      Complete your Total War collection with this D...\n",
       "Positive                                                        25868\n",
       "Negative                                                         2598\n",
       "Developers          CREATIVE ASSEMBLY,Feral Interactive (Mac),Fera...\n",
       "Publishers          SEGA,Feral Interactive (Mac),Feral Interactive...\n",
       "Categories          Single-player,Multi-player,PvP,Online PvP,LAN ...\n",
       "Genres                                                       Strategy\n",
       "Tags                Strategy,Historical,Military,Grand Strategy,Tu...\n",
       "Popularity                                                   0.012495\n",
       "Name: Total War: EMPIRE  Definitive Edition, dtype: object"
      ]
     },
     "execution_count": 24,
     "metadata": {},
     "output_type": "execute_result"
    }
   ],
   "source": [
    "df.loc[\"Total War: EMPIRE  Definitive Edition\"]"
   ]
  },
  {
   "cell_type": "code",
   "execution_count": null,
   "metadata": {},
   "outputs": [],
   "source": []
  },
  {
   "cell_type": "code",
   "execution_count": null,
   "metadata": {},
   "outputs": [],
   "source": []
  }
 ],
 "metadata": {
  "kernelspec": {
   "display_name": ".venv",
   "language": "python",
   "name": "python3"
  },
  "language_info": {
   "codemirror_mode": {
    "name": "ipython",
    "version": 3
   },
   "file_extension": ".py",
   "mimetype": "text/x-python",
   "name": "python",
   "nbconvert_exporter": "python",
   "pygments_lexer": "ipython3",
   "version": "3.12.4"
  }
 },
 "nbformat": 4,
 "nbformat_minor": 2
}
